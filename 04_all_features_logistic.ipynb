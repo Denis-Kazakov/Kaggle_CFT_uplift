{
 "cells": [
  {
   "cell_type": "markdown",
   "id": "c0879b00",
   "metadata": {},
   "source": [
    "# Optimizing logistic regression parameters with all features of the prepared files "
   ]
  },
  {
   "cell_type": "code",
   "execution_count": 7,
   "id": "54e36ed2",
   "metadata": {},
   "outputs": [],
   "source": [
    "import pandas as pd\n",
    "from sklearn.linear_model import LogisticRegression\n",
    "from sklearn.preprocessing import StandardScaler\n",
    "from sklearn.model_selection import train_test_split\n",
    "from sklearn.model_selection import GridSearchCV\n",
    "from sklift.models import ClassTransformation\n",
    "from sklift import metrics\n",
    "from sklift.viz import plot_qini_curve\n",
    "import chime"
   ]
  },
  {
   "cell_type": "code",
   "execution_count": 8,
   "id": "e1d9ecb4",
   "metadata": {},
   "outputs": [
    {
     "name": "stdout",
     "output_type": "stream",
     "text": [
      "The chime extension is already loaded. To reload it, use:\n",
      "  %reload_ext chime\n"
     ]
    }
   ],
   "source": [
    "%load_ext chime"
   ]
  },
  {
   "cell_type": "code",
   "execution_count": 9,
   "id": "e51bc427",
   "metadata": {},
   "outputs": [
    {
     "data": {
      "text/html": [
       "<div>\n",
       "<style scoped>\n",
       "    .dataframe tbody tr th:only-of-type {\n",
       "        vertical-align: middle;\n",
       "    }\n",
       "\n",
       "    .dataframe tbody tr th {\n",
       "        vertical-align: top;\n",
       "    }\n",
       "\n",
       "    .dataframe thead th {\n",
       "        text-align: right;\n",
       "    }\n",
       "</style>\n",
       "<table border=\"1\" class=\"dataframe\">\n",
       "  <thead>\n",
       "    <tr style=\"text-align: right;\">\n",
       "      <th></th>\n",
       "      <th>regular_points_received_mean</th>\n",
       "      <th>regular_points_received_sum</th>\n",
       "      <th>express_points_received_mean</th>\n",
       "      <th>express_points_received_sum</th>\n",
       "      <th>regular_points_spent_mean</th>\n",
       "      <th>regular_points_spent_sum</th>\n",
       "      <th>express_points_spent_mean</th>\n",
       "      <th>express_points_spent_sum</th>\n",
       "      <th>purchase_mean</th>\n",
       "      <th>purchase_sum</th>\n",
       "      <th>first_issue_date</th>\n",
       "      <th>first_redeem_date</th>\n",
       "      <th>age</th>\n",
       "      <th>gender_F</th>\n",
       "      <th>gender_M</th>\n",
       "      <th>no_redeem</th>\n",
       "    </tr>\n",
       "    <tr>\n",
       "      <th>client_id</th>\n",
       "      <th></th>\n",
       "      <th></th>\n",
       "      <th></th>\n",
       "      <th></th>\n",
       "      <th></th>\n",
       "      <th></th>\n",
       "      <th></th>\n",
       "      <th></th>\n",
       "      <th></th>\n",
       "      <th></th>\n",
       "      <th></th>\n",
       "      <th></th>\n",
       "      <th></th>\n",
       "      <th></th>\n",
       "      <th></th>\n",
       "      <th></th>\n",
       "    </tr>\n",
       "  </thead>\n",
       "  <tbody>\n",
       "    <tr>\n",
       "      <th>000012768d</th>\n",
       "      <td>6.425000</td>\n",
       "      <td>25.7</td>\n",
       "      <td>0.000</td>\n",
       "      <td>0.0</td>\n",
       "      <td>0.000000</td>\n",
       "      <td>0.0</td>\n",
       "      <td>0.000000</td>\n",
       "      <td>0.0</td>\n",
       "      <td>700.750000</td>\n",
       "      <td>2803.00</td>\n",
       "      <td>17383</td>\n",
       "      <td>17535</td>\n",
       "      <td>45.000000</td>\n",
       "      <td>0</td>\n",
       "      <td>0</td>\n",
       "      <td>0</td>\n",
       "    </tr>\n",
       "    <tr>\n",
       "      <th>000036f903</th>\n",
       "      <td>1.715625</td>\n",
       "      <td>54.9</td>\n",
       "      <td>1.875</td>\n",
       "      <td>60.0</td>\n",
       "      <td>0.000000</td>\n",
       "      <td>0.0</td>\n",
       "      <td>0.000000</td>\n",
       "      <td>0.0</td>\n",
       "      <td>306.406250</td>\n",
       "      <td>9805.00</td>\n",
       "      <td>17266</td>\n",
       "      <td>17279</td>\n",
       "      <td>72.000000</td>\n",
       "      <td>1</td>\n",
       "      <td>0</td>\n",
       "      <td>0</td>\n",
       "    </tr>\n",
       "    <tr>\n",
       "      <th>0001f552b0</th>\n",
       "      <td>5.260000</td>\n",
       "      <td>78.9</td>\n",
       "      <td>0.000</td>\n",
       "      <td>0.0</td>\n",
       "      <td>0.000000</td>\n",
       "      <td>0.0</td>\n",
       "      <td>0.000000</td>\n",
       "      <td>0.0</td>\n",
       "      <td>410.345333</td>\n",
       "      <td>6155.18</td>\n",
       "      <td>17347</td>\n",
       "      <td>17771</td>\n",
       "      <td>33.000000</td>\n",
       "      <td>1</td>\n",
       "      <td>0</td>\n",
       "      <td>0</td>\n",
       "    </tr>\n",
       "    <tr>\n",
       "      <th>00020e7b18</th>\n",
       "      <td>15.894444</td>\n",
       "      <td>286.1</td>\n",
       "      <td>0.000</td>\n",
       "      <td>0.0</td>\n",
       "      <td>-32.888889</td>\n",
       "      <td>-592.0</td>\n",
       "      <td>-1.666667</td>\n",
       "      <td>-30.0</td>\n",
       "      <td>1434.422778</td>\n",
       "      <td>25819.61</td>\n",
       "      <td>17497</td>\n",
       "      <td>17541</td>\n",
       "      <td>73.000000</td>\n",
       "      <td>0</td>\n",
       "      <td>0</td>\n",
       "      <td>0</td>\n",
       "    </tr>\n",
       "    <tr>\n",
       "      <th>000220a0a7</th>\n",
       "      <td>6.940000</td>\n",
       "      <td>104.1</td>\n",
       "      <td>0.000</td>\n",
       "      <td>0.0</td>\n",
       "      <td>0.000000</td>\n",
       "      <td>0.0</td>\n",
       "      <td>0.000000</td>\n",
       "      <td>0.0</td>\n",
       "      <td>573.771333</td>\n",
       "      <td>8606.57</td>\n",
       "      <td>17509</td>\n",
       "      <td>17808</td>\n",
       "      <td>46.379533</td>\n",
       "      <td>0</td>\n",
       "      <td>1</td>\n",
       "      <td>0</td>\n",
       "    </tr>\n",
       "    <tr>\n",
       "      <th>...</th>\n",
       "      <td>...</td>\n",
       "      <td>...</td>\n",
       "      <td>...</td>\n",
       "      <td>...</td>\n",
       "      <td>...</td>\n",
       "      <td>...</td>\n",
       "      <td>...</td>\n",
       "      <td>...</td>\n",
       "      <td>...</td>\n",
       "      <td>...</td>\n",
       "      <td>...</td>\n",
       "      <td>...</td>\n",
       "      <td>...</td>\n",
       "      <td>...</td>\n",
       "      <td>...</td>\n",
       "      <td>...</td>\n",
       "    </tr>\n",
       "    <tr>\n",
       "      <th>fffd5cd0c6</th>\n",
       "      <td>1.950000</td>\n",
       "      <td>35.1</td>\n",
       "      <td>0.000</td>\n",
       "      <td>0.0</td>\n",
       "      <td>0.000000</td>\n",
       "      <td>0.0</td>\n",
       "      <td>0.000000</td>\n",
       "      <td>0.0</td>\n",
       "      <td>318.423889</td>\n",
       "      <td>5731.63</td>\n",
       "      <td>17343</td>\n",
       "      <td>17797</td>\n",
       "      <td>47.000000</td>\n",
       "      <td>0</td>\n",
       "      <td>1</td>\n",
       "      <td>0</td>\n",
       "    </tr>\n",
       "    <tr>\n",
       "      <th>fffd63dfe3</th>\n",
       "      <td>1.625000</td>\n",
       "      <td>6.5</td>\n",
       "      <td>0.000</td>\n",
       "      <td>0.0</td>\n",
       "      <td>0.000000</td>\n",
       "      <td>0.0</td>\n",
       "      <td>0.000000</td>\n",
       "      <td>0.0</td>\n",
       "      <td>335.127500</td>\n",
       "      <td>1340.51</td>\n",
       "      <td>17312</td>\n",
       "      <td>17578</td>\n",
       "      <td>31.000000</td>\n",
       "      <td>0</td>\n",
       "      <td>0</td>\n",
       "      <td>0</td>\n",
       "    </tr>\n",
       "    <tr>\n",
       "      <th>fffd8c9d7d</th>\n",
       "      <td>2.200000</td>\n",
       "      <td>11.0</td>\n",
       "      <td>0.000</td>\n",
       "      <td>0.0</td>\n",
       "      <td>0.000000</td>\n",
       "      <td>0.0</td>\n",
       "      <td>0.000000</td>\n",
       "      <td>0.0</td>\n",
       "      <td>327.306000</td>\n",
       "      <td>1636.53</td>\n",
       "      <td>17582</td>\n",
       "      <td>17712</td>\n",
       "      <td>48.000000</td>\n",
       "      <td>1</td>\n",
       "      <td>0</td>\n",
       "      <td>0</td>\n",
       "    </tr>\n",
       "    <tr>\n",
       "      <th>fffe0abb97</th>\n",
       "      <td>2.466667</td>\n",
       "      <td>22.2</td>\n",
       "      <td>0.000</td>\n",
       "      <td>0.0</td>\n",
       "      <td>-2.888889</td>\n",
       "      <td>-26.0</td>\n",
       "      <td>-16.666667</td>\n",
       "      <td>-150.0</td>\n",
       "      <td>301.824444</td>\n",
       "      <td>2716.42</td>\n",
       "      <td>17497</td>\n",
       "      <td>17573</td>\n",
       "      <td>35.000000</td>\n",
       "      <td>1</td>\n",
       "      <td>0</td>\n",
       "      <td>0</td>\n",
       "    </tr>\n",
       "    <tr>\n",
       "      <th>fffeca6d22</th>\n",
       "      <td>2.962500</td>\n",
       "      <td>47.4</td>\n",
       "      <td>0.000</td>\n",
       "      <td>0.0</td>\n",
       "      <td>0.000000</td>\n",
       "      <td>0.0</td>\n",
       "      <td>0.000000</td>\n",
       "      <td>0.0</td>\n",
       "      <td>177.053750</td>\n",
       "      <td>2832.86</td>\n",
       "      <td>17528</td>\n",
       "      <td>18220</td>\n",
       "      <td>77.000000</td>\n",
       "      <td>1</td>\n",
       "      <td>0</td>\n",
       "      <td>1</td>\n",
       "    </tr>\n",
       "  </tbody>\n",
       "</table>\n",
       "<p>140027 rows × 16 columns</p>\n",
       "</div>"
      ],
      "text/plain": [
       "            regular_points_received_mean  regular_points_received_sum  \\\n",
       "client_id                                                               \n",
       "000012768d                      6.425000                         25.7   \n",
       "000036f903                      1.715625                         54.9   \n",
       "0001f552b0                      5.260000                         78.9   \n",
       "00020e7b18                     15.894444                        286.1   \n",
       "000220a0a7                      6.940000                        104.1   \n",
       "...                                  ...                          ...   \n",
       "fffd5cd0c6                      1.950000                         35.1   \n",
       "fffd63dfe3                      1.625000                          6.5   \n",
       "fffd8c9d7d                      2.200000                         11.0   \n",
       "fffe0abb97                      2.466667                         22.2   \n",
       "fffeca6d22                      2.962500                         47.4   \n",
       "\n",
       "            express_points_received_mean  express_points_received_sum  \\\n",
       "client_id                                                               \n",
       "000012768d                         0.000                          0.0   \n",
       "000036f903                         1.875                         60.0   \n",
       "0001f552b0                         0.000                          0.0   \n",
       "00020e7b18                         0.000                          0.0   \n",
       "000220a0a7                         0.000                          0.0   \n",
       "...                                  ...                          ...   \n",
       "fffd5cd0c6                         0.000                          0.0   \n",
       "fffd63dfe3                         0.000                          0.0   \n",
       "fffd8c9d7d                         0.000                          0.0   \n",
       "fffe0abb97                         0.000                          0.0   \n",
       "fffeca6d22                         0.000                          0.0   \n",
       "\n",
       "            regular_points_spent_mean  regular_points_spent_sum  \\\n",
       "client_id                                                         \n",
       "000012768d                   0.000000                       0.0   \n",
       "000036f903                   0.000000                       0.0   \n",
       "0001f552b0                   0.000000                       0.0   \n",
       "00020e7b18                 -32.888889                    -592.0   \n",
       "000220a0a7                   0.000000                       0.0   \n",
       "...                               ...                       ...   \n",
       "fffd5cd0c6                   0.000000                       0.0   \n",
       "fffd63dfe3                   0.000000                       0.0   \n",
       "fffd8c9d7d                   0.000000                       0.0   \n",
       "fffe0abb97                  -2.888889                     -26.0   \n",
       "fffeca6d22                   0.000000                       0.0   \n",
       "\n",
       "            express_points_spent_mean  express_points_spent_sum  \\\n",
       "client_id                                                         \n",
       "000012768d                   0.000000                       0.0   \n",
       "000036f903                   0.000000                       0.0   \n",
       "0001f552b0                   0.000000                       0.0   \n",
       "00020e7b18                  -1.666667                     -30.0   \n",
       "000220a0a7                   0.000000                       0.0   \n",
       "...                               ...                       ...   \n",
       "fffd5cd0c6                   0.000000                       0.0   \n",
       "fffd63dfe3                   0.000000                       0.0   \n",
       "fffd8c9d7d                   0.000000                       0.0   \n",
       "fffe0abb97                 -16.666667                    -150.0   \n",
       "fffeca6d22                   0.000000                       0.0   \n",
       "\n",
       "            purchase_mean  purchase_sum  first_issue_date  first_redeem_date  \\\n",
       "client_id                                                                      \n",
       "000012768d     700.750000       2803.00             17383              17535   \n",
       "000036f903     306.406250       9805.00             17266              17279   \n",
       "0001f552b0     410.345333       6155.18             17347              17771   \n",
       "00020e7b18    1434.422778      25819.61             17497              17541   \n",
       "000220a0a7     573.771333       8606.57             17509              17808   \n",
       "...                   ...           ...               ...                ...   \n",
       "fffd5cd0c6     318.423889       5731.63             17343              17797   \n",
       "fffd63dfe3     335.127500       1340.51             17312              17578   \n",
       "fffd8c9d7d     327.306000       1636.53             17582              17712   \n",
       "fffe0abb97     301.824444       2716.42             17497              17573   \n",
       "fffeca6d22     177.053750       2832.86             17528              18220   \n",
       "\n",
       "                  age  gender_F  gender_M  no_redeem  \n",
       "client_id                                             \n",
       "000012768d  45.000000         0         0          0  \n",
       "000036f903  72.000000         1         0          0  \n",
       "0001f552b0  33.000000         1         0          0  \n",
       "00020e7b18  73.000000         0         0          0  \n",
       "000220a0a7  46.379533         0         1          0  \n",
       "...               ...       ...       ...        ...  \n",
       "fffd5cd0c6  47.000000         0         1          0  \n",
       "fffd63dfe3  31.000000         0         0          0  \n",
       "fffd8c9d7d  48.000000         1         0          0  \n",
       "fffe0abb97  35.000000         1         0          0  \n",
       "fffeca6d22  77.000000         1         0          1  \n",
       "\n",
       "[140027 rows x 16 columns]"
      ]
     },
     "execution_count": 9,
     "metadata": {},
     "output_type": "execute_result"
    }
   ],
   "source": [
    "clients = pd.read_csv('clients_train_modified.csv', index_col='client_id')\n",
    "clients"
   ]
  },
  {
   "cell_type": "code",
   "execution_count": 10,
   "id": "3b33f702",
   "metadata": {},
   "outputs": [],
   "source": [
    "x_cols = clients.columns"
   ]
  },
  {
   "cell_type": "code",
   "execution_count": 11,
   "id": "daf45508",
   "metadata": {},
   "outputs": [],
   "source": [
    "scaler = StandardScaler()"
   ]
  },
  {
   "cell_type": "code",
   "execution_count": 12,
   "id": "8522825a",
   "metadata": {},
   "outputs": [
    {
     "data": {
      "text/html": [
       "<style>#sk-container-id-1 {color: black;background-color: white;}#sk-container-id-1 pre{padding: 0;}#sk-container-id-1 div.sk-toggleable {background-color: white;}#sk-container-id-1 label.sk-toggleable__label {cursor: pointer;display: block;width: 100%;margin-bottom: 0;padding: 0.3em;box-sizing: border-box;text-align: center;}#sk-container-id-1 label.sk-toggleable__label-arrow:before {content: \"▸\";float: left;margin-right: 0.25em;color: #696969;}#sk-container-id-1 label.sk-toggleable__label-arrow:hover:before {color: black;}#sk-container-id-1 div.sk-estimator:hover label.sk-toggleable__label-arrow:before {color: black;}#sk-container-id-1 div.sk-toggleable__content {max-height: 0;max-width: 0;overflow: hidden;text-align: left;background-color: #f0f8ff;}#sk-container-id-1 div.sk-toggleable__content pre {margin: 0.2em;color: black;border-radius: 0.25em;background-color: #f0f8ff;}#sk-container-id-1 input.sk-toggleable__control:checked~div.sk-toggleable__content {max-height: 200px;max-width: 100%;overflow: auto;}#sk-container-id-1 input.sk-toggleable__control:checked~label.sk-toggleable__label-arrow:before {content: \"▾\";}#sk-container-id-1 div.sk-estimator input.sk-toggleable__control:checked~label.sk-toggleable__label {background-color: #d4ebff;}#sk-container-id-1 div.sk-label input.sk-toggleable__control:checked~label.sk-toggleable__label {background-color: #d4ebff;}#sk-container-id-1 input.sk-hidden--visually {border: 0;clip: rect(1px 1px 1px 1px);clip: rect(1px, 1px, 1px, 1px);height: 1px;margin: -1px;overflow: hidden;padding: 0;position: absolute;width: 1px;}#sk-container-id-1 div.sk-estimator {font-family: monospace;background-color: #f0f8ff;border: 1px dotted black;border-radius: 0.25em;box-sizing: border-box;margin-bottom: 0.5em;}#sk-container-id-1 div.sk-estimator:hover {background-color: #d4ebff;}#sk-container-id-1 div.sk-parallel-item::after {content: \"\";width: 100%;border-bottom: 1px solid gray;flex-grow: 1;}#sk-container-id-1 div.sk-label:hover label.sk-toggleable__label {background-color: #d4ebff;}#sk-container-id-1 div.sk-serial::before {content: \"\";position: absolute;border-left: 1px solid gray;box-sizing: border-box;top: 0;bottom: 0;left: 50%;z-index: 0;}#sk-container-id-1 div.sk-serial {display: flex;flex-direction: column;align-items: center;background-color: white;padding-right: 0.2em;padding-left: 0.2em;position: relative;}#sk-container-id-1 div.sk-item {position: relative;z-index: 1;}#sk-container-id-1 div.sk-parallel {display: flex;align-items: stretch;justify-content: center;background-color: white;position: relative;}#sk-container-id-1 div.sk-item::before, #sk-container-id-1 div.sk-parallel-item::before {content: \"\";position: absolute;border-left: 1px solid gray;box-sizing: border-box;top: 0;bottom: 0;left: 50%;z-index: -1;}#sk-container-id-1 div.sk-parallel-item {display: flex;flex-direction: column;z-index: 1;position: relative;background-color: white;}#sk-container-id-1 div.sk-parallel-item:first-child::after {align-self: flex-end;width: 50%;}#sk-container-id-1 div.sk-parallel-item:last-child::after {align-self: flex-start;width: 50%;}#sk-container-id-1 div.sk-parallel-item:only-child::after {width: 0;}#sk-container-id-1 div.sk-dashed-wrapped {border: 1px dashed gray;margin: 0 0.4em 0.5em 0.4em;box-sizing: border-box;padding-bottom: 0.4em;background-color: white;}#sk-container-id-1 div.sk-label label {font-family: monospace;font-weight: bold;display: inline-block;line-height: 1.2em;}#sk-container-id-1 div.sk-label-container {text-align: center;}#sk-container-id-1 div.sk-container {/* jupyter's `normalize.less` sets `[hidden] { display: none; }` but bootstrap.min.css set `[hidden] { display: none !important; }` so we also need the `!important` here to be able to override the default hidden behavior on the sphinx rendered scikit-learn.org. See: https://github.com/scikit-learn/scikit-learn/issues/21755 */display: inline-block !important;position: relative;}#sk-container-id-1 div.sk-text-repr-fallback {display: none;}</style><div id=\"sk-container-id-1\" class=\"sk-top-container\"><div class=\"sk-text-repr-fallback\"><pre>StandardScaler()</pre><b>In a Jupyter environment, please rerun this cell to show the HTML representation or trust the notebook. <br />On GitHub, the HTML representation is unable to render, please try loading this page with nbviewer.org.</b></div><div class=\"sk-container\" hidden><div class=\"sk-item\"><div class=\"sk-estimator sk-toggleable\"><input class=\"sk-toggleable__control sk-hidden--visually\" id=\"sk-estimator-id-1\" type=\"checkbox\" checked><label for=\"sk-estimator-id-1\" class=\"sk-toggleable__label sk-toggleable__label-arrow\">StandardScaler</label><div class=\"sk-toggleable__content\"><pre>StandardScaler()</pre></div></div></div></div></div>"
      ],
      "text/plain": [
       "StandardScaler()"
      ]
     },
     "execution_count": 12,
     "metadata": {},
     "output_type": "execute_result"
    }
   ],
   "source": [
    "scaler.fit(clients)"
   ]
  },
  {
   "cell_type": "code",
   "execution_count": 13,
   "id": "a7456b5f",
   "metadata": {},
   "outputs": [
    {
     "data": {
      "text/html": [
       "<div>\n",
       "<style scoped>\n",
       "    .dataframe tbody tr th:only-of-type {\n",
       "        vertical-align: middle;\n",
       "    }\n",
       "\n",
       "    .dataframe tbody tr th {\n",
       "        vertical-align: top;\n",
       "    }\n",
       "\n",
       "    .dataframe thead th {\n",
       "        text-align: right;\n",
       "    }\n",
       "</style>\n",
       "<table border=\"1\" class=\"dataframe\">\n",
       "  <thead>\n",
       "    <tr style=\"text-align: right;\">\n",
       "      <th></th>\n",
       "      <th>regular_points_received_mean</th>\n",
       "      <th>regular_points_received_sum</th>\n",
       "      <th>express_points_received_mean</th>\n",
       "      <th>express_points_received_sum</th>\n",
       "      <th>regular_points_spent_mean</th>\n",
       "      <th>regular_points_spent_sum</th>\n",
       "      <th>express_points_spent_mean</th>\n",
       "      <th>express_points_spent_sum</th>\n",
       "      <th>purchase_mean</th>\n",
       "      <th>purchase_sum</th>\n",
       "      <th>first_issue_date</th>\n",
       "      <th>first_redeem_date</th>\n",
       "      <th>age</th>\n",
       "      <th>gender_F</th>\n",
       "      <th>gender_M</th>\n",
       "      <th>no_redeem</th>\n",
       "    </tr>\n",
       "    <tr>\n",
       "      <th>client_id</th>\n",
       "      <th></th>\n",
       "      <th></th>\n",
       "      <th></th>\n",
       "      <th></th>\n",
       "      <th></th>\n",
       "      <th></th>\n",
       "      <th></th>\n",
       "      <th></th>\n",
       "      <th></th>\n",
       "      <th></th>\n",
       "      <th></th>\n",
       "      <th></th>\n",
       "      <th></th>\n",
       "      <th></th>\n",
       "      <th></th>\n",
       "      <th></th>\n",
       "    </tr>\n",
       "  </thead>\n",
       "  <tbody>\n",
       "    <tr>\n",
       "      <th>000012768d</th>\n",
       "      <td>0.326493</td>\n",
       "      <td>-0.544865</td>\n",
       "      <td>-0.072084</td>\n",
       "      <td>-0.102507</td>\n",
       "      <td>0.433102</td>\n",
       "      <td>0.563999</td>\n",
       "      <td>0.246932</td>\n",
       "      <td>0.395964</td>\n",
       "      <td>0.547587</td>\n",
       "      <td>-0.653612</td>\n",
       "      <td>-0.771133</td>\n",
       "      <td>-0.856385</td>\n",
       "      <td>-0.087757</td>\n",
       "      <td>-0.763412</td>\n",
       "      <td>-0.449111</td>\n",
       "      <td>-0.311067</td>\n",
       "    </tr>\n",
       "    <tr>\n",
       "      <th>000036f903</th>\n",
       "      <td>-0.597875</td>\n",
       "      <td>-0.239623</td>\n",
       "      <td>3.369176</td>\n",
       "      <td>7.499476</td>\n",
       "      <td>0.433102</td>\n",
       "      <td>0.563999</td>\n",
       "      <td>0.246932</td>\n",
       "      <td>0.395964</td>\n",
       "      <td>-0.504430</td>\n",
       "      <td>0.138021</td>\n",
       "      <td>-1.344979</td>\n",
       "      <td>-1.862848</td>\n",
       "      <td>1.615961</td>\n",
       "      <td>1.309908</td>\n",
       "      <td>-0.449111</td>\n",
       "      <td>-0.311067</td>\n",
       "    </tr>\n",
       "    <tr>\n",
       "      <th>0001f552b0</th>\n",
       "      <td>0.097824</td>\n",
       "      <td>0.011260</td>\n",
       "      <td>-0.072084</td>\n",
       "      <td>-0.102507</td>\n",
       "      <td>0.433102</td>\n",
       "      <td>0.563999</td>\n",
       "      <td>0.246932</td>\n",
       "      <td>0.395964</td>\n",
       "      <td>-0.227145</td>\n",
       "      <td>-0.274621</td>\n",
       "      <td>-0.947701</td>\n",
       "      <td>0.071448</td>\n",
       "      <td>-0.844965</td>\n",
       "      <td>1.309908</td>\n",
       "      <td>-0.449111</td>\n",
       "      <td>-0.311067</td>\n",
       "    </tr>\n",
       "    <tr>\n",
       "      <th>00020e7b18</th>\n",
       "      <td>2.185181</td>\n",
       "      <td>2.177224</td>\n",
       "      <td>-0.072084</td>\n",
       "      <td>-0.102507</td>\n",
       "      <td>-3.206022</td>\n",
       "      <td>-4.001476</td>\n",
       "      <td>-0.403913</td>\n",
       "      <td>-1.443925</td>\n",
       "      <td>2.504855</td>\n",
       "      <td>1.948604</td>\n",
       "      <td>-0.212002</td>\n",
       "      <td>-0.832796</td>\n",
       "      <td>1.679061</td>\n",
       "      <td>-0.763412</td>\n",
       "      <td>-0.449111</td>\n",
       "      <td>-0.311067</td>\n",
       "    </tr>\n",
       "    <tr>\n",
       "      <th>000220a0a7</th>\n",
       "      <td>0.427579</td>\n",
       "      <td>0.274688</td>\n",
       "      <td>-0.072084</td>\n",
       "      <td>-0.102507</td>\n",
       "      <td>0.433102</td>\n",
       "      <td>0.563999</td>\n",
       "      <td>0.246932</td>\n",
       "      <td>0.395964</td>\n",
       "      <td>0.208837</td>\n",
       "      <td>0.002529</td>\n",
       "      <td>-0.153146</td>\n",
       "      <td>0.216913</td>\n",
       "      <td>-0.000708</td>\n",
       "      <td>-0.763412</td>\n",
       "      <td>2.226620</td>\n",
       "      <td>-0.311067</td>\n",
       "    </tr>\n",
       "    <tr>\n",
       "      <th>...</th>\n",
       "      <td>...</td>\n",
       "      <td>...</td>\n",
       "      <td>...</td>\n",
       "      <td>...</td>\n",
       "      <td>...</td>\n",
       "      <td>...</td>\n",
       "      <td>...</td>\n",
       "      <td>...</td>\n",
       "      <td>...</td>\n",
       "      <td>...</td>\n",
       "      <td>...</td>\n",
       "      <td>...</td>\n",
       "      <td>...</td>\n",
       "      <td>...</td>\n",
       "      <td>...</td>\n",
       "      <td>...</td>\n",
       "    </tr>\n",
       "    <tr>\n",
       "      <th>fffd5cd0c6</th>\n",
       "      <td>-0.551871</td>\n",
       "      <td>-0.446602</td>\n",
       "      <td>-0.072084</td>\n",
       "      <td>-0.102507</td>\n",
       "      <td>0.433102</td>\n",
       "      <td>0.563999</td>\n",
       "      <td>0.246932</td>\n",
       "      <td>0.395964</td>\n",
       "      <td>-0.472370</td>\n",
       "      <td>-0.322507</td>\n",
       "      <td>-0.967320</td>\n",
       "      <td>0.173667</td>\n",
       "      <td>0.038444</td>\n",
       "      <td>-0.763412</td>\n",
       "      <td>2.226620</td>\n",
       "      <td>-0.311067</td>\n",
       "    </tr>\n",
       "    <tr>\n",
       "      <th>fffd63dfe3</th>\n",
       "      <td>-0.615663</td>\n",
       "      <td>-0.745572</td>\n",
       "      <td>-0.072084</td>\n",
       "      <td>-0.102507</td>\n",
       "      <td>0.433102</td>\n",
       "      <td>0.563999</td>\n",
       "      <td>0.246932</td>\n",
       "      <td>0.395964</td>\n",
       "      <td>-0.427809</td>\n",
       "      <td>-0.818959</td>\n",
       "      <td>-1.119365</td>\n",
       "      <td>-0.687331</td>\n",
       "      <td>-0.971167</td>\n",
       "      <td>-0.763412</td>\n",
       "      <td>-0.449111</td>\n",
       "      <td>-0.311067</td>\n",
       "    </tr>\n",
       "    <tr>\n",
       "      <th>fffd8c9d7d</th>\n",
       "      <td>-0.502801</td>\n",
       "      <td>-0.698532</td>\n",
       "      <td>-0.072084</td>\n",
       "      <td>-0.102507</td>\n",
       "      <td>0.433102</td>\n",
       "      <td>0.563999</td>\n",
       "      <td>0.246932</td>\n",
       "      <td>0.395964</td>\n",
       "      <td>-0.448675</td>\n",
       "      <td>-0.785491</td>\n",
       "      <td>0.204895</td>\n",
       "      <td>-0.160510</td>\n",
       "      <td>0.101545</td>\n",
       "      <td>1.309908</td>\n",
       "      <td>-0.449111</td>\n",
       "      <td>-0.311067</td>\n",
       "    </tr>\n",
       "    <tr>\n",
       "      <th>fffe0abb97</th>\n",
       "      <td>-0.450459</td>\n",
       "      <td>-0.581452</td>\n",
       "      <td>-0.072084</td>\n",
       "      <td>-0.102507</td>\n",
       "      <td>0.113449</td>\n",
       "      <td>0.363488</td>\n",
       "      <td>-6.261521</td>\n",
       "      <td>-8.803480</td>\n",
       "      <td>-0.516653</td>\n",
       "      <td>-0.663401</td>\n",
       "      <td>-0.212002</td>\n",
       "      <td>-0.706988</td>\n",
       "      <td>-0.718764</td>\n",
       "      <td>1.309908</td>\n",
       "      <td>-0.449111</td>\n",
       "      <td>-0.311067</td>\n",
       "    </tr>\n",
       "    <tr>\n",
       "      <th>fffeca6d22</th>\n",
       "      <td>-0.353135</td>\n",
       "      <td>-0.318025</td>\n",
       "      <td>-0.072084</td>\n",
       "      <td>-0.102507</td>\n",
       "      <td>0.433102</td>\n",
       "      <td>0.563999</td>\n",
       "      <td>0.246932</td>\n",
       "      <td>0.395964</td>\n",
       "      <td>-0.849513</td>\n",
       "      <td>-0.650237</td>\n",
       "      <td>-0.059957</td>\n",
       "      <td>1.836689</td>\n",
       "      <td>1.931464</td>\n",
       "      <td>1.309908</td>\n",
       "      <td>-0.449111</td>\n",
       "      <td>3.214739</td>\n",
       "    </tr>\n",
       "  </tbody>\n",
       "</table>\n",
       "<p>140027 rows × 16 columns</p>\n",
       "</div>"
      ],
      "text/plain": [
       "            regular_points_received_mean  regular_points_received_sum  \\\n",
       "client_id                                                               \n",
       "000012768d                      0.326493                    -0.544865   \n",
       "000036f903                     -0.597875                    -0.239623   \n",
       "0001f552b0                      0.097824                     0.011260   \n",
       "00020e7b18                      2.185181                     2.177224   \n",
       "000220a0a7                      0.427579                     0.274688   \n",
       "...                                  ...                          ...   \n",
       "fffd5cd0c6                     -0.551871                    -0.446602   \n",
       "fffd63dfe3                     -0.615663                    -0.745572   \n",
       "fffd8c9d7d                     -0.502801                    -0.698532   \n",
       "fffe0abb97                     -0.450459                    -0.581452   \n",
       "fffeca6d22                     -0.353135                    -0.318025   \n",
       "\n",
       "            express_points_received_mean  express_points_received_sum  \\\n",
       "client_id                                                               \n",
       "000012768d                     -0.072084                    -0.102507   \n",
       "000036f903                      3.369176                     7.499476   \n",
       "0001f552b0                     -0.072084                    -0.102507   \n",
       "00020e7b18                     -0.072084                    -0.102507   \n",
       "000220a0a7                     -0.072084                    -0.102507   \n",
       "...                                  ...                          ...   \n",
       "fffd5cd0c6                     -0.072084                    -0.102507   \n",
       "fffd63dfe3                     -0.072084                    -0.102507   \n",
       "fffd8c9d7d                     -0.072084                    -0.102507   \n",
       "fffe0abb97                     -0.072084                    -0.102507   \n",
       "fffeca6d22                     -0.072084                    -0.102507   \n",
       "\n",
       "            regular_points_spent_mean  regular_points_spent_sum  \\\n",
       "client_id                                                         \n",
       "000012768d                   0.433102                  0.563999   \n",
       "000036f903                   0.433102                  0.563999   \n",
       "0001f552b0                   0.433102                  0.563999   \n",
       "00020e7b18                  -3.206022                 -4.001476   \n",
       "000220a0a7                   0.433102                  0.563999   \n",
       "...                               ...                       ...   \n",
       "fffd5cd0c6                   0.433102                  0.563999   \n",
       "fffd63dfe3                   0.433102                  0.563999   \n",
       "fffd8c9d7d                   0.433102                  0.563999   \n",
       "fffe0abb97                   0.113449                  0.363488   \n",
       "fffeca6d22                   0.433102                  0.563999   \n",
       "\n",
       "            express_points_spent_mean  express_points_spent_sum  \\\n",
       "client_id                                                         \n",
       "000012768d                   0.246932                  0.395964   \n",
       "000036f903                   0.246932                  0.395964   \n",
       "0001f552b0                   0.246932                  0.395964   \n",
       "00020e7b18                  -0.403913                 -1.443925   \n",
       "000220a0a7                   0.246932                  0.395964   \n",
       "...                               ...                       ...   \n",
       "fffd5cd0c6                   0.246932                  0.395964   \n",
       "fffd63dfe3                   0.246932                  0.395964   \n",
       "fffd8c9d7d                   0.246932                  0.395964   \n",
       "fffe0abb97                  -6.261521                 -8.803480   \n",
       "fffeca6d22                   0.246932                  0.395964   \n",
       "\n",
       "            purchase_mean  purchase_sum  first_issue_date  first_redeem_date  \\\n",
       "client_id                                                                      \n",
       "000012768d       0.547587     -0.653612         -0.771133          -0.856385   \n",
       "000036f903      -0.504430      0.138021         -1.344979          -1.862848   \n",
       "0001f552b0      -0.227145     -0.274621         -0.947701           0.071448   \n",
       "00020e7b18       2.504855      1.948604         -0.212002          -0.832796   \n",
       "000220a0a7       0.208837      0.002529         -0.153146           0.216913   \n",
       "...                   ...           ...               ...                ...   \n",
       "fffd5cd0c6      -0.472370     -0.322507         -0.967320           0.173667   \n",
       "fffd63dfe3      -0.427809     -0.818959         -1.119365          -0.687331   \n",
       "fffd8c9d7d      -0.448675     -0.785491          0.204895          -0.160510   \n",
       "fffe0abb97      -0.516653     -0.663401         -0.212002          -0.706988   \n",
       "fffeca6d22      -0.849513     -0.650237         -0.059957           1.836689   \n",
       "\n",
       "                 age  gender_F  gender_M  no_redeem  \n",
       "client_id                                            \n",
       "000012768d -0.087757 -0.763412 -0.449111  -0.311067  \n",
       "000036f903  1.615961  1.309908 -0.449111  -0.311067  \n",
       "0001f552b0 -0.844965  1.309908 -0.449111  -0.311067  \n",
       "00020e7b18  1.679061 -0.763412 -0.449111  -0.311067  \n",
       "000220a0a7 -0.000708 -0.763412  2.226620  -0.311067  \n",
       "...              ...       ...       ...        ...  \n",
       "fffd5cd0c6  0.038444 -0.763412  2.226620  -0.311067  \n",
       "fffd63dfe3 -0.971167 -0.763412 -0.449111  -0.311067  \n",
       "fffd8c9d7d  0.101545  1.309908 -0.449111  -0.311067  \n",
       "fffe0abb97 -0.718764  1.309908 -0.449111  -0.311067  \n",
       "fffeca6d22  1.931464  1.309908 -0.449111   3.214739  \n",
       "\n",
       "[140027 rows x 16 columns]"
      ]
     },
     "execution_count": 13,
     "metadata": {},
     "output_type": "execute_result"
    }
   ],
   "source": [
    "clients_scaled = pd.DataFrame(scaler.transform(clients),\n",
    "                              columns=x_cols,\n",
    "                             index=clients.index)\n",
    "clients_scaled"
   ]
  },
  {
   "cell_type": "code",
   "execution_count": 14,
   "id": "cc6262cc",
   "metadata": {},
   "outputs": [
    {
     "data": {
      "text/html": [
       "<div>\n",
       "<style scoped>\n",
       "    .dataframe tbody tr th:only-of-type {\n",
       "        vertical-align: middle;\n",
       "    }\n",
       "\n",
       "    .dataframe tbody tr th {\n",
       "        vertical-align: top;\n",
       "    }\n",
       "\n",
       "    .dataframe thead th {\n",
       "        text-align: right;\n",
       "    }\n",
       "</style>\n",
       "<table border=\"1\" class=\"dataframe\">\n",
       "  <thead>\n",
       "    <tr style=\"text-align: right;\">\n",
       "      <th></th>\n",
       "      <th>treatment_flg</th>\n",
       "      <th>purchased</th>\n",
       "      <th>regular_points_received_mean</th>\n",
       "      <th>regular_points_received_sum</th>\n",
       "      <th>express_points_received_mean</th>\n",
       "      <th>express_points_received_sum</th>\n",
       "      <th>regular_points_spent_mean</th>\n",
       "      <th>regular_points_spent_sum</th>\n",
       "      <th>express_points_spent_mean</th>\n",
       "      <th>express_points_spent_sum</th>\n",
       "      <th>purchase_mean</th>\n",
       "      <th>purchase_sum</th>\n",
       "      <th>first_issue_date</th>\n",
       "      <th>first_redeem_date</th>\n",
       "      <th>age</th>\n",
       "      <th>gender_F</th>\n",
       "      <th>gender_M</th>\n",
       "      <th>no_redeem</th>\n",
       "    </tr>\n",
       "    <tr>\n",
       "      <th>client_id</th>\n",
       "      <th></th>\n",
       "      <th></th>\n",
       "      <th></th>\n",
       "      <th></th>\n",
       "      <th></th>\n",
       "      <th></th>\n",
       "      <th></th>\n",
       "      <th></th>\n",
       "      <th></th>\n",
       "      <th></th>\n",
       "      <th></th>\n",
       "      <th></th>\n",
       "      <th></th>\n",
       "      <th></th>\n",
       "      <th></th>\n",
       "      <th></th>\n",
       "      <th></th>\n",
       "      <th></th>\n",
       "    </tr>\n",
       "  </thead>\n",
       "  <tbody>\n",
       "    <tr>\n",
       "      <th>ad6561e2d8</th>\n",
       "      <td>1</td>\n",
       "      <td>1</td>\n",
       "      <td>-0.457165</td>\n",
       "      <td>0.203605</td>\n",
       "      <td>-0.072084</td>\n",
       "      <td>-0.102507</td>\n",
       "      <td>0.256063</td>\n",
       "      <td>0.070434</td>\n",
       "      <td>0.246932</td>\n",
       "      <td>0.395964</td>\n",
       "      <td>-0.601460</td>\n",
       "      <td>0.250673</td>\n",
       "      <td>-0.182574</td>\n",
       "      <td>-0.309907</td>\n",
       "      <td>0.227746</td>\n",
       "      <td>1.309908</td>\n",
       "      <td>-0.449111</td>\n",
       "      <td>-0.311067</td>\n",
       "    </tr>\n",
       "    <tr>\n",
       "      <th>7c1ccbf93f</th>\n",
       "      <td>1</td>\n",
       "      <td>1</td>\n",
       "      <td>-0.012094</td>\n",
       "      <td>-0.715257</td>\n",
       "      <td>-0.072084</td>\n",
       "      <td>-0.102507</td>\n",
       "      <td>0.433102</td>\n",
       "      <td>0.563999</td>\n",
       "      <td>0.246932</td>\n",
       "      <td>0.395964</td>\n",
       "      <td>-0.186716</td>\n",
       "      <td>-0.874302</td>\n",
       "      <td>-0.295381</td>\n",
       "      <td>-0.663742</td>\n",
       "      <td>-1.412871</td>\n",
       "      <td>1.309908</td>\n",
       "      <td>-0.449111</td>\n",
       "      <td>-0.311067</td>\n",
       "    </tr>\n",
       "    <tr>\n",
       "      <th>b58fadcab6</th>\n",
       "      <td>1</td>\n",
       "      <td>1</td>\n",
       "      <td>-0.390384</td>\n",
       "      <td>0.142974</td>\n",
       "      <td>-0.072084</td>\n",
       "      <td>-0.102507</td>\n",
       "      <td>-0.602976</td>\n",
       "      <td>-1.818994</td>\n",
       "      <td>0.246932</td>\n",
       "      <td>0.395964</td>\n",
       "      <td>-0.176185</td>\n",
       "      <td>0.631720</td>\n",
       "      <td>-0.334618</td>\n",
       "      <td>0.142215</td>\n",
       "      <td>-0.655663</td>\n",
       "      <td>-0.763412</td>\n",
       "      <td>-0.449111</td>\n",
       "      <td>-0.311067</td>\n",
       "    </tr>\n",
       "    <tr>\n",
       "      <th>e99e6fabb9</th>\n",
       "      <td>0</td>\n",
       "      <td>0</td>\n",
       "      <td>-0.729281</td>\n",
       "      <td>-0.671353</td>\n",
       "      <td>-0.072084</td>\n",
       "      <td>-0.102507</td>\n",
       "      <td>0.433102</td>\n",
       "      <td>0.563999</td>\n",
       "      <td>0.246932</td>\n",
       "      <td>0.395964</td>\n",
       "      <td>-0.732479</td>\n",
       "      <td>-0.645811</td>\n",
       "      <td>0.621791</td>\n",
       "      <td>-0.282386</td>\n",
       "      <td>2.057665</td>\n",
       "      <td>1.309908</td>\n",
       "      <td>-0.449111</td>\n",
       "      <td>-0.311067</td>\n",
       "    </tr>\n",
       "    <tr>\n",
       "      <th>27fb6f8520</th>\n",
       "      <td>1</td>\n",
       "      <td>1</td>\n",
       "      <td>-0.396808</td>\n",
       "      <td>0.045757</td>\n",
       "      <td>1.151475</td>\n",
       "      <td>2.431487</td>\n",
       "      <td>0.418348</td>\n",
       "      <td>0.533151</td>\n",
       "      <td>-0.403913</td>\n",
       "      <td>-2.670518</td>\n",
       "      <td>-0.442714</td>\n",
       "      <td>0.147202</td>\n",
       "      <td>-0.864322</td>\n",
       "      <td>-0.935015</td>\n",
       "      <td>-0.781865</td>\n",
       "      <td>1.309908</td>\n",
       "      <td>-0.449111</td>\n",
       "      <td>-0.311067</td>\n",
       "    </tr>\n",
       "    <tr>\n",
       "      <th>...</th>\n",
       "      <td>...</td>\n",
       "      <td>...</td>\n",
       "      <td>...</td>\n",
       "      <td>...</td>\n",
       "      <td>...</td>\n",
       "      <td>...</td>\n",
       "      <td>...</td>\n",
       "      <td>...</td>\n",
       "      <td>...</td>\n",
       "      <td>...</td>\n",
       "      <td>...</td>\n",
       "      <td>...</td>\n",
       "      <td>...</td>\n",
       "      <td>...</td>\n",
       "      <td>...</td>\n",
       "      <td>...</td>\n",
       "      <td>...</td>\n",
       "      <td>...</td>\n",
       "    </tr>\n",
       "    <tr>\n",
       "      <th>999d284453</th>\n",
       "      <td>1</td>\n",
       "      <td>1</td>\n",
       "      <td>0.758315</td>\n",
       "      <td>-0.452875</td>\n",
       "      <td>-0.072084</td>\n",
       "      <td>-0.102507</td>\n",
       "      <td>0.433102</td>\n",
       "      <td>0.563999</td>\n",
       "      <td>0.246932</td>\n",
       "      <td>0.395964</td>\n",
       "      <td>0.664302</td>\n",
       "      <td>-0.633827</td>\n",
       "      <td>1.445775</td>\n",
       "      <td>0.940309</td>\n",
       "      <td>1.615961</td>\n",
       "      <td>-0.763412</td>\n",
       "      <td>-0.449111</td>\n",
       "      <td>-0.311067</td>\n",
       "    </tr>\n",
       "    <tr>\n",
       "      <th>f634deea4e</th>\n",
       "      <td>0</td>\n",
       "      <td>1</td>\n",
       "      <td>-0.721304</td>\n",
       "      <td>-0.211399</td>\n",
       "      <td>-0.072084</td>\n",
       "      <td>-0.102507</td>\n",
       "      <td>0.238944</td>\n",
       "      <td>-0.153212</td>\n",
       "      <td>0.246932</td>\n",
       "      <td>0.395964</td>\n",
       "      <td>-0.790863</td>\n",
       "      <td>0.222140</td>\n",
       "      <td>0.126420</td>\n",
       "      <td>-0.592975</td>\n",
       "      <td>-0.718764</td>\n",
       "      <td>-0.763412</td>\n",
       "      <td>-0.449111</td>\n",
       "      <td>-0.311067</td>\n",
       "    </tr>\n",
       "    <tr>\n",
       "      <th>16cb4f99b0</th>\n",
       "      <td>0</td>\n",
       "      <td>1</td>\n",
       "      <td>-0.250437</td>\n",
       "      <td>-0.558455</td>\n",
       "      <td>-0.072084</td>\n",
       "      <td>-0.102507</td>\n",
       "      <td>0.433102</td>\n",
       "      <td>0.563999</td>\n",
       "      <td>0.246932</td>\n",
       "      <td>0.395964</td>\n",
       "      <td>-0.125167</td>\n",
       "      <td>-0.615512</td>\n",
       "      <td>0.219609</td>\n",
       "      <td>1.156541</td>\n",
       "      <td>0.227746</td>\n",
       "      <td>1.309908</td>\n",
       "      <td>-0.449111</td>\n",
       "      <td>-0.311067</td>\n",
       "    </tr>\n",
       "    <tr>\n",
       "      <th>23c2b72b2e</th>\n",
       "      <td>1</td>\n",
       "      <td>1</td>\n",
       "      <td>-0.618261</td>\n",
       "      <td>-0.527094</td>\n",
       "      <td>-0.072084</td>\n",
       "      <td>-0.102507</td>\n",
       "      <td>0.433102</td>\n",
       "      <td>0.563999</td>\n",
       "      <td>0.246932</td>\n",
       "      <td>0.395964</td>\n",
       "      <td>-0.777196</td>\n",
       "      <td>-0.578119</td>\n",
       "      <td>-0.942797</td>\n",
       "      <td>-1.163041</td>\n",
       "      <td>0.543249</td>\n",
       "      <td>-0.763412</td>\n",
       "      <td>-0.449111</td>\n",
       "      <td>-0.311067</td>\n",
       "    </tr>\n",
       "    <tr>\n",
       "      <th>1430184499</th>\n",
       "      <td>0</td>\n",
       "      <td>1</td>\n",
       "      <td>0.705920</td>\n",
       "      <td>1.894979</td>\n",
       "      <td>-0.072084</td>\n",
       "      <td>-0.102507</td>\n",
       "      <td>0.433102</td>\n",
       "      <td>0.563999</td>\n",
       "      <td>0.246932</td>\n",
       "      <td>0.395964</td>\n",
       "      <td>0.767917</td>\n",
       "      <td>1.774937</td>\n",
       "      <td>-1.138983</td>\n",
       "      <td>-0.644084</td>\n",
       "      <td>1.048055</td>\n",
       "      <td>-0.763412</td>\n",
       "      <td>2.226620</td>\n",
       "      <td>-0.311067</td>\n",
       "    </tr>\n",
       "  </tbody>\n",
       "</table>\n",
       "<p>140027 rows × 18 columns</p>\n",
       "</div>"
      ],
      "text/plain": [
       "            treatment_flg  purchased  regular_points_received_mean  \\\n",
       "client_id                                                            \n",
       "ad6561e2d8              1          1                     -0.457165   \n",
       "7c1ccbf93f              1          1                     -0.012094   \n",
       "b58fadcab6              1          1                     -0.390384   \n",
       "e99e6fabb9              0          0                     -0.729281   \n",
       "27fb6f8520              1          1                     -0.396808   \n",
       "...                   ...        ...                           ...   \n",
       "999d284453              1          1                      0.758315   \n",
       "f634deea4e              0          1                     -0.721304   \n",
       "16cb4f99b0              0          1                     -0.250437   \n",
       "23c2b72b2e              1          1                     -0.618261   \n",
       "1430184499              0          1                      0.705920   \n",
       "\n",
       "            regular_points_received_sum  express_points_received_mean  \\\n",
       "client_id                                                               \n",
       "ad6561e2d8                     0.203605                     -0.072084   \n",
       "7c1ccbf93f                    -0.715257                     -0.072084   \n",
       "b58fadcab6                     0.142974                     -0.072084   \n",
       "e99e6fabb9                    -0.671353                     -0.072084   \n",
       "27fb6f8520                     0.045757                      1.151475   \n",
       "...                                 ...                           ...   \n",
       "999d284453                    -0.452875                     -0.072084   \n",
       "f634deea4e                    -0.211399                     -0.072084   \n",
       "16cb4f99b0                    -0.558455                     -0.072084   \n",
       "23c2b72b2e                    -0.527094                     -0.072084   \n",
       "1430184499                     1.894979                     -0.072084   \n",
       "\n",
       "            express_points_received_sum  regular_points_spent_mean  \\\n",
       "client_id                                                            \n",
       "ad6561e2d8                    -0.102507                   0.256063   \n",
       "7c1ccbf93f                    -0.102507                   0.433102   \n",
       "b58fadcab6                    -0.102507                  -0.602976   \n",
       "e99e6fabb9                    -0.102507                   0.433102   \n",
       "27fb6f8520                     2.431487                   0.418348   \n",
       "...                                 ...                        ...   \n",
       "999d284453                    -0.102507                   0.433102   \n",
       "f634deea4e                    -0.102507                   0.238944   \n",
       "16cb4f99b0                    -0.102507                   0.433102   \n",
       "23c2b72b2e                    -0.102507                   0.433102   \n",
       "1430184499                    -0.102507                   0.433102   \n",
       "\n",
       "            regular_points_spent_sum  express_points_spent_mean  \\\n",
       "client_id                                                         \n",
       "ad6561e2d8                  0.070434                   0.246932   \n",
       "7c1ccbf93f                  0.563999                   0.246932   \n",
       "b58fadcab6                 -1.818994                   0.246932   \n",
       "e99e6fabb9                  0.563999                   0.246932   \n",
       "27fb6f8520                  0.533151                  -0.403913   \n",
       "...                              ...                        ...   \n",
       "999d284453                  0.563999                   0.246932   \n",
       "f634deea4e                 -0.153212                   0.246932   \n",
       "16cb4f99b0                  0.563999                   0.246932   \n",
       "23c2b72b2e                  0.563999                   0.246932   \n",
       "1430184499                  0.563999                   0.246932   \n",
       "\n",
       "            express_points_spent_sum  purchase_mean  purchase_sum  \\\n",
       "client_id                                                           \n",
       "ad6561e2d8                  0.395964      -0.601460      0.250673   \n",
       "7c1ccbf93f                  0.395964      -0.186716     -0.874302   \n",
       "b58fadcab6                  0.395964      -0.176185      0.631720   \n",
       "e99e6fabb9                  0.395964      -0.732479     -0.645811   \n",
       "27fb6f8520                 -2.670518      -0.442714      0.147202   \n",
       "...                              ...            ...           ...   \n",
       "999d284453                  0.395964       0.664302     -0.633827   \n",
       "f634deea4e                  0.395964      -0.790863      0.222140   \n",
       "16cb4f99b0                  0.395964      -0.125167     -0.615512   \n",
       "23c2b72b2e                  0.395964      -0.777196     -0.578119   \n",
       "1430184499                  0.395964       0.767917      1.774937   \n",
       "\n",
       "            first_issue_date  first_redeem_date       age  gender_F  gender_M  \\\n",
       "client_id                                                                       \n",
       "ad6561e2d8         -0.182574          -0.309907  0.227746  1.309908 -0.449111   \n",
       "7c1ccbf93f         -0.295381          -0.663742 -1.412871  1.309908 -0.449111   \n",
       "b58fadcab6         -0.334618           0.142215 -0.655663 -0.763412 -0.449111   \n",
       "e99e6fabb9          0.621791          -0.282386  2.057665  1.309908 -0.449111   \n",
       "27fb6f8520         -0.864322          -0.935015 -0.781865  1.309908 -0.449111   \n",
       "...                      ...                ...       ...       ...       ...   \n",
       "999d284453          1.445775           0.940309  1.615961 -0.763412 -0.449111   \n",
       "f634deea4e          0.126420          -0.592975 -0.718764 -0.763412 -0.449111   \n",
       "16cb4f99b0          0.219609           1.156541  0.227746  1.309908 -0.449111   \n",
       "23c2b72b2e         -0.942797          -1.163041  0.543249 -0.763412 -0.449111   \n",
       "1430184499         -1.138983          -0.644084  1.048055 -0.763412  2.226620   \n",
       "\n",
       "            no_redeem  \n",
       "client_id              \n",
       "ad6561e2d8  -0.311067  \n",
       "7c1ccbf93f  -0.311067  \n",
       "b58fadcab6  -0.311067  \n",
       "e99e6fabb9  -0.311067  \n",
       "27fb6f8520  -0.311067  \n",
       "...               ...  \n",
       "999d284453  -0.311067  \n",
       "f634deea4e  -0.311067  \n",
       "16cb4f99b0  -0.311067  \n",
       "23c2b72b2e  -0.311067  \n",
       "1430184499  -0.311067  \n",
       "\n",
       "[140027 rows x 18 columns]"
      ]
     },
     "execution_count": 14,
     "metadata": {},
     "output_type": "execute_result"
    }
   ],
   "source": [
    "df_full = pd.read_csv('train.csv', index_col='client_id')\\\n",
    "    .join(clients_scaled, how='left')\n",
    "df_full"
   ]
  },
  {
   "cell_type": "code",
   "execution_count": 15,
   "id": "60d31e21",
   "metadata": {},
   "outputs": [],
   "source": [
    "indices_train, indices_val = train_test_split(df_full.index, \n",
    "                                              test_size=0.2, \n",
    "                                              random_state=8)"
   ]
  },
  {
   "cell_type": "code",
   "execution_count": 16,
   "id": "7ebf60d5",
   "metadata": {},
   "outputs": [
    {
     "data": {
      "text/plain": [
       "(112021,)"
      ]
     },
     "execution_count": 16,
     "metadata": {},
     "output_type": "execute_result"
    }
   ],
   "source": [
    "indices_train.shape"
   ]
  },
  {
   "cell_type": "code",
   "execution_count": 17,
   "id": "823b22e3",
   "metadata": {},
   "outputs": [
    {
     "data": {
      "text/plain": [
       "(28006,)"
      ]
     },
     "execution_count": 17,
     "metadata": {},
     "output_type": "execute_result"
    }
   ],
   "source": [
    "indices_val.shape"
   ]
  },
  {
   "cell_type": "code",
   "execution_count": 18,
   "id": "7aa399dd",
   "metadata": {},
   "outputs": [
    {
     "data": {
      "text/html": [
       "<div>\n",
       "<style scoped>\n",
       "    .dataframe tbody tr th:only-of-type {\n",
       "        vertical-align: middle;\n",
       "    }\n",
       "\n",
       "    .dataframe tbody tr th {\n",
       "        vertical-align: top;\n",
       "    }\n",
       "\n",
       "    .dataframe thead th {\n",
       "        text-align: right;\n",
       "    }\n",
       "</style>\n",
       "<table border=\"1\" class=\"dataframe\">\n",
       "  <thead>\n",
       "    <tr style=\"text-align: right;\">\n",
       "      <th></th>\n",
       "      <th>regular_points_received_mean</th>\n",
       "      <th>regular_points_received_sum</th>\n",
       "      <th>express_points_received_mean</th>\n",
       "      <th>express_points_received_sum</th>\n",
       "      <th>regular_points_spent_mean</th>\n",
       "      <th>regular_points_spent_sum</th>\n",
       "      <th>express_points_spent_mean</th>\n",
       "      <th>express_points_spent_sum</th>\n",
       "      <th>purchase_mean</th>\n",
       "      <th>purchase_sum</th>\n",
       "      <th>first_issue_date</th>\n",
       "      <th>first_redeem_date</th>\n",
       "      <th>age</th>\n",
       "      <th>gender_F</th>\n",
       "      <th>gender_M</th>\n",
       "      <th>no_redeem</th>\n",
       "    </tr>\n",
       "    <tr>\n",
       "      <th>client_id</th>\n",
       "      <th></th>\n",
       "      <th></th>\n",
       "      <th></th>\n",
       "      <th></th>\n",
       "      <th></th>\n",
       "      <th></th>\n",
       "      <th></th>\n",
       "      <th></th>\n",
       "      <th></th>\n",
       "      <th></th>\n",
       "      <th></th>\n",
       "      <th></th>\n",
       "      <th></th>\n",
       "      <th></th>\n",
       "      <th></th>\n",
       "      <th></th>\n",
       "    </tr>\n",
       "  </thead>\n",
       "  <tbody>\n",
       "    <tr>\n",
       "      <th>fd1ab717e8</th>\n",
       "      <td>-0.344139</td>\n",
       "      <td>0.318593</td>\n",
       "      <td>-0.072084</td>\n",
       "      <td>-0.102507</td>\n",
       "      <td>0.433102</td>\n",
       "      <td>0.563999</td>\n",
       "      <td>0.246932</td>\n",
       "      <td>0.395964</td>\n",
       "      <td>-0.674769</td>\n",
       "      <td>0.016709</td>\n",
       "      <td>1.146590</td>\n",
       "      <td>0.881336</td>\n",
       "      <td>1.426659</td>\n",
       "      <td>1.309908</td>\n",
       "      <td>-0.449111</td>\n",
       "      <td>-0.311067</td>\n",
       "    </tr>\n",
       "    <tr>\n",
       "      <th>5be3f83065</th>\n",
       "      <td>1.015586</td>\n",
       "      <td>0.640561</td>\n",
       "      <td>-0.072084</td>\n",
       "      <td>-0.102507</td>\n",
       "      <td>0.433102</td>\n",
       "      <td>0.563999</td>\n",
       "      <td>0.246932</td>\n",
       "      <td>0.395964</td>\n",
       "      <td>0.588284</td>\n",
       "      <td>0.162789</td>\n",
       "      <td>1.852862</td>\n",
       "      <td>1.113294</td>\n",
       "      <td>1.300457</td>\n",
       "      <td>1.309908</td>\n",
       "      <td>-0.449111</td>\n",
       "      <td>-0.311067</td>\n",
       "    </tr>\n",
       "    <tr>\n",
       "      <th>1c48fc99b2</th>\n",
       "      <td>-0.516362</td>\n",
       "      <td>0.411629</td>\n",
       "      <td>-0.072084</td>\n",
       "      <td>-0.102507</td>\n",
       "      <td>0.189674</td>\n",
       "      <td>-0.369147</td>\n",
       "      <td>0.246932</td>\n",
       "      <td>0.395964</td>\n",
       "      <td>-0.434654</td>\n",
       "      <td>1.097419</td>\n",
       "      <td>-1.085032</td>\n",
       "      <td>-1.548328</td>\n",
       "      <td>0.732551</td>\n",
       "      <td>1.309908</td>\n",
       "      <td>-0.449111</td>\n",
       "      <td>-0.311067</td>\n",
       "    </tr>\n",
       "    <tr>\n",
       "      <th>fcce9d3197</th>\n",
       "      <td>-0.494128</td>\n",
       "      <td>0.195242</td>\n",
       "      <td>-0.072084</td>\n",
       "      <td>-0.102507</td>\n",
       "      <td>0.026531</td>\n",
       "      <td>-0.654489</td>\n",
       "      <td>0.246932</td>\n",
       "      <td>0.395964</td>\n",
       "      <td>-0.421486</td>\n",
       "      <td>0.670231</td>\n",
       "      <td>-0.834894</td>\n",
       "      <td>-1.438246</td>\n",
       "      <td>-0.213959</td>\n",
       "      <td>-0.763412</td>\n",
       "      <td>-0.449111</td>\n",
       "      <td>-0.311067</td>\n",
       "    </tr>\n",
       "    <tr>\n",
       "      <th>4f43f48cb7</th>\n",
       "      <td>0.950368</td>\n",
       "      <td>2.097777</td>\n",
       "      <td>-0.072084</td>\n",
       "      <td>-0.102507</td>\n",
       "      <td>-1.280050</td>\n",
       "      <td>-2.898667</td>\n",
       "      <td>0.246932</td>\n",
       "      <td>0.395964</td>\n",
       "      <td>0.928971</td>\n",
       "      <td>1.795747</td>\n",
       "      <td>-0.761324</td>\n",
       "      <td>0.350584</td>\n",
       "      <td>-0.277059</td>\n",
       "      <td>-0.763412</td>\n",
       "      <td>-0.449111</td>\n",
       "      <td>-0.311067</td>\n",
       "    </tr>\n",
       "    <tr>\n",
       "      <th>...</th>\n",
       "      <td>...</td>\n",
       "      <td>...</td>\n",
       "      <td>...</td>\n",
       "      <td>...</td>\n",
       "      <td>...</td>\n",
       "      <td>...</td>\n",
       "      <td>...</td>\n",
       "      <td>...</td>\n",
       "      <td>...</td>\n",
       "      <td>...</td>\n",
       "      <td>...</td>\n",
       "      <td>...</td>\n",
       "      <td>...</td>\n",
       "      <td>...</td>\n",
       "      <td>...</td>\n",
       "      <td>...</td>\n",
       "    </tr>\n",
       "    <tr>\n",
       "      <th>c5792264c8</th>\n",
       "      <td>-0.157904</td>\n",
       "      <td>0.055165</td>\n",
       "      <td>-0.072084</td>\n",
       "      <td>-0.102507</td>\n",
       "      <td>0.433102</td>\n",
       "      <td>0.563999</td>\n",
       "      <td>0.246932</td>\n",
       "      <td>0.395964</td>\n",
       "      <td>-0.004736</td>\n",
       "      <td>0.201673</td>\n",
       "      <td>-0.570042</td>\n",
       "      <td>-0.805275</td>\n",
       "      <td>1.237357</td>\n",
       "      <td>-0.763412</td>\n",
       "      <td>-0.449111</td>\n",
       "      <td>-0.311067</td>\n",
       "    </tr>\n",
       "    <tr>\n",
       "      <th>84880145bd</th>\n",
       "      <td>0.233598</td>\n",
       "      <td>0.990752</td>\n",
       "      <td>-0.072084</td>\n",
       "      <td>-0.102507</td>\n",
       "      <td>-0.169745</td>\n",
       "      <td>-0.654489</td>\n",
       "      <td>0.246932</td>\n",
       "      <td>0.395964</td>\n",
       "      <td>-0.053363</td>\n",
       "      <td>0.588458</td>\n",
       "      <td>1.740055</td>\n",
       "      <td>0.692624</td>\n",
       "      <td>-0.718764</td>\n",
       "      <td>-0.763412</td>\n",
       "      <td>2.226620</td>\n",
       "      <td>-0.311067</td>\n",
       "    </tr>\n",
       "    <tr>\n",
       "      <th>49eb365a88</th>\n",
       "      <td>-0.179916</td>\n",
       "      <td>-0.009647</td>\n",
       "      <td>-0.072084</td>\n",
       "      <td>-0.102507</td>\n",
       "      <td>-0.479753</td>\n",
       "      <td>-0.708473</td>\n",
       "      <td>0.246932</td>\n",
       "      <td>0.395964</td>\n",
       "      <td>-0.210638</td>\n",
       "      <td>-0.028665</td>\n",
       "      <td>-1.065413</td>\n",
       "      <td>-0.734508</td>\n",
       "      <td>-1.665274</td>\n",
       "      <td>-0.763412</td>\n",
       "      <td>2.226620</td>\n",
       "      <td>-0.311067</td>\n",
       "    </tr>\n",
       "    <tr>\n",
       "      <th>1b55a9f080</th>\n",
       "      <td>0.346449</td>\n",
       "      <td>0.209877</td>\n",
       "      <td>-0.072084</td>\n",
       "      <td>-0.102507</td>\n",
       "      <td>-4.612494</td>\n",
       "      <td>-4.710975</td>\n",
       "      <td>0.246932</td>\n",
       "      <td>0.395964</td>\n",
       "      <td>1.005128</td>\n",
       "      <td>0.508723</td>\n",
       "      <td>-0.800561</td>\n",
       "      <td>0.794843</td>\n",
       "      <td>0.038444</td>\n",
       "      <td>-0.763412</td>\n",
       "      <td>-0.449111</td>\n",
       "      <td>-0.311067</td>\n",
       "    </tr>\n",
       "    <tr>\n",
       "      <th>9961481e46</th>\n",
       "      <td>-0.638796</td>\n",
       "      <td>-0.592951</td>\n",
       "      <td>-0.072084</td>\n",
       "      <td>-0.102507</td>\n",
       "      <td>0.433102</td>\n",
       "      <td>0.563999</td>\n",
       "      <td>0.246932</td>\n",
       "      <td>0.395964</td>\n",
       "      <td>-0.598505</td>\n",
       "      <td>-0.541346</td>\n",
       "      <td>0.121515</td>\n",
       "      <td>-0.243072</td>\n",
       "      <td>1.426659</td>\n",
       "      <td>1.309908</td>\n",
       "      <td>-0.449111</td>\n",
       "      <td>-0.311067</td>\n",
       "    </tr>\n",
       "  </tbody>\n",
       "</table>\n",
       "<p>112021 rows × 16 columns</p>\n",
       "</div>"
      ],
      "text/plain": [
       "            regular_points_received_mean  regular_points_received_sum  \\\n",
       "client_id                                                               \n",
       "fd1ab717e8                     -0.344139                     0.318593   \n",
       "5be3f83065                      1.015586                     0.640561   \n",
       "1c48fc99b2                     -0.516362                     0.411629   \n",
       "fcce9d3197                     -0.494128                     0.195242   \n",
       "4f43f48cb7                      0.950368                     2.097777   \n",
       "...                                  ...                          ...   \n",
       "c5792264c8                     -0.157904                     0.055165   \n",
       "84880145bd                      0.233598                     0.990752   \n",
       "49eb365a88                     -0.179916                    -0.009647   \n",
       "1b55a9f080                      0.346449                     0.209877   \n",
       "9961481e46                     -0.638796                    -0.592951   \n",
       "\n",
       "            express_points_received_mean  express_points_received_sum  \\\n",
       "client_id                                                               \n",
       "fd1ab717e8                     -0.072084                    -0.102507   \n",
       "5be3f83065                     -0.072084                    -0.102507   \n",
       "1c48fc99b2                     -0.072084                    -0.102507   \n",
       "fcce9d3197                     -0.072084                    -0.102507   \n",
       "4f43f48cb7                     -0.072084                    -0.102507   \n",
       "...                                  ...                          ...   \n",
       "c5792264c8                     -0.072084                    -0.102507   \n",
       "84880145bd                     -0.072084                    -0.102507   \n",
       "49eb365a88                     -0.072084                    -0.102507   \n",
       "1b55a9f080                     -0.072084                    -0.102507   \n",
       "9961481e46                     -0.072084                    -0.102507   \n",
       "\n",
       "            regular_points_spent_mean  regular_points_spent_sum  \\\n",
       "client_id                                                         \n",
       "fd1ab717e8                   0.433102                  0.563999   \n",
       "5be3f83065                   0.433102                  0.563999   \n",
       "1c48fc99b2                   0.189674                 -0.369147   \n",
       "fcce9d3197                   0.026531                 -0.654489   \n",
       "4f43f48cb7                  -1.280050                 -2.898667   \n",
       "...                               ...                       ...   \n",
       "c5792264c8                   0.433102                  0.563999   \n",
       "84880145bd                  -0.169745                 -0.654489   \n",
       "49eb365a88                  -0.479753                 -0.708473   \n",
       "1b55a9f080                  -4.612494                 -4.710975   \n",
       "9961481e46                   0.433102                  0.563999   \n",
       "\n",
       "            express_points_spent_mean  express_points_spent_sum  \\\n",
       "client_id                                                         \n",
       "fd1ab717e8                   0.246932                  0.395964   \n",
       "5be3f83065                   0.246932                  0.395964   \n",
       "1c48fc99b2                   0.246932                  0.395964   \n",
       "fcce9d3197                   0.246932                  0.395964   \n",
       "4f43f48cb7                   0.246932                  0.395964   \n",
       "...                               ...                       ...   \n",
       "c5792264c8                   0.246932                  0.395964   \n",
       "84880145bd                   0.246932                  0.395964   \n",
       "49eb365a88                   0.246932                  0.395964   \n",
       "1b55a9f080                   0.246932                  0.395964   \n",
       "9961481e46                   0.246932                  0.395964   \n",
       "\n",
       "            purchase_mean  purchase_sum  first_issue_date  first_redeem_date  \\\n",
       "client_id                                                                      \n",
       "fd1ab717e8      -0.674769      0.016709          1.146590           0.881336   \n",
       "5be3f83065       0.588284      0.162789          1.852862           1.113294   \n",
       "1c48fc99b2      -0.434654      1.097419         -1.085032          -1.548328   \n",
       "fcce9d3197      -0.421486      0.670231         -0.834894          -1.438246   \n",
       "4f43f48cb7       0.928971      1.795747         -0.761324           0.350584   \n",
       "...                   ...           ...               ...                ...   \n",
       "c5792264c8      -0.004736      0.201673         -0.570042          -0.805275   \n",
       "84880145bd      -0.053363      0.588458          1.740055           0.692624   \n",
       "49eb365a88      -0.210638     -0.028665         -1.065413          -0.734508   \n",
       "1b55a9f080       1.005128      0.508723         -0.800561           0.794843   \n",
       "9961481e46      -0.598505     -0.541346          0.121515          -0.243072   \n",
       "\n",
       "                 age  gender_F  gender_M  no_redeem  \n",
       "client_id                                            \n",
       "fd1ab717e8  1.426659  1.309908 -0.449111  -0.311067  \n",
       "5be3f83065  1.300457  1.309908 -0.449111  -0.311067  \n",
       "1c48fc99b2  0.732551  1.309908 -0.449111  -0.311067  \n",
       "fcce9d3197 -0.213959 -0.763412 -0.449111  -0.311067  \n",
       "4f43f48cb7 -0.277059 -0.763412 -0.449111  -0.311067  \n",
       "...              ...       ...       ...        ...  \n",
       "c5792264c8  1.237357 -0.763412 -0.449111  -0.311067  \n",
       "84880145bd -0.718764 -0.763412  2.226620  -0.311067  \n",
       "49eb365a88 -1.665274 -0.763412  2.226620  -0.311067  \n",
       "1b55a9f080  0.038444 -0.763412 -0.449111  -0.311067  \n",
       "9961481e46  1.426659  1.309908 -0.449111  -0.311067  \n",
       "\n",
       "[112021 rows x 16 columns]"
      ]
     },
     "execution_count": 18,
     "metadata": {},
     "output_type": "execute_result"
    }
   ],
   "source": [
    "X_train = df_full.loc[indices_train, x_cols]\n",
    "X_train"
   ]
  },
  {
   "cell_type": "code",
   "execution_count": 19,
   "id": "8ebda15f",
   "metadata": {},
   "outputs": [
    {
     "data": {
      "text/plain": [
       "client_id\n",
       "fd1ab717e8    1\n",
       "5be3f83065    1\n",
       "1c48fc99b2    0\n",
       "fcce9d3197    1\n",
       "4f43f48cb7    0\n",
       "             ..\n",
       "c5792264c8    0\n",
       "84880145bd    0\n",
       "49eb365a88    0\n",
       "1b55a9f080    1\n",
       "9961481e46    1\n",
       "Name: treatment_flg, Length: 112021, dtype: int64"
      ]
     },
     "execution_count": 19,
     "metadata": {},
     "output_type": "execute_result"
    }
   ],
   "source": [
    "treat_train = df_full.loc[indices_train, 'treatment_flg']\n",
    "treat_train"
   ]
  },
  {
   "cell_type": "code",
   "execution_count": 20,
   "id": "f7fb237b",
   "metadata": {
    "scrolled": true
   },
   "outputs": [
    {
     "data": {
      "text/plain": [
       "client_id\n",
       "fd1ab717e8    1\n",
       "5be3f83065    0\n",
       "1c48fc99b2    1\n",
       "fcce9d3197    1\n",
       "4f43f48cb7    1\n",
       "             ..\n",
       "c5792264c8    1\n",
       "84880145bd    1\n",
       "49eb365a88    0\n",
       "1b55a9f080    0\n",
       "9961481e46    1\n",
       "Name: purchased, Length: 112021, dtype: int64"
      ]
     },
     "execution_count": 20,
     "metadata": {},
     "output_type": "execute_result"
    }
   ],
   "source": [
    "y_train = df_full.loc[indices_train, 'purchased']\n",
    "y_train"
   ]
  },
  {
   "cell_type": "code",
   "execution_count": 21,
   "id": "09f2db6f",
   "metadata": {},
   "outputs": [
    {
     "data": {
      "text/html": [
       "<div>\n",
       "<style scoped>\n",
       "    .dataframe tbody tr th:only-of-type {\n",
       "        vertical-align: middle;\n",
       "    }\n",
       "\n",
       "    .dataframe tbody tr th {\n",
       "        vertical-align: top;\n",
       "    }\n",
       "\n",
       "    .dataframe thead th {\n",
       "        text-align: right;\n",
       "    }\n",
       "</style>\n",
       "<table border=\"1\" class=\"dataframe\">\n",
       "  <thead>\n",
       "    <tr style=\"text-align: right;\">\n",
       "      <th></th>\n",
       "      <th>regular_points_received_mean</th>\n",
       "      <th>regular_points_received_sum</th>\n",
       "      <th>express_points_received_mean</th>\n",
       "      <th>express_points_received_sum</th>\n",
       "      <th>regular_points_spent_mean</th>\n",
       "      <th>regular_points_spent_sum</th>\n",
       "      <th>express_points_spent_mean</th>\n",
       "      <th>express_points_spent_sum</th>\n",
       "      <th>purchase_mean</th>\n",
       "      <th>purchase_sum</th>\n",
       "      <th>first_issue_date</th>\n",
       "      <th>first_redeem_date</th>\n",
       "      <th>age</th>\n",
       "      <th>gender_F</th>\n",
       "      <th>gender_M</th>\n",
       "      <th>no_redeem</th>\n",
       "    </tr>\n",
       "    <tr>\n",
       "      <th>client_id</th>\n",
       "      <th></th>\n",
       "      <th></th>\n",
       "      <th></th>\n",
       "      <th></th>\n",
       "      <th></th>\n",
       "      <th></th>\n",
       "      <th></th>\n",
       "      <th></th>\n",
       "      <th></th>\n",
       "      <th></th>\n",
       "      <th></th>\n",
       "      <th></th>\n",
       "      <th></th>\n",
       "      <th></th>\n",
       "      <th></th>\n",
       "      <th></th>\n",
       "    </tr>\n",
       "  </thead>\n",
       "  <tbody>\n",
       "    <tr>\n",
       "      <th>c0582c1d5e</th>\n",
       "      <td>-0.632076</td>\n",
       "      <td>-0.346249</td>\n",
       "      <td>-0.072084</td>\n",
       "      <td>-0.102507</td>\n",
       "      <td>-0.081989</td>\n",
       "      <td>-0.477114</td>\n",
       "      <td>0.246932</td>\n",
       "      <td>0.395964</td>\n",
       "      <td>-0.650816</td>\n",
       "      <td>-0.145813</td>\n",
       "      <td>0.146039</td>\n",
       "      <td>-0.018976</td>\n",
       "      <td>0.606350</td>\n",
       "      <td>-0.763412</td>\n",
       "      <td>-0.449111</td>\n",
       "      <td>-0.311067</td>\n",
       "    </tr>\n",
       "    <tr>\n",
       "      <th>9a96a00f1d</th>\n",
       "      <td>3.342703</td>\n",
       "      <td>4.653655</td>\n",
       "      <td>-0.072084</td>\n",
       "      <td>-0.102507</td>\n",
       "      <td>-1.166699</td>\n",
       "      <td>-2.112048</td>\n",
       "      <td>0.246932</td>\n",
       "      <td>0.395964</td>\n",
       "      <td>4.101678</td>\n",
       "      <td>4.545778</td>\n",
       "      <td>-0.839799</td>\n",
       "      <td>-1.064754</td>\n",
       "      <td>1.111155</td>\n",
       "      <td>1.309908</td>\n",
       "      <td>-0.449111</td>\n",
       "      <td>-0.311067</td>\n",
       "    </tr>\n",
       "    <tr>\n",
       "      <th>55bca71943</th>\n",
       "      <td>1.087089</td>\n",
       "      <td>-0.490507</td>\n",
       "      <td>-0.072084</td>\n",
       "      <td>-0.102507</td>\n",
       "      <td>0.433102</td>\n",
       "      <td>0.563999</td>\n",
       "      <td>0.246932</td>\n",
       "      <td>0.395964</td>\n",
       "      <td>1.695660</td>\n",
       "      <td>-0.586874</td>\n",
       "      <td>0.494270</td>\n",
       "      <td>1.836689</td>\n",
       "      <td>-0.908066</td>\n",
       "      <td>-0.763412</td>\n",
       "      <td>-0.449111</td>\n",
       "      <td>3.214739</td>\n",
       "    </tr>\n",
       "    <tr>\n",
       "      <th>5bb5a27171</th>\n",
       "      <td>-0.332497</td>\n",
       "      <td>0.276779</td>\n",
       "      <td>-0.072084</td>\n",
       "      <td>-0.102507</td>\n",
       "      <td>-0.689661</td>\n",
       "      <td>-2.096624</td>\n",
       "      <td>0.246932</td>\n",
       "      <td>0.395964</td>\n",
       "      <td>-0.494773</td>\n",
       "      <td>0.221219</td>\n",
       "      <td>-0.918273</td>\n",
       "      <td>-1.284918</td>\n",
       "      <td>-0.340160</td>\n",
       "      <td>1.309908</td>\n",
       "      <td>-0.449111</td>\n",
       "      <td>-0.311067</td>\n",
       "    </tr>\n",
       "    <tr>\n",
       "      <th>d9c7b97fba</th>\n",
       "      <td>-0.322875</td>\n",
       "      <td>-0.031599</td>\n",
       "      <td>-0.072084</td>\n",
       "      <td>-0.102507</td>\n",
       "      <td>-0.203130</td>\n",
       "      <td>-0.500250</td>\n",
       "      <td>0.246932</td>\n",
       "      <td>0.395964</td>\n",
       "      <td>-0.202260</td>\n",
       "      <td>0.168226</td>\n",
       "      <td>-1.065413</td>\n",
       "      <td>0.708350</td>\n",
       "      <td>-0.277059</td>\n",
       "      <td>-0.763412</td>\n",
       "      <td>2.226620</td>\n",
       "      <td>-0.311067</td>\n",
       "    </tr>\n",
       "    <tr>\n",
       "      <th>...</th>\n",
       "      <td>...</td>\n",
       "      <td>...</td>\n",
       "      <td>...</td>\n",
       "      <td>...</td>\n",
       "      <td>...</td>\n",
       "      <td>...</td>\n",
       "      <td>...</td>\n",
       "      <td>...</td>\n",
       "      <td>...</td>\n",
       "      <td>...</td>\n",
       "      <td>...</td>\n",
       "      <td>...</td>\n",
       "      <td>...</td>\n",
       "      <td>...</td>\n",
       "      <td>...</td>\n",
       "      <td>...</td>\n",
       "    </tr>\n",
       "    <tr>\n",
       "      <th>f68c84f07b</th>\n",
       "      <td>-0.460273</td>\n",
       "      <td>-0.358793</td>\n",
       "      <td>-0.072084</td>\n",
       "      <td>-0.102507</td>\n",
       "      <td>0.433102</td>\n",
       "      <td>0.563999</td>\n",
       "      <td>0.246932</td>\n",
       "      <td>0.395964</td>\n",
       "      <td>-0.239603</td>\n",
       "      <td>-0.144946</td>\n",
       "      <td>1.504631</td>\n",
       "      <td>1.836689</td>\n",
       "      <td>-1.728375</td>\n",
       "      <td>-0.763412</td>\n",
       "      <td>2.226620</td>\n",
       "      <td>3.214739</td>\n",
       "    </tr>\n",
       "    <tr>\n",
       "      <th>704cff2628</th>\n",
       "      <td>-0.720892</td>\n",
       "      <td>-0.711076</td>\n",
       "      <td>-0.072084</td>\n",
       "      <td>-0.102507</td>\n",
       "      <td>0.383924</td>\n",
       "      <td>0.533151</td>\n",
       "      <td>-1.054759</td>\n",
       "      <td>-1.443925</td>\n",
       "      <td>-0.743242</td>\n",
       "      <td>-0.749825</td>\n",
       "      <td>-0.055052</td>\n",
       "      <td>-0.431783</td>\n",
       "      <td>-0.277059</td>\n",
       "      <td>-0.763412</td>\n",
       "      <td>-0.449111</td>\n",
       "      <td>-0.311067</td>\n",
       "    </tr>\n",
       "    <tr>\n",
       "      <th>feff930002</th>\n",
       "      <td>-0.559068</td>\n",
       "      <td>-0.213490</td>\n",
       "      <td>-0.072084</td>\n",
       "      <td>-0.102507</td>\n",
       "      <td>-0.145962</td>\n",
       "      <td>-0.646777</td>\n",
       "      <td>0.246932</td>\n",
       "      <td>0.395964</td>\n",
       "      <td>-0.497624</td>\n",
       "      <td>0.077391</td>\n",
       "      <td>-0.829989</td>\n",
       "      <td>-0.667673</td>\n",
       "      <td>-1.097368</td>\n",
       "      <td>1.309908</td>\n",
       "      <td>-0.449111</td>\n",
       "      <td>-0.311067</td>\n",
       "    </tr>\n",
       "    <tr>\n",
       "      <th>fa31a8a3bb</th>\n",
       "      <td>-0.816853</td>\n",
       "      <td>-0.807248</td>\n",
       "      <td>-0.072084</td>\n",
       "      <td>-0.102507</td>\n",
       "      <td>0.433102</td>\n",
       "      <td>0.563999</td>\n",
       "      <td>0.246932</td>\n",
       "      <td>0.395964</td>\n",
       "      <td>-0.993715</td>\n",
       "      <td>-0.956608</td>\n",
       "      <td>2.083381</td>\n",
       "      <td>1.836689</td>\n",
       "      <td>0.164645</td>\n",
       "      <td>-0.763412</td>\n",
       "      <td>-0.449111</td>\n",
       "      <td>3.214739</td>\n",
       "    </tr>\n",
       "    <tr>\n",
       "      <th>cf760d447c</th>\n",
       "      <td>-0.588108</td>\n",
       "      <td>0.146110</td>\n",
       "      <td>-0.072084</td>\n",
       "      <td>-0.102507</td>\n",
       "      <td>0.377777</td>\n",
       "      <td>0.363488</td>\n",
       "      <td>0.066698</td>\n",
       "      <td>-1.075947</td>\n",
       "      <td>-0.715543</td>\n",
       "      <td>0.365621</td>\n",
       "      <td>-0.010910</td>\n",
       "      <td>-0.561523</td>\n",
       "      <td>-0.971167</td>\n",
       "      <td>-0.763412</td>\n",
       "      <td>-0.449111</td>\n",
       "      <td>-0.311067</td>\n",
       "    </tr>\n",
       "  </tbody>\n",
       "</table>\n",
       "<p>28006 rows × 16 columns</p>\n",
       "</div>"
      ],
      "text/plain": [
       "            regular_points_received_mean  regular_points_received_sum  \\\n",
       "client_id                                                               \n",
       "c0582c1d5e                     -0.632076                    -0.346249   \n",
       "9a96a00f1d                      3.342703                     4.653655   \n",
       "55bca71943                      1.087089                    -0.490507   \n",
       "5bb5a27171                     -0.332497                     0.276779   \n",
       "d9c7b97fba                     -0.322875                    -0.031599   \n",
       "...                                  ...                          ...   \n",
       "f68c84f07b                     -0.460273                    -0.358793   \n",
       "704cff2628                     -0.720892                    -0.711076   \n",
       "feff930002                     -0.559068                    -0.213490   \n",
       "fa31a8a3bb                     -0.816853                    -0.807248   \n",
       "cf760d447c                     -0.588108                     0.146110   \n",
       "\n",
       "            express_points_received_mean  express_points_received_sum  \\\n",
       "client_id                                                               \n",
       "c0582c1d5e                     -0.072084                    -0.102507   \n",
       "9a96a00f1d                     -0.072084                    -0.102507   \n",
       "55bca71943                     -0.072084                    -0.102507   \n",
       "5bb5a27171                     -0.072084                    -0.102507   \n",
       "d9c7b97fba                     -0.072084                    -0.102507   \n",
       "...                                  ...                          ...   \n",
       "f68c84f07b                     -0.072084                    -0.102507   \n",
       "704cff2628                     -0.072084                    -0.102507   \n",
       "feff930002                     -0.072084                    -0.102507   \n",
       "fa31a8a3bb                     -0.072084                    -0.102507   \n",
       "cf760d447c                     -0.072084                    -0.102507   \n",
       "\n",
       "            regular_points_spent_mean  regular_points_spent_sum  \\\n",
       "client_id                                                         \n",
       "c0582c1d5e                  -0.081989                 -0.477114   \n",
       "9a96a00f1d                  -1.166699                 -2.112048   \n",
       "55bca71943                   0.433102                  0.563999   \n",
       "5bb5a27171                  -0.689661                 -2.096624   \n",
       "d9c7b97fba                  -0.203130                 -0.500250   \n",
       "...                               ...                       ...   \n",
       "f68c84f07b                   0.433102                  0.563999   \n",
       "704cff2628                   0.383924                  0.533151   \n",
       "feff930002                  -0.145962                 -0.646777   \n",
       "fa31a8a3bb                   0.433102                  0.563999   \n",
       "cf760d447c                   0.377777                  0.363488   \n",
       "\n",
       "            express_points_spent_mean  express_points_spent_sum  \\\n",
       "client_id                                                         \n",
       "c0582c1d5e                   0.246932                  0.395964   \n",
       "9a96a00f1d                   0.246932                  0.395964   \n",
       "55bca71943                   0.246932                  0.395964   \n",
       "5bb5a27171                   0.246932                  0.395964   \n",
       "d9c7b97fba                   0.246932                  0.395964   \n",
       "...                               ...                       ...   \n",
       "f68c84f07b                   0.246932                  0.395964   \n",
       "704cff2628                  -1.054759                 -1.443925   \n",
       "feff930002                   0.246932                  0.395964   \n",
       "fa31a8a3bb                   0.246932                  0.395964   \n",
       "cf760d447c                   0.066698                 -1.075947   \n",
       "\n",
       "            purchase_mean  purchase_sum  first_issue_date  first_redeem_date  \\\n",
       "client_id                                                                      \n",
       "c0582c1d5e      -0.650816     -0.145813          0.146039          -0.018976   \n",
       "9a96a00f1d       4.101678      4.545778         -0.839799          -1.064754   \n",
       "55bca71943       1.695660     -0.586874          0.494270           1.836689   \n",
       "5bb5a27171      -0.494773      0.221219         -0.918273          -1.284918   \n",
       "d9c7b97fba      -0.202260      0.168226         -1.065413           0.708350   \n",
       "...                   ...           ...               ...                ...   \n",
       "f68c84f07b      -0.239603     -0.144946          1.504631           1.836689   \n",
       "704cff2628      -0.743242     -0.749825         -0.055052          -0.431783   \n",
       "feff930002      -0.497624      0.077391         -0.829989          -0.667673   \n",
       "fa31a8a3bb      -0.993715     -0.956608          2.083381           1.836689   \n",
       "cf760d447c      -0.715543      0.365621         -0.010910          -0.561523   \n",
       "\n",
       "                 age  gender_F  gender_M  no_redeem  \n",
       "client_id                                            \n",
       "c0582c1d5e  0.606350 -0.763412 -0.449111  -0.311067  \n",
       "9a96a00f1d  1.111155  1.309908 -0.449111  -0.311067  \n",
       "55bca71943 -0.908066 -0.763412 -0.449111   3.214739  \n",
       "5bb5a27171 -0.340160  1.309908 -0.449111  -0.311067  \n",
       "d9c7b97fba -0.277059 -0.763412  2.226620  -0.311067  \n",
       "...              ...       ...       ...        ...  \n",
       "f68c84f07b -1.728375 -0.763412  2.226620   3.214739  \n",
       "704cff2628 -0.277059 -0.763412 -0.449111  -0.311067  \n",
       "feff930002 -1.097368  1.309908 -0.449111  -0.311067  \n",
       "fa31a8a3bb  0.164645 -0.763412 -0.449111   3.214739  \n",
       "cf760d447c -0.971167 -0.763412 -0.449111  -0.311067  \n",
       "\n",
       "[28006 rows x 16 columns]"
      ]
     },
     "execution_count": 21,
     "metadata": {},
     "output_type": "execute_result"
    }
   ],
   "source": [
    "X_val = df_full.loc[indices_val, x_cols]\n",
    "X_val"
   ]
  },
  {
   "cell_type": "code",
   "execution_count": 22,
   "id": "994bca45",
   "metadata": {},
   "outputs": [
    {
     "data": {
      "text/plain": [
       "client_id\n",
       "c0582c1d5e    1\n",
       "9a96a00f1d    0\n",
       "55bca71943    0\n",
       "5bb5a27171    0\n",
       "d9c7b97fba    0\n",
       "             ..\n",
       "f68c84f07b    0\n",
       "704cff2628    1\n",
       "feff930002    1\n",
       "fa31a8a3bb    0\n",
       "cf760d447c    1\n",
       "Name: treatment_flg, Length: 28006, dtype: int64"
      ]
     },
     "execution_count": 22,
     "metadata": {},
     "output_type": "execute_result"
    }
   ],
   "source": [
    "treat_val = df_full.loc[indices_val, 'treatment_flg']\n",
    "treat_val"
   ]
  },
  {
   "cell_type": "code",
   "execution_count": 23,
   "id": "9762aaf8",
   "metadata": {},
   "outputs": [
    {
     "data": {
      "text/plain": [
       "client_id\n",
       "c0582c1d5e    1\n",
       "9a96a00f1d    1\n",
       "55bca71943    0\n",
       "5bb5a27171    1\n",
       "d9c7b97fba    0\n",
       "             ..\n",
       "f68c84f07b    1\n",
       "704cff2628    1\n",
       "feff930002    1\n",
       "fa31a8a3bb    0\n",
       "cf760d447c    1\n",
       "Name: purchased, Length: 28006, dtype: int64"
      ]
     },
     "execution_count": 23,
     "metadata": {},
     "output_type": "execute_result"
    }
   ],
   "source": [
    "y_val = df_full.loc[indices_val, 'purchased']\n",
    "y_val"
   ]
  },
  {
   "cell_type": "markdown",
   "id": "04823fba",
   "metadata": {},
   "source": [
    "# Model"
   ]
  },
  {
   "cell_type": "markdown",
   "id": "595b8b69",
   "metadata": {},
   "source": [
    "## 1st optimization round"
   ]
  },
  {
   "cell_type": "code",
   "execution_count": 27,
   "id": "dbbbaef3",
   "metadata": {},
   "outputs": [],
   "source": [
    "estimator = LogisticRegression(random_state=8,\n",
    "                              penalty='elasticnet',\n",
    "                              solver='saga')"
   ]
  },
  {
   "cell_type": "code",
   "execution_count": 28,
   "id": "08c1a2de",
   "metadata": {},
   "outputs": [],
   "source": [
    "model = ClassTransformation(estimator = estimator)"
   ]
  },
  {
   "cell_type": "code",
   "execution_count": 29,
   "id": "d6cf40d0",
   "metadata": {},
   "outputs": [],
   "source": [
    "uplift_scorer = metrics.make_uplift_scorer(\"qini_auc_score\", treat_train)"
   ]
  },
  {
   "cell_type": "code",
   "execution_count": 30,
   "id": "bc192aef",
   "metadata": {},
   "outputs": [],
   "source": [
    "params = {\n",
    "    'estimator__C': [0.1, 1, 10],\n",
    "    'estimator__max_iter': [50, 100, 200],\n",
    "    'estimator__l1_ratio': [0, 0.5, 1]\n",
    "}"
   ]
  },
  {
   "cell_type": "code",
   "execution_count": 31,
   "id": "7c848c37",
   "metadata": {},
   "outputs": [],
   "source": [
    "grid_search = GridSearchCV(model,\n",
    "                           param_grid=params,\n",
    "                           scoring=uplift_scorer,\n",
    "                           cv=5,\n",
    "                           verbose=4\n",
    "                          )"
   ]
  },
  {
   "cell_type": "code",
   "execution_count": 32,
   "id": "8f559a96",
   "metadata": {},
   "outputs": [
    {
     "name": "stdout",
     "output_type": "stream",
     "text": [
      "Fitting 5 folds for each of 27 candidates, totalling 135 fits\n"
     ]
    },
    {
     "name": "stderr",
     "output_type": "stream",
     "text": [
      "/home/denis/MyCode/Git/Kaggle_CFT/env/lib/python3.10/site-packages/sklearn/linear_model/_sag.py:350: ConvergenceWarning: The max_iter was reached which means the coef_ did not converge\n",
      "  warnings.warn(\n"
     ]
    },
    {
     "name": "stdout",
     "output_type": "stream",
     "text": [
      "[CV 1/5] END estimator__C=0.1, estimator__l1_ratio=0, estimator__max_iter=50;, score=0.016 total time=   2.3s\n"
     ]
    },
    {
     "name": "stderr",
     "output_type": "stream",
     "text": [
      "/home/denis/MyCode/Git/Kaggle_CFT/env/lib/python3.10/site-packages/sklearn/linear_model/_sag.py:350: ConvergenceWarning: The max_iter was reached which means the coef_ did not converge\n",
      "  warnings.warn(\n"
     ]
    },
    {
     "name": "stdout",
     "output_type": "stream",
     "text": [
      "[CV 2/5] END estimator__C=0.1, estimator__l1_ratio=0, estimator__max_iter=50;, score=0.018 total time=   2.3s\n"
     ]
    },
    {
     "name": "stderr",
     "output_type": "stream",
     "text": [
      "/home/denis/MyCode/Git/Kaggle_CFT/env/lib/python3.10/site-packages/sklearn/linear_model/_sag.py:350: ConvergenceWarning: The max_iter was reached which means the coef_ did not converge\n",
      "  warnings.warn(\n"
     ]
    },
    {
     "name": "stdout",
     "output_type": "stream",
     "text": [
      "[CV 3/5] END estimator__C=0.1, estimator__l1_ratio=0, estimator__max_iter=50;, score=0.012 total time=   2.3s\n"
     ]
    },
    {
     "name": "stderr",
     "output_type": "stream",
     "text": [
      "/home/denis/MyCode/Git/Kaggle_CFT/env/lib/python3.10/site-packages/sklearn/linear_model/_sag.py:350: ConvergenceWarning: The max_iter was reached which means the coef_ did not converge\n",
      "  warnings.warn(\n"
     ]
    },
    {
     "name": "stdout",
     "output_type": "stream",
     "text": [
      "[CV 4/5] END estimator__C=0.1, estimator__l1_ratio=0, estimator__max_iter=50;, score=0.018 total time=   2.3s\n",
      "[CV 5/5] END estimator__C=0.1, estimator__l1_ratio=0, estimator__max_iter=50;, score=0.014 total time=   1.8s\n"
     ]
    },
    {
     "name": "stderr",
     "output_type": "stream",
     "text": [
      "/home/denis/MyCode/Git/Kaggle_CFT/env/lib/python3.10/site-packages/sklearn/linear_model/_sag.py:350: ConvergenceWarning: The max_iter was reached which means the coef_ did not converge\n",
      "  warnings.warn(\n"
     ]
    },
    {
     "name": "stdout",
     "output_type": "stream",
     "text": [
      "[CV 1/5] END estimator__C=0.1, estimator__l1_ratio=0, estimator__max_iter=100;, score=0.016 total time=   4.5s\n",
      "[CV 2/5] END estimator__C=0.1, estimator__l1_ratio=0, estimator__max_iter=100;, score=0.018 total time=   3.1s\n"
     ]
    },
    {
     "name": "stderr",
     "output_type": "stream",
     "text": [
      "/home/denis/MyCode/Git/Kaggle_CFT/env/lib/python3.10/site-packages/sklearn/linear_model/_sag.py:350: ConvergenceWarning: The max_iter was reached which means the coef_ did not converge\n",
      "  warnings.warn(\n"
     ]
    },
    {
     "name": "stdout",
     "output_type": "stream",
     "text": [
      "[CV 3/5] END estimator__C=0.1, estimator__l1_ratio=0, estimator__max_iter=100;, score=0.012 total time=   4.5s\n"
     ]
    },
    {
     "name": "stderr",
     "output_type": "stream",
     "text": [
      "/home/denis/MyCode/Git/Kaggle_CFT/env/lib/python3.10/site-packages/sklearn/linear_model/_sag.py:350: ConvergenceWarning: The max_iter was reached which means the coef_ did not converge\n",
      "  warnings.warn(\n"
     ]
    },
    {
     "name": "stdout",
     "output_type": "stream",
     "text": [
      "[CV 4/5] END estimator__C=0.1, estimator__l1_ratio=0, estimator__max_iter=100;, score=0.018 total time=   4.5s\n",
      "[CV 5/5] END estimator__C=0.1, estimator__l1_ratio=0, estimator__max_iter=100;, score=0.014 total time=   1.8s\n",
      "[CV 1/5] END estimator__C=0.1, estimator__l1_ratio=0, estimator__max_iter=200;, score=0.016 total time=   5.9s\n",
      "[CV 2/5] END estimator__C=0.1, estimator__l1_ratio=0, estimator__max_iter=200;, score=0.018 total time=   3.1s\n",
      "[CV 3/5] END estimator__C=0.1, estimator__l1_ratio=0, estimator__max_iter=200;, score=0.012 total time=   4.8s\n",
      "[CV 4/5] END estimator__C=0.1, estimator__l1_ratio=0, estimator__max_iter=200;, score=0.018 total time=   4.8s\n",
      "[CV 5/5] END estimator__C=0.1, estimator__l1_ratio=0, estimator__max_iter=200;, score=0.014 total time=   1.8s\n"
     ]
    },
    {
     "name": "stderr",
     "output_type": "stream",
     "text": [
      "/home/denis/MyCode/Git/Kaggle_CFT/env/lib/python3.10/site-packages/sklearn/linear_model/_sag.py:350: ConvergenceWarning: The max_iter was reached which means the coef_ did not converge\n",
      "  warnings.warn(\n"
     ]
    },
    {
     "name": "stdout",
     "output_type": "stream",
     "text": [
      "[CV 1/5] END estimator__C=0.1, estimator__l1_ratio=0.5, estimator__max_iter=50;, score=0.016 total time=   2.5s\n"
     ]
    },
    {
     "name": "stderr",
     "output_type": "stream",
     "text": [
      "/home/denis/MyCode/Git/Kaggle_CFT/env/lib/python3.10/site-packages/sklearn/linear_model/_sag.py:350: ConvergenceWarning: The max_iter was reached which means the coef_ did not converge\n",
      "  warnings.warn(\n"
     ]
    },
    {
     "name": "stdout",
     "output_type": "stream",
     "text": [
      "[CV 2/5] END estimator__C=0.1, estimator__l1_ratio=0.5, estimator__max_iter=50;, score=0.017 total time=   2.6s\n",
      "[CV 3/5] END estimator__C=0.1, estimator__l1_ratio=0.5, estimator__max_iter=50;, score=0.012 total time=   2.5s\n"
     ]
    },
    {
     "name": "stderr",
     "output_type": "stream",
     "text": [
      "/home/denis/MyCode/Git/Kaggle_CFT/env/lib/python3.10/site-packages/sklearn/linear_model/_sag.py:350: ConvergenceWarning: The max_iter was reached which means the coef_ did not converge\n",
      "  warnings.warn(\n"
     ]
    },
    {
     "name": "stdout",
     "output_type": "stream",
     "text": [
      "[CV 4/5] END estimator__C=0.1, estimator__l1_ratio=0.5, estimator__max_iter=50;, score=0.018 total time=   2.6s\n",
      "[CV 5/5] END estimator__C=0.1, estimator__l1_ratio=0.5, estimator__max_iter=50;, score=0.014 total time=   1.9s\n"
     ]
    },
    {
     "name": "stderr",
     "output_type": "stream",
     "text": [
      "/home/denis/MyCode/Git/Kaggle_CFT/env/lib/python3.10/site-packages/sklearn/linear_model/_sag.py:350: ConvergenceWarning: The max_iter was reached which means the coef_ did not converge\n",
      "  warnings.warn(\n"
     ]
    },
    {
     "name": "stdout",
     "output_type": "stream",
     "text": [
      "[CV 1/5] END estimator__C=0.1, estimator__l1_ratio=0.5, estimator__max_iter=100;, score=0.016 total time=   4.9s\n",
      "[CV 2/5] END estimator__C=0.1, estimator__l1_ratio=0.5, estimator__max_iter=100;, score=0.017 total time=   4.5s\n",
      "[CV 3/5] END estimator__C=0.1, estimator__l1_ratio=0.5, estimator__max_iter=100;, score=0.012 total time=   2.5s\n",
      "[CV 4/5] END estimator__C=0.1, estimator__l1_ratio=0.5, estimator__max_iter=100;, score=0.018 total time=   4.8s\n",
      "[CV 5/5] END estimator__C=0.1, estimator__l1_ratio=0.5, estimator__max_iter=100;, score=0.014 total time=   1.9s\n",
      "[CV 1/5] END estimator__C=0.1, estimator__l1_ratio=0.5, estimator__max_iter=200;, score=0.016 total time=   6.5s\n",
      "[CV 2/5] END estimator__C=0.1, estimator__l1_ratio=0.5, estimator__max_iter=200;, score=0.017 total time=   4.5s\n",
      "[CV 3/5] END estimator__C=0.1, estimator__l1_ratio=0.5, estimator__max_iter=200;, score=0.012 total time=   2.5s\n",
      "[CV 4/5] END estimator__C=0.1, estimator__l1_ratio=0.5, estimator__max_iter=200;, score=0.018 total time=   4.8s\n",
      "[CV 5/5] END estimator__C=0.1, estimator__l1_ratio=0.5, estimator__max_iter=200;, score=0.014 total time=   1.9s\n"
     ]
    },
    {
     "name": "stderr",
     "output_type": "stream",
     "text": [
      "/home/denis/MyCode/Git/Kaggle_CFT/env/lib/python3.10/site-packages/sklearn/linear_model/_sag.py:350: ConvergenceWarning: The max_iter was reached which means the coef_ did not converge\n",
      "  warnings.warn(\n"
     ]
    },
    {
     "name": "stdout",
     "output_type": "stream",
     "text": [
      "[CV 1/5] END estimator__C=0.1, estimator__l1_ratio=1, estimator__max_iter=50;, score=0.016 total time=   2.3s\n",
      "[CV 2/5] END estimator__C=0.1, estimator__l1_ratio=1, estimator__max_iter=50;, score=0.017 total time=   2.1s\n",
      "[CV 3/5] END estimator__C=0.1, estimator__l1_ratio=1, estimator__max_iter=50;, score=0.012 total time=   2.2s\n"
     ]
    },
    {
     "name": "stderr",
     "output_type": "stream",
     "text": [
      "/home/denis/MyCode/Git/Kaggle_CFT/env/lib/python3.10/site-packages/sklearn/linear_model/_sag.py:350: ConvergenceWarning: The max_iter was reached which means the coef_ did not converge\n",
      "  warnings.warn(\n"
     ]
    },
    {
     "name": "stdout",
     "output_type": "stream",
     "text": [
      "[CV 4/5] END estimator__C=0.1, estimator__l1_ratio=1, estimator__max_iter=50;, score=0.018 total time=   2.3s\n",
      "[CV 5/5] END estimator__C=0.1, estimator__l1_ratio=1, estimator__max_iter=50;, score=0.014 total time=   1.6s\n"
     ]
    },
    {
     "name": "stderr",
     "output_type": "stream",
     "text": [
      "/home/denis/MyCode/Git/Kaggle_CFT/env/lib/python3.10/site-packages/sklearn/linear_model/_sag.py:350: ConvergenceWarning: The max_iter was reached which means the coef_ did not converge\n",
      "  warnings.warn(\n"
     ]
    },
    {
     "name": "stdout",
     "output_type": "stream",
     "text": [
      "[CV 1/5] END estimator__C=0.1, estimator__l1_ratio=1, estimator__max_iter=100;, score=0.016 total time=   4.4s\n",
      "[CV 2/5] END estimator__C=0.1, estimator__l1_ratio=1, estimator__max_iter=100;, score=0.017 total time=   2.1s\n",
      "[CV 3/5] END estimator__C=0.1, estimator__l1_ratio=1, estimator__max_iter=100;, score=0.012 total time=   2.2s\n",
      "[CV 4/5] END estimator__C=0.1, estimator__l1_ratio=1, estimator__max_iter=100;, score=0.018 total time=   3.0s\n",
      "[CV 5/5] END estimator__C=0.1, estimator__l1_ratio=1, estimator__max_iter=100;, score=0.014 total time=   1.6s\n",
      "[CV 1/5] END estimator__C=0.1, estimator__l1_ratio=1, estimator__max_iter=200;, score=0.016 total time=   5.8s\n",
      "[CV 2/5] END estimator__C=0.1, estimator__l1_ratio=1, estimator__max_iter=200;, score=0.017 total time=   2.1s\n",
      "[CV 3/5] END estimator__C=0.1, estimator__l1_ratio=1, estimator__max_iter=200;, score=0.012 total time=   2.2s\n",
      "[CV 4/5] END estimator__C=0.1, estimator__l1_ratio=1, estimator__max_iter=200;, score=0.018 total time=   3.0s\n",
      "[CV 5/5] END estimator__C=0.1, estimator__l1_ratio=1, estimator__max_iter=200;, score=0.014 total time=   1.6s\n"
     ]
    },
    {
     "name": "stderr",
     "output_type": "stream",
     "text": [
      "/home/denis/MyCode/Git/Kaggle_CFT/env/lib/python3.10/site-packages/sklearn/linear_model/_sag.py:350: ConvergenceWarning: The max_iter was reached which means the coef_ did not converge\n",
      "  warnings.warn(\n"
     ]
    },
    {
     "name": "stdout",
     "output_type": "stream",
     "text": [
      "[CV 1/5] END estimator__C=1, estimator__l1_ratio=0, estimator__max_iter=50;, score=0.016 total time=   2.3s\n"
     ]
    },
    {
     "name": "stderr",
     "output_type": "stream",
     "text": [
      "/home/denis/MyCode/Git/Kaggle_CFT/env/lib/python3.10/site-packages/sklearn/linear_model/_sag.py:350: ConvergenceWarning: The max_iter was reached which means the coef_ did not converge\n",
      "  warnings.warn(\n"
     ]
    },
    {
     "name": "stdout",
     "output_type": "stream",
     "text": [
      "[CV 2/5] END estimator__C=1, estimator__l1_ratio=0, estimator__max_iter=50;, score=0.018 total time=   2.3s\n"
     ]
    },
    {
     "name": "stderr",
     "output_type": "stream",
     "text": [
      "/home/denis/MyCode/Git/Kaggle_CFT/env/lib/python3.10/site-packages/sklearn/linear_model/_sag.py:350: ConvergenceWarning: The max_iter was reached which means the coef_ did not converge\n",
      "  warnings.warn(\n"
     ]
    },
    {
     "name": "stdout",
     "output_type": "stream",
     "text": [
      "[CV 3/5] END estimator__C=1, estimator__l1_ratio=0, estimator__max_iter=50;, score=0.012 total time=   2.3s\n"
     ]
    },
    {
     "name": "stderr",
     "output_type": "stream",
     "text": [
      "/home/denis/MyCode/Git/Kaggle_CFT/env/lib/python3.10/site-packages/sklearn/linear_model/_sag.py:350: ConvergenceWarning: The max_iter was reached which means the coef_ did not converge\n",
      "  warnings.warn(\n"
     ]
    },
    {
     "name": "stdout",
     "output_type": "stream",
     "text": [
      "[CV 4/5] END estimator__C=1, estimator__l1_ratio=0, estimator__max_iter=50;, score=0.018 total time=   2.3s\n",
      "[CV 5/5] END estimator__C=1, estimator__l1_ratio=0, estimator__max_iter=50;, score=0.014 total time=   1.8s\n"
     ]
    },
    {
     "name": "stderr",
     "output_type": "stream",
     "text": [
      "/home/denis/MyCode/Git/Kaggle_CFT/env/lib/python3.10/site-packages/sklearn/linear_model/_sag.py:350: ConvergenceWarning: The max_iter was reached which means the coef_ did not converge\n",
      "  warnings.warn(\n"
     ]
    },
    {
     "name": "stdout",
     "output_type": "stream",
     "text": [
      "[CV 1/5] END estimator__C=1, estimator__l1_ratio=0, estimator__max_iter=100;, score=0.016 total time=   4.4s\n",
      "[CV 2/5] END estimator__C=1, estimator__l1_ratio=0, estimator__max_iter=100;, score=0.018 total time=   3.0s\n"
     ]
    },
    {
     "name": "stderr",
     "output_type": "stream",
     "text": [
      "/home/denis/MyCode/Git/Kaggle_CFT/env/lib/python3.10/site-packages/sklearn/linear_model/_sag.py:350: ConvergenceWarning: The max_iter was reached which means the coef_ did not converge\n",
      "  warnings.warn(\n"
     ]
    },
    {
     "name": "stdout",
     "output_type": "stream",
     "text": [
      "[CV 3/5] END estimator__C=1, estimator__l1_ratio=0, estimator__max_iter=100;, score=0.012 total time=   4.5s\n"
     ]
    },
    {
     "name": "stderr",
     "output_type": "stream",
     "text": [
      "/home/denis/MyCode/Git/Kaggle_CFT/env/lib/python3.10/site-packages/sklearn/linear_model/_sag.py:350: ConvergenceWarning: The max_iter was reached which means the coef_ did not converge\n",
      "  warnings.warn(\n"
     ]
    },
    {
     "name": "stdout",
     "output_type": "stream",
     "text": [
      "[CV 4/5] END estimator__C=1, estimator__l1_ratio=0, estimator__max_iter=100;, score=0.018 total time=   4.5s\n",
      "[CV 5/5] END estimator__C=1, estimator__l1_ratio=0, estimator__max_iter=100;, score=0.014 total time=   1.8s\n",
      "[CV 1/5] END estimator__C=1, estimator__l1_ratio=0, estimator__max_iter=200;, score=0.016 total time=   5.9s\n",
      "[CV 2/5] END estimator__C=1, estimator__l1_ratio=0, estimator__max_iter=200;, score=0.018 total time=   3.0s\n",
      "[CV 3/5] END estimator__C=1, estimator__l1_ratio=0, estimator__max_iter=200;, score=0.012 total time=   4.8s\n",
      "[CV 4/5] END estimator__C=1, estimator__l1_ratio=0, estimator__max_iter=200;, score=0.018 total time=   4.8s\n",
      "[CV 5/5] END estimator__C=1, estimator__l1_ratio=0, estimator__max_iter=200;, score=0.014 total time=   1.8s\n"
     ]
    },
    {
     "name": "stderr",
     "output_type": "stream",
     "text": [
      "/home/denis/MyCode/Git/Kaggle_CFT/env/lib/python3.10/site-packages/sklearn/linear_model/_sag.py:350: ConvergenceWarning: The max_iter was reached which means the coef_ did not converge\n",
      "  warnings.warn(\n"
     ]
    },
    {
     "name": "stdout",
     "output_type": "stream",
     "text": [
      "[CV 1/5] END estimator__C=1, estimator__l1_ratio=0.5, estimator__max_iter=50;, score=0.016 total time=   2.5s\n"
     ]
    },
    {
     "name": "stderr",
     "output_type": "stream",
     "text": [
      "/home/denis/MyCode/Git/Kaggle_CFT/env/lib/python3.10/site-packages/sklearn/linear_model/_sag.py:350: ConvergenceWarning: The max_iter was reached which means the coef_ did not converge\n",
      "  warnings.warn(\n"
     ]
    },
    {
     "name": "stdout",
     "output_type": "stream",
     "text": [
      "[CV 2/5] END estimator__C=1, estimator__l1_ratio=0.5, estimator__max_iter=50;, score=0.018 total time=   2.5s\n"
     ]
    },
    {
     "name": "stderr",
     "output_type": "stream",
     "text": [
      "/home/denis/MyCode/Git/Kaggle_CFT/env/lib/python3.10/site-packages/sklearn/linear_model/_sag.py:350: ConvergenceWarning: The max_iter was reached which means the coef_ did not converge\n",
      "  warnings.warn(\n"
     ]
    },
    {
     "name": "stdout",
     "output_type": "stream",
     "text": [
      "[CV 3/5] END estimator__C=1, estimator__l1_ratio=0.5, estimator__max_iter=50;, score=0.012 total time=   2.7s\n"
     ]
    },
    {
     "name": "stderr",
     "output_type": "stream",
     "text": [
      "/home/denis/MyCode/Git/Kaggle_CFT/env/lib/python3.10/site-packages/sklearn/linear_model/_sag.py:350: ConvergenceWarning: The max_iter was reached which means the coef_ did not converge\n",
      "  warnings.warn(\n"
     ]
    },
    {
     "name": "stdout",
     "output_type": "stream",
     "text": [
      "[CV 4/5] END estimator__C=1, estimator__l1_ratio=0.5, estimator__max_iter=50;, score=0.018 total time=   2.6s\n",
      "[CV 5/5] END estimator__C=1, estimator__l1_ratio=0.5, estimator__max_iter=50;, score=0.014 total time=   2.0s\n"
     ]
    },
    {
     "name": "stderr",
     "output_type": "stream",
     "text": [
      "/home/denis/MyCode/Git/Kaggle_CFT/env/lib/python3.10/site-packages/sklearn/linear_model/_sag.py:350: ConvergenceWarning: The max_iter was reached which means the coef_ did not converge\n",
      "  warnings.warn(\n"
     ]
    },
    {
     "name": "stdout",
     "output_type": "stream",
     "text": [
      "[CV 1/5] END estimator__C=1, estimator__l1_ratio=0.5, estimator__max_iter=100;, score=0.016 total time=   5.4s\n",
      "[CV 2/5] END estimator__C=1, estimator__l1_ratio=0.5, estimator__max_iter=100;, score=0.018 total time=   3.7s\n"
     ]
    },
    {
     "name": "stderr",
     "output_type": "stream",
     "text": [
      "/home/denis/MyCode/Git/Kaggle_CFT/env/lib/python3.10/site-packages/sklearn/linear_model/_sag.py:350: ConvergenceWarning: The max_iter was reached which means the coef_ did not converge\n",
      "  warnings.warn(\n"
     ]
    },
    {
     "name": "stdout",
     "output_type": "stream",
     "text": [
      "[CV 3/5] END estimator__C=1, estimator__l1_ratio=0.5, estimator__max_iter=100;, score=0.012 total time=   5.2s\n"
     ]
    },
    {
     "name": "stderr",
     "output_type": "stream",
     "text": [
      "/home/denis/MyCode/Git/Kaggle_CFT/env/lib/python3.10/site-packages/sklearn/linear_model/_sag.py:350: ConvergenceWarning: The max_iter was reached which means the coef_ did not converge\n",
      "  warnings.warn(\n"
     ]
    },
    {
     "name": "stdout",
     "output_type": "stream",
     "text": [
      "[CV 4/5] END estimator__C=1, estimator__l1_ratio=0.5, estimator__max_iter=100;, score=0.018 total time=   5.2s\n",
      "[CV 5/5] END estimator__C=1, estimator__l1_ratio=0.5, estimator__max_iter=100;, score=0.014 total time=   2.0s\n",
      "[CV 1/5] END estimator__C=1, estimator__l1_ratio=0.5, estimator__max_iter=200;, score=0.016 total time=   6.6s\n",
      "[CV 2/5] END estimator__C=1, estimator__l1_ratio=0.5, estimator__max_iter=200;, score=0.018 total time=   3.6s\n",
      "[CV 3/5] END estimator__C=1, estimator__l1_ratio=0.5, estimator__max_iter=200;, score=0.012 total time=   5.0s\n",
      "[CV 4/5] END estimator__C=1, estimator__l1_ratio=0.5, estimator__max_iter=200;, score=0.018 total time=   5.3s\n",
      "[CV 5/5] END estimator__C=1, estimator__l1_ratio=0.5, estimator__max_iter=200;, score=0.014 total time=   2.0s\n"
     ]
    },
    {
     "name": "stderr",
     "output_type": "stream",
     "text": [
      "/home/denis/MyCode/Git/Kaggle_CFT/env/lib/python3.10/site-packages/sklearn/linear_model/_sag.py:350: ConvergenceWarning: The max_iter was reached which means the coef_ did not converge\n",
      "  warnings.warn(\n"
     ]
    },
    {
     "name": "stdout",
     "output_type": "stream",
     "text": [
      "[CV 1/5] END estimator__C=1, estimator__l1_ratio=1, estimator__max_iter=50;, score=0.016 total time=   2.3s\n"
     ]
    },
    {
     "name": "stderr",
     "output_type": "stream",
     "text": [
      "/home/denis/MyCode/Git/Kaggle_CFT/env/lib/python3.10/site-packages/sklearn/linear_model/_sag.py:350: ConvergenceWarning: The max_iter was reached which means the coef_ did not converge\n",
      "  warnings.warn(\n"
     ]
    },
    {
     "name": "stdout",
     "output_type": "stream",
     "text": [
      "[CV 2/5] END estimator__C=1, estimator__l1_ratio=1, estimator__max_iter=50;, score=0.018 total time=   2.3s\n"
     ]
    },
    {
     "name": "stderr",
     "output_type": "stream",
     "text": [
      "/home/denis/MyCode/Git/Kaggle_CFT/env/lib/python3.10/site-packages/sklearn/linear_model/_sag.py:350: ConvergenceWarning: The max_iter was reached which means the coef_ did not converge\n",
      "  warnings.warn(\n"
     ]
    },
    {
     "name": "stdout",
     "output_type": "stream",
     "text": [
      "[CV 3/5] END estimator__C=1, estimator__l1_ratio=1, estimator__max_iter=50;, score=0.012 total time=   2.3s\n"
     ]
    },
    {
     "name": "stderr",
     "output_type": "stream",
     "text": [
      "/home/denis/MyCode/Git/Kaggle_CFT/env/lib/python3.10/site-packages/sklearn/linear_model/_sag.py:350: ConvergenceWarning: The max_iter was reached which means the coef_ did not converge\n",
      "  warnings.warn(\n"
     ]
    },
    {
     "name": "stdout",
     "output_type": "stream",
     "text": [
      "[CV 4/5] END estimator__C=1, estimator__l1_ratio=1, estimator__max_iter=50;, score=0.018 total time=   2.3s\n",
      "[CV 5/5] END estimator__C=1, estimator__l1_ratio=1, estimator__max_iter=50;, score=0.014 total time=   1.8s\n"
     ]
    },
    {
     "name": "stderr",
     "output_type": "stream",
     "text": [
      "/home/denis/MyCode/Git/Kaggle_CFT/env/lib/python3.10/site-packages/sklearn/linear_model/_sag.py:350: ConvergenceWarning: The max_iter was reached which means the coef_ did not converge\n",
      "  warnings.warn(\n"
     ]
    },
    {
     "name": "stdout",
     "output_type": "stream",
     "text": [
      "[CV 1/5] END estimator__C=1, estimator__l1_ratio=1, estimator__max_iter=100;, score=0.016 total time=   4.5s\n",
      "[CV 2/5] END estimator__C=1, estimator__l1_ratio=1, estimator__max_iter=100;, score=0.018 total time=   3.3s\n",
      "[CV 3/5] END estimator__C=1, estimator__l1_ratio=1, estimator__max_iter=100;, score=0.012 total time=   4.2s\n"
     ]
    },
    {
     "name": "stderr",
     "output_type": "stream",
     "text": [
      "/home/denis/MyCode/Git/Kaggle_CFT/env/lib/python3.10/site-packages/sklearn/linear_model/_sag.py:350: ConvergenceWarning: The max_iter was reached which means the coef_ did not converge\n",
      "  warnings.warn(\n"
     ]
    },
    {
     "name": "stdout",
     "output_type": "stream",
     "text": [
      "[CV 4/5] END estimator__C=1, estimator__l1_ratio=1, estimator__max_iter=100;, score=0.018 total time=   4.4s\n",
      "[CV 5/5] END estimator__C=1, estimator__l1_ratio=1, estimator__max_iter=100;, score=0.014 total time=   1.8s\n",
      "[CV 1/5] END estimator__C=1, estimator__l1_ratio=1, estimator__max_iter=200;, score=0.016 total time=   5.9s\n",
      "[CV 2/5] END estimator__C=1, estimator__l1_ratio=1, estimator__max_iter=200;, score=0.018 total time=   3.3s\n",
      "[CV 3/5] END estimator__C=1, estimator__l1_ratio=1, estimator__max_iter=200;, score=0.012 total time=   4.2s\n",
      "[CV 4/5] END estimator__C=1, estimator__l1_ratio=1, estimator__max_iter=200;, score=0.018 total time=   4.7s\n",
      "[CV 5/5] END estimator__C=1, estimator__l1_ratio=1, estimator__max_iter=200;, score=0.014 total time=   1.8s\n"
     ]
    },
    {
     "name": "stderr",
     "output_type": "stream",
     "text": [
      "/home/denis/MyCode/Git/Kaggle_CFT/env/lib/python3.10/site-packages/sklearn/linear_model/_sag.py:350: ConvergenceWarning: The max_iter was reached which means the coef_ did not converge\n",
      "  warnings.warn(\n"
     ]
    },
    {
     "name": "stdout",
     "output_type": "stream",
     "text": [
      "[CV 1/5] END estimator__C=10, estimator__l1_ratio=0, estimator__max_iter=50;, score=0.016 total time=   2.3s\n"
     ]
    },
    {
     "name": "stderr",
     "output_type": "stream",
     "text": [
      "/home/denis/MyCode/Git/Kaggle_CFT/env/lib/python3.10/site-packages/sklearn/linear_model/_sag.py:350: ConvergenceWarning: The max_iter was reached which means the coef_ did not converge\n",
      "  warnings.warn(\n"
     ]
    },
    {
     "name": "stdout",
     "output_type": "stream",
     "text": [
      "[CV 2/5] END estimator__C=10, estimator__l1_ratio=0, estimator__max_iter=50;, score=0.018 total time=   2.3s\n"
     ]
    },
    {
     "name": "stderr",
     "output_type": "stream",
     "text": [
      "/home/denis/MyCode/Git/Kaggle_CFT/env/lib/python3.10/site-packages/sklearn/linear_model/_sag.py:350: ConvergenceWarning: The max_iter was reached which means the coef_ did not converge\n",
      "  warnings.warn(\n"
     ]
    },
    {
     "name": "stdout",
     "output_type": "stream",
     "text": [
      "[CV 3/5] END estimator__C=10, estimator__l1_ratio=0, estimator__max_iter=50;, score=0.012 total time=   2.3s\n"
     ]
    },
    {
     "name": "stderr",
     "output_type": "stream",
     "text": [
      "/home/denis/MyCode/Git/Kaggle_CFT/env/lib/python3.10/site-packages/sklearn/linear_model/_sag.py:350: ConvergenceWarning: The max_iter was reached which means the coef_ did not converge\n",
      "  warnings.warn(\n"
     ]
    },
    {
     "name": "stdout",
     "output_type": "stream",
     "text": [
      "[CV 4/5] END estimator__C=10, estimator__l1_ratio=0, estimator__max_iter=50;, score=0.018 total time=   2.3s\n",
      "[CV 5/5] END estimator__C=10, estimator__l1_ratio=0, estimator__max_iter=50;, score=0.014 total time=   1.8s\n"
     ]
    },
    {
     "name": "stderr",
     "output_type": "stream",
     "text": [
      "/home/denis/MyCode/Git/Kaggle_CFT/env/lib/python3.10/site-packages/sklearn/linear_model/_sag.py:350: ConvergenceWarning: The max_iter was reached which means the coef_ did not converge\n",
      "  warnings.warn(\n"
     ]
    },
    {
     "name": "stdout",
     "output_type": "stream",
     "text": [
      "[CV 1/5] END estimator__C=10, estimator__l1_ratio=0, estimator__max_iter=100;, score=0.016 total time=   4.5s\n",
      "[CV 2/5] END estimator__C=10, estimator__l1_ratio=0, estimator__max_iter=100;, score=0.018 total time=   3.0s\n"
     ]
    },
    {
     "name": "stderr",
     "output_type": "stream",
     "text": [
      "/home/denis/MyCode/Git/Kaggle_CFT/env/lib/python3.10/site-packages/sklearn/linear_model/_sag.py:350: ConvergenceWarning: The max_iter was reached which means the coef_ did not converge\n",
      "  warnings.warn(\n"
     ]
    },
    {
     "name": "stdout",
     "output_type": "stream",
     "text": [
      "[CV 3/5] END estimator__C=10, estimator__l1_ratio=0, estimator__max_iter=100;, score=0.012 total time=   4.5s\n"
     ]
    },
    {
     "name": "stderr",
     "output_type": "stream",
     "text": [
      "/home/denis/MyCode/Git/Kaggle_CFT/env/lib/python3.10/site-packages/sklearn/linear_model/_sag.py:350: ConvergenceWarning: The max_iter was reached which means the coef_ did not converge\n",
      "  warnings.warn(\n"
     ]
    },
    {
     "name": "stdout",
     "output_type": "stream",
     "text": [
      "[CV 4/5] END estimator__C=10, estimator__l1_ratio=0, estimator__max_iter=100;, score=0.018 total time=   4.5s\n",
      "[CV 5/5] END estimator__C=10, estimator__l1_ratio=0, estimator__max_iter=100;, score=0.014 total time=   1.8s\n",
      "[CV 1/5] END estimator__C=10, estimator__l1_ratio=0, estimator__max_iter=200;, score=0.016 total time=   5.9s\n",
      "[CV 2/5] END estimator__C=10, estimator__l1_ratio=0, estimator__max_iter=200;, score=0.018 total time=   3.0s\n",
      "[CV 3/5] END estimator__C=10, estimator__l1_ratio=0, estimator__max_iter=200;, score=0.012 total time=   4.8s\n",
      "[CV 4/5] END estimator__C=10, estimator__l1_ratio=0, estimator__max_iter=200;, score=0.018 total time=   4.9s\n",
      "[CV 5/5] END estimator__C=10, estimator__l1_ratio=0, estimator__max_iter=200;, score=0.014 total time=   1.8s\n"
     ]
    },
    {
     "name": "stderr",
     "output_type": "stream",
     "text": [
      "/home/denis/MyCode/Git/Kaggle_CFT/env/lib/python3.10/site-packages/sklearn/linear_model/_sag.py:350: ConvergenceWarning: The max_iter was reached which means the coef_ did not converge\n",
      "  warnings.warn(\n"
     ]
    },
    {
     "name": "stdout",
     "output_type": "stream",
     "text": [
      "[CV 1/5] END estimator__C=10, estimator__l1_ratio=0.5, estimator__max_iter=50;, score=0.016 total time=   2.5s\n"
     ]
    },
    {
     "name": "stderr",
     "output_type": "stream",
     "text": [
      "/home/denis/MyCode/Git/Kaggle_CFT/env/lib/python3.10/site-packages/sklearn/linear_model/_sag.py:350: ConvergenceWarning: The max_iter was reached which means the coef_ did not converge\n",
      "  warnings.warn(\n"
     ]
    },
    {
     "name": "stdout",
     "output_type": "stream",
     "text": [
      "[CV 2/5] END estimator__C=10, estimator__l1_ratio=0.5, estimator__max_iter=50;, score=0.018 total time=   2.5s\n"
     ]
    },
    {
     "name": "stderr",
     "output_type": "stream",
     "text": [
      "/home/denis/MyCode/Git/Kaggle_CFT/env/lib/python3.10/site-packages/sklearn/linear_model/_sag.py:350: ConvergenceWarning: The max_iter was reached which means the coef_ did not converge\n",
      "  warnings.warn(\n"
     ]
    },
    {
     "name": "stdout",
     "output_type": "stream",
     "text": [
      "[CV 3/5] END estimator__C=10, estimator__l1_ratio=0.5, estimator__max_iter=50;, score=0.012 total time=   2.5s\n"
     ]
    },
    {
     "name": "stderr",
     "output_type": "stream",
     "text": [
      "/home/denis/MyCode/Git/Kaggle_CFT/env/lib/python3.10/site-packages/sklearn/linear_model/_sag.py:350: ConvergenceWarning: The max_iter was reached which means the coef_ did not converge\n",
      "  warnings.warn(\n"
     ]
    },
    {
     "name": "stdout",
     "output_type": "stream",
     "text": [
      "[CV 4/5] END estimator__C=10, estimator__l1_ratio=0.5, estimator__max_iter=50;, score=0.018 total time=   2.5s\n",
      "[CV 5/5] END estimator__C=10, estimator__l1_ratio=0.5, estimator__max_iter=50;, score=0.014 total time=   2.0s\n"
     ]
    },
    {
     "name": "stderr",
     "output_type": "stream",
     "text": [
      "/home/denis/MyCode/Git/Kaggle_CFT/env/lib/python3.10/site-packages/sklearn/linear_model/_sag.py:350: ConvergenceWarning: The max_iter was reached which means the coef_ did not converge\n",
      "  warnings.warn(\n"
     ]
    },
    {
     "name": "stdout",
     "output_type": "stream",
     "text": [
      "[CV 1/5] END estimator__C=10, estimator__l1_ratio=0.5, estimator__max_iter=100;, score=0.016 total time=   4.9s\n",
      "[CV 2/5] END estimator__C=10, estimator__l1_ratio=0.5, estimator__max_iter=100;, score=0.018 total time=   3.4s\n"
     ]
    },
    {
     "name": "stderr",
     "output_type": "stream",
     "text": [
      "/home/denis/MyCode/Git/Kaggle_CFT/env/lib/python3.10/site-packages/sklearn/linear_model/_sag.py:350: ConvergenceWarning: The max_iter was reached which means the coef_ did not converge\n",
      "  warnings.warn(\n"
     ]
    },
    {
     "name": "stdout",
     "output_type": "stream",
     "text": [
      "[CV 3/5] END estimator__C=10, estimator__l1_ratio=0.5, estimator__max_iter=100;, score=0.012 total time=   4.9s\n"
     ]
    },
    {
     "name": "stderr",
     "output_type": "stream",
     "text": [
      "/home/denis/MyCode/Git/Kaggle_CFT/env/lib/python3.10/site-packages/sklearn/linear_model/_sag.py:350: ConvergenceWarning: The max_iter was reached which means the coef_ did not converge\n",
      "  warnings.warn(\n"
     ]
    },
    {
     "name": "stdout",
     "output_type": "stream",
     "text": [
      "[CV 4/5] END estimator__C=10, estimator__l1_ratio=0.5, estimator__max_iter=100;, score=0.018 total time=   4.9s\n",
      "[CV 5/5] END estimator__C=10, estimator__l1_ratio=0.5, estimator__max_iter=100;, score=0.014 total time=   2.0s\n",
      "[CV 1/5] END estimator__C=10, estimator__l1_ratio=0.5, estimator__max_iter=200;, score=0.016 total time=   6.6s\n",
      "[CV 2/5] END estimator__C=10, estimator__l1_ratio=0.5, estimator__max_iter=200;, score=0.018 total time=   3.4s\n",
      "[CV 3/5] END estimator__C=10, estimator__l1_ratio=0.5, estimator__max_iter=200;, score=0.012 total time=   5.3s\n",
      "[CV 4/5] END estimator__C=10, estimator__l1_ratio=0.5, estimator__max_iter=200;, score=0.018 total time=   5.4s\n",
      "[CV 5/5] END estimator__C=10, estimator__l1_ratio=0.5, estimator__max_iter=200;, score=0.014 total time=   2.0s\n"
     ]
    },
    {
     "name": "stderr",
     "output_type": "stream",
     "text": [
      "/home/denis/MyCode/Git/Kaggle_CFT/env/lib/python3.10/site-packages/sklearn/linear_model/_sag.py:350: ConvergenceWarning: The max_iter was reached which means the coef_ did not converge\n",
      "  warnings.warn(\n"
     ]
    },
    {
     "name": "stdout",
     "output_type": "stream",
     "text": [
      "[CV 1/5] END estimator__C=10, estimator__l1_ratio=1, estimator__max_iter=50;, score=0.016 total time=   2.3s\n"
     ]
    },
    {
     "name": "stderr",
     "output_type": "stream",
     "text": [
      "/home/denis/MyCode/Git/Kaggle_CFT/env/lib/python3.10/site-packages/sklearn/linear_model/_sag.py:350: ConvergenceWarning: The max_iter was reached which means the coef_ did not converge\n",
      "  warnings.warn(\n"
     ]
    },
    {
     "name": "stdout",
     "output_type": "stream",
     "text": [
      "[CV 2/5] END estimator__C=10, estimator__l1_ratio=1, estimator__max_iter=50;, score=0.018 total time=   2.3s\n"
     ]
    },
    {
     "name": "stderr",
     "output_type": "stream",
     "text": [
      "/home/denis/MyCode/Git/Kaggle_CFT/env/lib/python3.10/site-packages/sklearn/linear_model/_sag.py:350: ConvergenceWarning: The max_iter was reached which means the coef_ did not converge\n",
      "  warnings.warn(\n"
     ]
    },
    {
     "name": "stdout",
     "output_type": "stream",
     "text": [
      "[CV 3/5] END estimator__C=10, estimator__l1_ratio=1, estimator__max_iter=50;, score=0.012 total time=   2.3s\n"
     ]
    },
    {
     "name": "stderr",
     "output_type": "stream",
     "text": [
      "/home/denis/MyCode/Git/Kaggle_CFT/env/lib/python3.10/site-packages/sklearn/linear_model/_sag.py:350: ConvergenceWarning: The max_iter was reached which means the coef_ did not converge\n",
      "  warnings.warn(\n"
     ]
    },
    {
     "name": "stdout",
     "output_type": "stream",
     "text": [
      "[CV 4/5] END estimator__C=10, estimator__l1_ratio=1, estimator__max_iter=50;, score=0.018 total time=   2.3s\n",
      "[CV 5/5] END estimator__C=10, estimator__l1_ratio=1, estimator__max_iter=50;, score=0.014 total time=   1.8s\n"
     ]
    },
    {
     "name": "stderr",
     "output_type": "stream",
     "text": [
      "/home/denis/MyCode/Git/Kaggle_CFT/env/lib/python3.10/site-packages/sklearn/linear_model/_sag.py:350: ConvergenceWarning: The max_iter was reached which means the coef_ did not converge\n",
      "  warnings.warn(\n"
     ]
    },
    {
     "name": "stdout",
     "output_type": "stream",
     "text": [
      "[CV 1/5] END estimator__C=10, estimator__l1_ratio=1, estimator__max_iter=100;, score=0.016 total time=   4.4s\n",
      "[CV 2/5] END estimator__C=10, estimator__l1_ratio=1, estimator__max_iter=100;, score=0.018 total time=   3.1s\n"
     ]
    },
    {
     "name": "stderr",
     "output_type": "stream",
     "text": [
      "/home/denis/MyCode/Git/Kaggle_CFT/env/lib/python3.10/site-packages/sklearn/linear_model/_sag.py:350: ConvergenceWarning: The max_iter was reached which means the coef_ did not converge\n",
      "  warnings.warn(\n"
     ]
    },
    {
     "name": "stdout",
     "output_type": "stream",
     "text": [
      "[CV 3/5] END estimator__C=10, estimator__l1_ratio=1, estimator__max_iter=100;, score=0.012 total time=   4.4s\n"
     ]
    },
    {
     "name": "stderr",
     "output_type": "stream",
     "text": [
      "/home/denis/MyCode/Git/Kaggle_CFT/env/lib/python3.10/site-packages/sklearn/linear_model/_sag.py:350: ConvergenceWarning: The max_iter was reached which means the coef_ did not converge\n",
      "  warnings.warn(\n"
     ]
    },
    {
     "name": "stdout",
     "output_type": "stream",
     "text": [
      "[CV 4/5] END estimator__C=10, estimator__l1_ratio=1, estimator__max_iter=100;, score=0.018 total time=   4.5s\n",
      "[CV 5/5] END estimator__C=10, estimator__l1_ratio=1, estimator__max_iter=100;, score=0.014 total time=   1.8s\n",
      "[CV 1/5] END estimator__C=10, estimator__l1_ratio=1, estimator__max_iter=200;, score=0.016 total time=   5.9s\n",
      "[CV 2/5] END estimator__C=10, estimator__l1_ratio=1, estimator__max_iter=200;, score=0.018 total time=   3.1s\n",
      "[CV 3/5] END estimator__C=10, estimator__l1_ratio=1, estimator__max_iter=200;, score=0.012 total time=   4.7s\n",
      "[CV 4/5] END estimator__C=10, estimator__l1_ratio=1, estimator__max_iter=200;, score=0.018 total time=   4.8s\n",
      "[CV 5/5] END estimator__C=10, estimator__l1_ratio=1, estimator__max_iter=200;, score=0.014 total time=   1.8s\n",
      "CPU times: user 8min 38s, sys: 4.44 s, total: 8min 42s\n",
      "Wall time: 7min 32s\n"
     ]
    },
    {
     "name": "stderr",
     "output_type": "stream",
     "text": [
      "/home/denis/MyCode/Git/Kaggle_CFT/env/lib/python3.10/site-packages/sklearn/linear_model/_sag.py:350: ConvergenceWarning: The max_iter was reached which means the coef_ did not converge\n",
      "  warnings.warn(\n"
     ]
    }
   ],
   "source": [
    "%%time\n",
    "%%chime\n",
    "grid_search = grid_search.fit(\n",
    "    X=X_train,\n",
    "    y=y_train,\n",
    "    treatment=treat_train\n",
    ")"
   ]
  },
  {
   "cell_type": "code",
   "execution_count": 33,
   "id": "6cae536d",
   "metadata": {},
   "outputs": [
    {
     "data": {
      "text/plain": [
       "0.01550898286604686"
      ]
     },
     "execution_count": 33,
     "metadata": {},
     "output_type": "execute_result"
    }
   ],
   "source": [
    "grid_search.best_score_"
   ]
  },
  {
   "cell_type": "code",
   "execution_count": 34,
   "id": "fc38faa4",
   "metadata": {},
   "outputs": [
    {
     "data": {
      "text/plain": [
       "{'estimator__C': 0.1, 'estimator__l1_ratio': 0, 'estimator__max_iter': 50}"
      ]
     },
     "execution_count": 34,
     "metadata": {},
     "output_type": "execute_result"
    }
   ],
   "source": [
    "grid_search.best_params_"
   ]
  },
  {
   "cell_type": "markdown",
   "id": "148ee209",
   "metadata": {},
   "source": [
    "### Validation results"
   ]
  },
  {
   "cell_type": "code",
   "execution_count": 35,
   "id": "aa012c8d",
   "metadata": {},
   "outputs": [
    {
     "name": "stderr",
     "output_type": "stream",
     "text": [
      "/home/denis/MyCode/Git/Kaggle_CFT/env/lib/python3.10/site-packages/sklearn/linear_model/_sag.py:350: ConvergenceWarning: The max_iter was reached which means the coef_ did not converge\n",
      "  warnings.warn(\n"
     ]
    },
    {
     "data": {
      "text/html": [
       "<style>#sk-container-id-2 {color: black;background-color: white;}#sk-container-id-2 pre{padding: 0;}#sk-container-id-2 div.sk-toggleable {background-color: white;}#sk-container-id-2 label.sk-toggleable__label {cursor: pointer;display: block;width: 100%;margin-bottom: 0;padding: 0.3em;box-sizing: border-box;text-align: center;}#sk-container-id-2 label.sk-toggleable__label-arrow:before {content: \"▸\";float: left;margin-right: 0.25em;color: #696969;}#sk-container-id-2 label.sk-toggleable__label-arrow:hover:before {color: black;}#sk-container-id-2 div.sk-estimator:hover label.sk-toggleable__label-arrow:before {color: black;}#sk-container-id-2 div.sk-toggleable__content {max-height: 0;max-width: 0;overflow: hidden;text-align: left;background-color: #f0f8ff;}#sk-container-id-2 div.sk-toggleable__content pre {margin: 0.2em;color: black;border-radius: 0.25em;background-color: #f0f8ff;}#sk-container-id-2 input.sk-toggleable__control:checked~div.sk-toggleable__content {max-height: 200px;max-width: 100%;overflow: auto;}#sk-container-id-2 input.sk-toggleable__control:checked~label.sk-toggleable__label-arrow:before {content: \"▾\";}#sk-container-id-2 div.sk-estimator input.sk-toggleable__control:checked~label.sk-toggleable__label {background-color: #d4ebff;}#sk-container-id-2 div.sk-label input.sk-toggleable__control:checked~label.sk-toggleable__label {background-color: #d4ebff;}#sk-container-id-2 input.sk-hidden--visually {border: 0;clip: rect(1px 1px 1px 1px);clip: rect(1px, 1px, 1px, 1px);height: 1px;margin: -1px;overflow: hidden;padding: 0;position: absolute;width: 1px;}#sk-container-id-2 div.sk-estimator {font-family: monospace;background-color: #f0f8ff;border: 1px dotted black;border-radius: 0.25em;box-sizing: border-box;margin-bottom: 0.5em;}#sk-container-id-2 div.sk-estimator:hover {background-color: #d4ebff;}#sk-container-id-2 div.sk-parallel-item::after {content: \"\";width: 100%;border-bottom: 1px solid gray;flex-grow: 1;}#sk-container-id-2 div.sk-label:hover label.sk-toggleable__label {background-color: #d4ebff;}#sk-container-id-2 div.sk-serial::before {content: \"\";position: absolute;border-left: 1px solid gray;box-sizing: border-box;top: 0;bottom: 0;left: 50%;z-index: 0;}#sk-container-id-2 div.sk-serial {display: flex;flex-direction: column;align-items: center;background-color: white;padding-right: 0.2em;padding-left: 0.2em;position: relative;}#sk-container-id-2 div.sk-item {position: relative;z-index: 1;}#sk-container-id-2 div.sk-parallel {display: flex;align-items: stretch;justify-content: center;background-color: white;position: relative;}#sk-container-id-2 div.sk-item::before, #sk-container-id-2 div.sk-parallel-item::before {content: \"\";position: absolute;border-left: 1px solid gray;box-sizing: border-box;top: 0;bottom: 0;left: 50%;z-index: -1;}#sk-container-id-2 div.sk-parallel-item {display: flex;flex-direction: column;z-index: 1;position: relative;background-color: white;}#sk-container-id-2 div.sk-parallel-item:first-child::after {align-self: flex-end;width: 50%;}#sk-container-id-2 div.sk-parallel-item:last-child::after {align-self: flex-start;width: 50%;}#sk-container-id-2 div.sk-parallel-item:only-child::after {width: 0;}#sk-container-id-2 div.sk-dashed-wrapped {border: 1px dashed gray;margin: 0 0.4em 0.5em 0.4em;box-sizing: border-box;padding-bottom: 0.4em;background-color: white;}#sk-container-id-2 div.sk-label label {font-family: monospace;font-weight: bold;display: inline-block;line-height: 1.2em;}#sk-container-id-2 div.sk-label-container {text-align: center;}#sk-container-id-2 div.sk-container {/* jupyter's `normalize.less` sets `[hidden] { display: none; }` but bootstrap.min.css set `[hidden] { display: none !important; }` so we also need the `!important` here to be able to override the default hidden behavior on the sphinx rendered scikit-learn.org. See: https://github.com/scikit-learn/scikit-learn/issues/21755 */display: inline-block !important;position: relative;}#sk-container-id-2 div.sk-text-repr-fallback {display: none;}</style><div id=\"sk-container-id-2\" class=\"sk-top-container\"><div class=\"sk-text-repr-fallback\"><pre>ClassTransformation(estimator=LogisticRegression(C=0.1, l1_ratio=0, max_iter=50,\n",
       "                                                 penalty=&#x27;elasticnet&#x27;,\n",
       "                                                 random_state=8,\n",
       "                                                 solver=&#x27;saga&#x27;))</pre><b>In a Jupyter environment, please rerun this cell to show the HTML representation or trust the notebook. <br />On GitHub, the HTML representation is unable to render, please try loading this page with nbviewer.org.</b></div><div class=\"sk-container\" hidden><div class=\"sk-item sk-dashed-wrapped\"><div class=\"sk-label-container\"><div class=\"sk-label sk-toggleable\"><input class=\"sk-toggleable__control sk-hidden--visually\" id=\"sk-estimator-id-2\" type=\"checkbox\" ><label for=\"sk-estimator-id-2\" class=\"sk-toggleable__label sk-toggleable__label-arrow\">ClassTransformation</label><div class=\"sk-toggleable__content\"><pre>ClassTransformation(estimator=LogisticRegression(C=0.1, l1_ratio=0, max_iter=50,\n",
       "                                                 penalty=&#x27;elasticnet&#x27;,\n",
       "                                                 random_state=8,\n",
       "                                                 solver=&#x27;saga&#x27;))</pre></div></div></div><div class=\"sk-parallel\"><div class=\"sk-parallel-item\"><div class=\"sk-item\"><div class=\"sk-label-container\"><div class=\"sk-label sk-toggleable\"><input class=\"sk-toggleable__control sk-hidden--visually\" id=\"sk-estimator-id-3\" type=\"checkbox\" ><label for=\"sk-estimator-id-3\" class=\"sk-toggleable__label sk-toggleable__label-arrow\">estimator: LogisticRegression</label><div class=\"sk-toggleable__content\"><pre>LogisticRegression(C=0.1, l1_ratio=0, max_iter=50, penalty=&#x27;elasticnet&#x27;,\n",
       "                   random_state=8, solver=&#x27;saga&#x27;)</pre></div></div></div><div class=\"sk-serial\"><div class=\"sk-item\"><div class=\"sk-estimator sk-toggleable\"><input class=\"sk-toggleable__control sk-hidden--visually\" id=\"sk-estimator-id-4\" type=\"checkbox\" ><label for=\"sk-estimator-id-4\" class=\"sk-toggleable__label sk-toggleable__label-arrow\">LogisticRegression</label><div class=\"sk-toggleable__content\"><pre>LogisticRegression(C=0.1, l1_ratio=0, max_iter=50, penalty=&#x27;elasticnet&#x27;,\n",
       "                   random_state=8, solver=&#x27;saga&#x27;)</pre></div></div></div></div></div></div></div></div></div></div>"
      ],
      "text/plain": [
       "ClassTransformation(estimator=LogisticRegression(C=0.1, l1_ratio=0, max_iter=50,\n",
       "                                                 penalty='elasticnet',\n",
       "                                                 random_state=8,\n",
       "                                                 solver='saga'))"
      ]
     },
     "execution_count": 35,
     "metadata": {},
     "output_type": "execute_result"
    }
   ],
   "source": [
    "model.set_params(**grid_search.best_params_)\n",
    "\n",
    "model.fit(\n",
    "    X=X_train, \n",
    "    y=y_train, \n",
    "    treatment=treat_train,\n",
    ")"
   ]
  },
  {
   "cell_type": "code",
   "execution_count": 36,
   "id": "9f78e3c4",
   "metadata": {},
   "outputs": [
    {
     "data": {
      "text/plain": [
       "array([ 0.02805045,  0.02016099, -0.0055775 , ...,  0.00076976,\n",
       "        0.0381918 ,  0.01910849])"
      ]
     },
     "execution_count": 36,
     "metadata": {},
     "output_type": "execute_result"
    }
   ],
   "source": [
    "y_pred_val = model.predict(X_val)\n",
    "y_pred_val"
   ]
  },
  {
   "cell_type": "code",
   "execution_count": 37,
   "id": "c42dc6de",
   "metadata": {
    "scrolled": true
   },
   "outputs": [
    {
     "data": {
      "image/png": "[encoded data removed]",
      "text/plain": [
       "<Figure size 640x480 with 1 Axes>"
      ]
     },
     "metadata": {},
     "output_type": "display_data"
    }
   ],
   "source": [
    "plot_qini_curve(y_val, y_pred_val, treat_val);"
   ]
  },
  {
   "cell_type": "code",
   "execution_count": 38,
   "id": "44b8d9a5",
   "metadata": {
    "scrolled": false
   },
   "outputs": [
    {
     "data": {
      "text/plain": [
       "0.013760932059951212"
      ]
     },
     "execution_count": 38,
     "metadata": {},
     "output_type": "execute_result"
    }
   ],
   "source": [
    "metrics.qini_auc_score(y_val, y_pred_val, treat_val)"
   ]
  }
 ],
 "metadata": {
  "kernelspec": {
   "display_name": "Python 3 (ipykernel)",
   "language": "python",
   "name": "python3"
  },
  "language_info": {
   "codemirror_mode": {
    "name": "ipython",
    "version": 3
   },
   "file_extension": ".py",
   "mimetype": "text/x-python",
   "name": "python",
   "nbconvert_exporter": "python",
   "pygments_lexer": "ipython3",
   "version": "3.10.8"
  }
 },
 "nbformat": 4,
 "nbformat_minor": 5
}
