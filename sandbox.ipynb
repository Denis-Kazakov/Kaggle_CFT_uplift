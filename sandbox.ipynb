{
 "cells": [
  {
   "cell_type": "markdown",
   "id": "cac3edd7",
   "metadata": {},
   "source": [
    "# Attempt to combine input of different shapes in sklearn\n",
    "The model will have two inputs: one for time-dependent data (client purchases) and one for time-independent data (client data).\n",
    "\n",
    "This time, I tried to combine xgboost for time-independent data and keras for time-dependent data by creating a tuple of datasets with different shapes."
   ]
  },
  {
   "cell_type": "code",
   "execution_count": 39,
   "id": "35667dbc",
   "metadata": {},
   "outputs": [],
   "source": [
    "import numpy as np\n",
    "from xgboost import XGBClassifier\n",
    "from sklift.models import ClassTransformation\n",
    "from sklift import metrics\n",
    "from sklift.viz import plot_qini_curve\n",
    "from sklearn.pipeline import Pipeline\n",
    "from sklearn.ensemble import VotingClassifier\n",
    "import tensorflow as tf\n",
    "from tensorflow import keras\n",
    "from scikeras.wrappers import KerasClassifier\n",
    "import pandas as pd"
   ]
  },
  {
   "cell_type": "code",
   "execution_count": 21,
   "id": "66be263e",
   "metadata": {},
   "outputs": [],
   "source": [
    "import chime"
   ]
  },
  {
   "cell_type": "code",
   "execution_count": 22,
   "id": "54b35537",
   "metadata": {},
   "outputs": [
    {
     "name": "stdout",
     "output_type": "stream",
     "text": [
      "The chime extension is already loaded. To reload it, use:\n",
      "  %reload_ext chime\n"
     ]
    }
   ],
   "source": [
    "%load_ext chime"
   ]
  },
  {
   "cell_type": "code",
   "execution_count": 35,
   "id": "90180edb",
   "metadata": {},
   "outputs": [],
   "source": [
    "class InputSelect():\n",
    "    def __init__(self, n_input):\n",
    "        self.n_input = n_input\n",
    "    def fit(self, X, y=None):\n",
    "        return self\n",
    "    def transform(self, X, y=None):\n",
    "        print(X[self.n_input].shape)\n",
    "        return X[self.n_input]\n",
    "        \n"
   ]
  },
  {
   "cell_type": "code",
   "execution_count": 24,
   "id": "deac8ad8",
   "metadata": {
    "scrolled": true
   },
   "outputs": [],
   "source": [
    "clf0 =  Pipeline([('select', InputSelect(0)), ('xgb', XGBClassifier())])"
   ]
  },
  {
   "cell_type": "code",
   "execution_count": 43,
   "id": "1d13eb49",
   "metadata": {},
   "outputs": [],
   "source": [
    "def get_model(hidden_layer_dim, meta):\n",
    "    n_features_in_ = meta[\"n_features_in_\"]\n",
    "    X_shape_ = meta[\"X_shape_\"]\n",
    "    n_classes_ = meta[\"n_classes_\"]\n",
    "\n",
    "    model = keras.models.Sequential()\n",
    "    model.add(keras.layers.Dense(n_features_in_, \n",
    "                                 input_shape=X_shape_[1:],\n",
    "                                activation='relu'))\n",
    "    model.add(keras.layers.Dense(hidden_layer_dim, activation='relu'))\n",
    "    model.add(keras.layers.Dense(1, activation='sigmoid'))\n",
    "    return model\n",
    "\n",
    "neural = KerasClassifier(\n",
    "    get_model,\n",
    "    loss=\"binary_crossentropy\",\n",
    "    hidden_layer_dim=4,\n",
    ")\n",
    "\n"
   ]
  },
  {
   "cell_type": "code",
   "execution_count": 44,
   "id": "d227db0a",
   "metadata": {
    "scrolled": true
   },
   "outputs": [],
   "source": [
    "clf1 =  Pipeline([('select', InputSelect(1)), ('neural', neural)])"
   ]
  },
  {
   "cell_type": "code",
   "execution_count": 27,
   "id": "41bf6ffc",
   "metadata": {
    "scrolled": true
   },
   "outputs": [
    {
     "data": {
      "text/plain": [
       "array([[0.03797125, 0.83718193, 0.02252683],\n",
       "       [0.18087422, 0.48976587, 0.11048471],\n",
       "       [0.35677924, 0.13801391, 0.10801287],\n",
       "       [0.51201592, 0.0035916 , 0.07825074],\n",
       "       [0.80042356, 0.434177  , 0.06981468]])"
      ]
     },
     "execution_count": 27,
     "metadata": {},
     "output_type": "execute_result"
    }
   ],
   "source": [
    "X0 = np.random.rand(5, 3)\n",
    "X0"
   ]
  },
  {
   "cell_type": "code",
   "execution_count": 28,
   "id": "e5eae4e1",
   "metadata": {},
   "outputs": [],
   "source": [
    "X1 = np.random.rand(5, 2, 4)"
   ]
  },
  {
   "cell_type": "code",
   "execution_count": 29,
   "id": "99adc489",
   "metadata": {},
   "outputs": [],
   "source": [
    "X = (X0, X1)"
   ]
  },
  {
   "cell_type": "code",
   "execution_count": 53,
   "id": "cde33e3e",
   "metadata": {},
   "outputs": [],
   "source": [
    "treat = pd.Series([0, 1, 0, 1, 0])"
   ]
  },
  {
   "cell_type": "code",
   "execution_count": 40,
   "id": "3d385159",
   "metadata": {},
   "outputs": [],
   "source": [
    "y = pd.Series([1, 1, 1, 0, 0])"
   ]
  },
  {
   "cell_type": "code",
   "execution_count": 47,
   "id": "dfe7d9a1",
   "metadata": {},
   "outputs": [],
   "source": [
    "clf = VotingClassifier(estimators=[('clf0', clf0), ('clf1', clf1)],\n",
    "                      voting='soft')"
   ]
  },
  {
   "cell_type": "code",
   "execution_count": 51,
   "id": "963ce702",
   "metadata": {},
   "outputs": [],
   "source": [
    "model = ClassTransformation(estimator=clf)"
   ]
  },
  {
   "cell_type": "code",
   "execution_count": 54,
   "id": "9c9714f2",
   "metadata": {},
   "outputs": [
    {
     "ename": "ValueError",
     "evalue": "Found input variables with inconsistent numbers of samples: [2, 5, 5]",
     "output_type": "error",
     "traceback": [
      "\u001b[0;31m---------------------------------------------------------------------------\u001b[0m",
      "\u001b[0;31mValueError\u001b[0m                                Traceback (most recent call last)",
      "Cell \u001b[0;32mIn[54], line 1\u001b[0m\n\u001b[0;32m----> 1\u001b[0m \u001b[43mmodel\u001b[49m\u001b[38;5;241;43m.\u001b[39;49m\u001b[43mfit\u001b[49m\u001b[43m(\u001b[49m\u001b[43mX\u001b[49m\u001b[43m,\u001b[49m\u001b[43m \u001b[49m\u001b[43my\u001b[49m\u001b[43m,\u001b[49m\u001b[43m \u001b[49m\u001b[43mtreat\u001b[49m\u001b[43m)\u001b[49m\n",
      "File \u001b[0;32m~/MyCode/Git/Kaggle_CFT/env/lib/python3.10/site-packages/sklift/models/models.py:247\u001b[0m, in \u001b[0;36mClassTransformation.fit\u001b[0;34m(self, X, y, treatment, estimator_fit_params)\u001b[0m\n\u001b[1;32m    233\u001b[0m \u001b[38;5;28;01mdef\u001b[39;00m \u001b[38;5;21mfit\u001b[39m(\u001b[38;5;28mself\u001b[39m, X, y, treatment, estimator_fit_params\u001b[38;5;241m=\u001b[39m\u001b[38;5;28;01mNone\u001b[39;00m):\n\u001b[1;32m    234\u001b[0m     \u001b[38;5;124;03m\"\"\"Fit the model according to the given training data.\u001b[39;00m\n\u001b[1;32m    235\u001b[0m \n\u001b[1;32m    236\u001b[0m \u001b[38;5;124;03m    Args:\u001b[39;00m\n\u001b[0;32m   (...)\u001b[0m\n\u001b[1;32m    244\u001b[0m \u001b[38;5;124;03m        object: self\u001b[39;00m\n\u001b[1;32m    245\u001b[0m \u001b[38;5;124;03m    \"\"\"\u001b[39;00m\n\u001b[0;32m--> 247\u001b[0m     \u001b[43mcheck_consistent_length\u001b[49m\u001b[43m(\u001b[49m\u001b[43mX\u001b[49m\u001b[43m,\u001b[49m\u001b[43m \u001b[49m\u001b[43my\u001b[49m\u001b[43m,\u001b[49m\u001b[43m \u001b[49m\u001b[43mtreatment\u001b[49m\u001b[43m)\u001b[49m\n\u001b[1;32m    248\u001b[0m     check_is_binary(treatment)\n\u001b[1;32m    249\u001b[0m     \u001b[38;5;28mself\u001b[39m\u001b[38;5;241m.\u001b[39m_type_of_target \u001b[38;5;241m=\u001b[39m type_of_target(y)\n",
      "File \u001b[0;32m~/MyCode/Git/Kaggle_CFT/env/lib/python3.10/site-packages/sklearn/utils/validation.py:387\u001b[0m, in \u001b[0;36mcheck_consistent_length\u001b[0;34m(*arrays)\u001b[0m\n\u001b[1;32m    385\u001b[0m uniques \u001b[38;5;241m=\u001b[39m np\u001b[38;5;241m.\u001b[39munique(lengths)\n\u001b[1;32m    386\u001b[0m \u001b[38;5;28;01mif\u001b[39;00m \u001b[38;5;28mlen\u001b[39m(uniques) \u001b[38;5;241m>\u001b[39m \u001b[38;5;241m1\u001b[39m:\n\u001b[0;32m--> 387\u001b[0m     \u001b[38;5;28;01mraise\u001b[39;00m \u001b[38;5;167;01mValueError\u001b[39;00m(\n\u001b[1;32m    388\u001b[0m         \u001b[38;5;124m\"\u001b[39m\u001b[38;5;124mFound input variables with inconsistent numbers of samples: \u001b[39m\u001b[38;5;132;01m%r\u001b[39;00m\u001b[38;5;124m\"\u001b[39m\n\u001b[1;32m    389\u001b[0m         \u001b[38;5;241m%\u001b[39m [\u001b[38;5;28mint\u001b[39m(l) \u001b[38;5;28;01mfor\u001b[39;00m l \u001b[38;5;129;01min\u001b[39;00m lengths]\n\u001b[1;32m    390\u001b[0m     )\n",
      "\u001b[0;31mValueError\u001b[0m: Found input variables with inconsistent numbers of samples: [2, 5, 5]"
     ]
    }
   ],
   "source": [
    "model.fit(X, y, treat)"
   ]
  },
  {
   "cell_type": "markdown",
   "id": "35caf4a7",
   "metadata": {},
   "source": [
    "# Does not work because the model takes n samples in X to be equal 2."
   ]
  }
 ],
 "metadata": {
  "kernelspec": {
   "display_name": "Python 3 (ipykernel)",
   "language": "python",
   "name": "python3"
  },
  "language_info": {
   "codemirror_mode": {
    "name": "ipython",
    "version": 3
   },
   "file_extension": ".py",
   "mimetype": "text/x-python",
   "name": "python",
   "nbconvert_exporter": "python",
   "pygments_lexer": "ipython3",
   "version": "3.10.8"
  }
 },
 "nbformat": 4,
 "nbformat_minor": 5
}
