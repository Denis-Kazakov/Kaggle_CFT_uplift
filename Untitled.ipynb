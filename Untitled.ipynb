{
 "cells": [
  {
   "cell_type": "code",
   "execution_count": 2,
   "id": "bc77c420",
   "metadata": {},
   "outputs": [
    {
     "name": "stdout",
     "output_type": "stream",
     "text": [
      "[23:27:22] WARNING: /tmp/abs_40obctay9q/croots/recipe/xgboost-split_1659548945886/work/src/learner.cc:1115: Starting in XGBoost 1.3.0, the default evaluation metric used with the objective 'multi:softprob' was changed from 'merror' to 'mlogloss'. Explicitly set eval_metric if you'd like to restore the old behavior.\n"
     ]
    },
    {
     "name": "stderr",
     "output_type": "stream",
     "text": [
      "/home/denis/MyCode/Git/Kaggle_CFT/env/lib/python3.10/site-packages/xgboost/sklearn.py:1224: UserWarning: The use of label encoder in XGBClassifier is deprecated and will be removed in a future release. To remove this warning, do the following: 1) Pass option use_label_encoder=False when constructing XGBClassifier object; and 2) Encode your labels (y) as integers starting with 0, i.e. 0, 1, 2, ..., [num_class - 1].\n",
      "  warnings.warn(label_encoder_deprecation_msg, UserWarning)\n"
     ]
    }
   ],
   "source": [
    "from xgboost import XGBClassifier\n",
    "# read data\n",
    "from sklearn.datasets import load_iris\n",
    "from sklearn.model_selection import train_test_split\n",
    "data = load_iris()\n",
    "X_train, X_test, y_train, y_test = train_test_split(data['data'], data['target'], test_size=.2)\n",
    "# create model instance\n",
    "bst = XGBClassifier(n_estimators=2, max_depth=2, learning_rate=1, objective='binary:logistic')\n",
    "# fit model\n",
    "bst.fit(X_train, y_train)\n",
    "# make predictions\n",
    "preds = bst.predict(X_test)"
   ]
  },
  {
   "cell_type": "code",
   "execution_count": 3,
   "id": "043a4298",
   "metadata": {
    "collapsed": true
   },
   "outputs": [
    {
     "data": {
      "text/plain": [
       "array([1, 0, 0, 0, 2, 0, 0, 2, 0, 2, 1, 0, 0, 1, 0, 0, 0, 1, 1, 1, 0, 1,\n",
       "       0, 1, 2, 0, 0, 1, 2, 0])"
      ]
     },
     "execution_count": 3,
     "metadata": {},
     "output_type": "execute_result"
    }
   ],
   "source": [
    "preds"
   ]
  },
  {
   "cell_type": "code",
   "execution_count": 4,
   "id": "8cdb51f1",
   "metadata": {},
   "outputs": [
    {
     "data": {
      "text/plain": [
       "array([[0.04463834, 0.9102244 , 0.04513729],\n",
       "       [0.9235236 , 0.03950869, 0.03696771],\n",
       "       [0.9235236 , 0.03950869, 0.03696771],\n",
       "       [0.9235236 , 0.03950869, 0.03696771],\n",
       "       [0.03448595, 0.04080321, 0.92471087],\n",
       "       [0.9235236 , 0.03950869, 0.03696771],\n",
       "       [0.9235236 , 0.03950869, 0.03696771],\n",
       "       [0.03448595, 0.04080321, 0.92471087],\n",
       "       [0.9235236 , 0.03950869, 0.03696771],\n",
       "       [0.03448595, 0.04080321, 0.92471087],\n",
       "       [0.04463834, 0.9102244 , 0.04513729],\n",
       "       [0.9235236 , 0.03950869, 0.03696771],\n",
       "       [0.9235236 , 0.03950869, 0.03696771],\n",
       "       [0.04463834, 0.9102244 , 0.04513729],\n",
       "       [0.9235236 , 0.03950869, 0.03696771],\n",
       "       [0.9235236 , 0.03950869, 0.03696771],\n",
       "       [0.9235236 , 0.03950869, 0.03696771],\n",
       "       [0.04463834, 0.9102244 , 0.04513729],\n",
       "       [0.04463834, 0.9102244 , 0.04513729],\n",
       "       [0.04463834, 0.9102244 , 0.04513729],\n",
       "       [0.9235236 , 0.03950869, 0.03696771],\n",
       "       [0.04463834, 0.9102244 , 0.04513729],\n",
       "       [0.9235236 , 0.03950869, 0.03696771],\n",
       "       [0.04463834, 0.9102244 , 0.04513729],\n",
       "       [0.03448595, 0.04080321, 0.92471087],\n",
       "       [0.9235236 , 0.03950869, 0.03696771],\n",
       "       [0.9235236 , 0.03950869, 0.03696771],\n",
       "       [0.04463834, 0.9102244 , 0.04513729],\n",
       "       [0.04854628, 0.1413792 , 0.8100745 ],\n",
       "       [0.9235236 , 0.03950869, 0.03696771]], dtype=float32)"
      ]
     },
     "execution_count": 4,
     "metadata": {},
     "output_type": "execute_result"
    }
   ],
   "source": [
    "bst.predict_proba(X_test)"
   ]
  }
 ],
 "metadata": {
  "kernelspec": {
   "display_name": "Python 3 (ipykernel)",
   "language": "python",
   "name": "python3"
  },
  "language_info": {
   "codemirror_mode": {
    "name": "ipython",
    "version": 3
   },
   "file_extension": ".py",
   "mimetype": "text/x-python",
   "name": "python",
   "nbconvert_exporter": "python",
   "pygments_lexer": "ipython3",
   "version": "3.10.8"
  }
 },
 "nbformat": 4,
 "nbformat_minor": 5
}
