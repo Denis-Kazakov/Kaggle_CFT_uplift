{
 "cells": [
  {
   "cell_type": "markdown",
   "id": "82acdebe",
   "metadata": {},
   "source": [
    "# SHIFT-23. Answers to questions on data"
   ]
  },
  {
   "cell_type": "markdown",
   "id": "129e16f6",
   "metadata": {},
   "source": [
    "## 9. Impact of buying own products"
   ]
  },
  {
   "cell_type": "code",
   "execution_count": 1,
   "id": "ab33faea",
   "metadata": {},
   "outputs": [],
   "source": [
    "import pandas as pd"
   ]
  },
  {
   "cell_type": "code",
   "execution_count": 2,
   "id": "4fe81294",
   "metadata": {},
   "outputs": [
    {
     "data": {
      "text/html": [
       "<div>\n",
       "<style scoped>\n",
       "    .dataframe tbody tr th:only-of-type {\n",
       "        vertical-align: middle;\n",
       "    }\n",
       "\n",
       "    .dataframe tbody tr th {\n",
       "        vertical-align: top;\n",
       "    }\n",
       "\n",
       "    .dataframe thead th {\n",
       "        text-align: right;\n",
       "    }\n",
       "</style>\n",
       "<table border=\"1\" class=\"dataframe\">\n",
       "  <thead>\n",
       "    <tr style=\"text-align: right;\">\n",
       "      <th></th>\n",
       "      <th>product_id</th>\n",
       "    </tr>\n",
       "  </thead>\n",
       "  <tbody>\n",
       "    <tr>\n",
       "      <th>10</th>\n",
       "      <td>0012a164c0</td>\n",
       "    </tr>\n",
       "    <tr>\n",
       "      <th>23</th>\n",
       "      <td>001c8e3b3a</td>\n",
       "    </tr>\n",
       "    <tr>\n",
       "      <th>33</th>\n",
       "      <td>002cd4c65d</td>\n",
       "    </tr>\n",
       "    <tr>\n",
       "      <th>70</th>\n",
       "      <td>0067d95477</td>\n",
       "    </tr>\n",
       "    <tr>\n",
       "      <th>95</th>\n",
       "      <td>009997f0a4</td>\n",
       "    </tr>\n",
       "    <tr>\n",
       "      <th>...</th>\n",
       "      <td>...</td>\n",
       "    </tr>\n",
       "    <tr>\n",
       "      <th>42957</th>\n",
       "      <td>ff78e11173</td>\n",
       "    </tr>\n",
       "    <tr>\n",
       "      <th>42966</th>\n",
       "      <td>ff81efc13d</td>\n",
       "    </tr>\n",
       "    <tr>\n",
       "      <th>42980</th>\n",
       "      <td>ffa1f745ae</td>\n",
       "    </tr>\n",
       "    <tr>\n",
       "      <th>42994</th>\n",
       "      <td>ffba05c8fd</td>\n",
       "    </tr>\n",
       "    <tr>\n",
       "      <th>43013</th>\n",
       "      <td>ffd81ad675</td>\n",
       "    </tr>\n",
       "  </tbody>\n",
       "</table>\n",
       "<p>1514 rows × 1 columns</p>\n",
       "</div>"
      ],
      "text/plain": [
       "       product_id\n",
       "10     0012a164c0\n",
       "23     001c8e3b3a\n",
       "33     002cd4c65d\n",
       "70     0067d95477\n",
       "95     009997f0a4\n",
       "...           ...\n",
       "42957  ff78e11173\n",
       "42966  ff81efc13d\n",
       "42980  ffa1f745ae\n",
       "42994  ffba05c8fd\n",
       "43013  ffd81ad675\n",
       "\n",
       "[1514 rows x 1 columns]"
      ]
     },
     "execution_count": 2,
     "metadata": {},
     "output_type": "execute_result"
    }
   ],
   "source": [
    "own_products = pd.read_csv('products.csv').query('is_own_trademark == 1')[['product_id']]\n",
    "own_products"
   ]
  },
  {
   "cell_type": "markdown",
   "id": "0c6e3682",
   "metadata": {},
   "source": [
    "Clients who bought own products"
   ]
  },
  {
   "cell_type": "code",
   "execution_count": 3,
   "id": "7c83f47f",
   "metadata": {},
   "outputs": [],
   "source": [
    "train_purch_own = pd.read_csv('train_purch.csv')\\\n",
    "    .merge(own_products, on='product_id')"
   ]
  },
  {
   "cell_type": "code",
   "execution_count": 10,
   "id": "387525dd",
   "metadata": {},
   "outputs": [
    {
     "data": {
      "text/html": [
       "<div>\n",
       "<style scoped>\n",
       "    .dataframe tbody tr th:only-of-type {\n",
       "        vertical-align: middle;\n",
       "    }\n",
       "\n",
       "    .dataframe tbody tr th {\n",
       "        vertical-align: top;\n",
       "    }\n",
       "\n",
       "    .dataframe thead th {\n",
       "        text-align: right;\n",
       "    }\n",
       "</style>\n",
       "<table border=\"1\" class=\"dataframe\">\n",
       "  <thead>\n",
       "    <tr style=\"text-align: right;\">\n",
       "      <th></th>\n",
       "      <th>client_id</th>\n",
       "    </tr>\n",
       "  </thead>\n",
       "  <tbody>\n",
       "    <tr>\n",
       "      <th>0</th>\n",
       "      <td>000012768d</td>\n",
       "    </tr>\n",
       "    <tr>\n",
       "      <th>1</th>\n",
       "      <td>000ca87889</td>\n",
       "    </tr>\n",
       "    <tr>\n",
       "      <th>2</th>\n",
       "      <td>006cf006f4</td>\n",
       "    </tr>\n",
       "    <tr>\n",
       "      <th>3</th>\n",
       "      <td>00946ede17</td>\n",
       "    </tr>\n",
       "    <tr>\n",
       "      <th>5</th>\n",
       "      <td>00a346bdf8</td>\n",
       "    </tr>\n",
       "    <tr>\n",
       "      <th>...</th>\n",
       "      <td>...</td>\n",
       "    </tr>\n",
       "    <tr>\n",
       "      <th>2435383</th>\n",
       "      <td>bed6107c0f</td>\n",
       "    </tr>\n",
       "    <tr>\n",
       "      <th>2435771</th>\n",
       "      <td>6e1c9e5cf1</td>\n",
       "    </tr>\n",
       "    <tr>\n",
       "      <th>2435819</th>\n",
       "      <td>1dfbfd1444</td>\n",
       "    </tr>\n",
       "    <tr>\n",
       "      <th>2436761</th>\n",
       "      <td>96cd3b59f9</td>\n",
       "    </tr>\n",
       "    <tr>\n",
       "      <th>2436995</th>\n",
       "      <td>e85099fcad</td>\n",
       "    </tr>\n",
       "  </tbody>\n",
       "</table>\n",
       "<p>135712 rows × 1 columns</p>\n",
       "</div>"
      ],
      "text/plain": [
       "          client_id\n",
       "0        000012768d\n",
       "1        000ca87889\n",
       "2        006cf006f4\n",
       "3        00946ede17\n",
       "5        00a346bdf8\n",
       "...             ...\n",
       "2435383  bed6107c0f\n",
       "2435771  6e1c9e5cf1\n",
       "2435819  1dfbfd1444\n",
       "2436761  96cd3b59f9\n",
       "2436995  e85099fcad\n",
       "\n",
       "[135712 rows x 1 columns]"
      ]
     },
     "execution_count": 10,
     "metadata": {},
     "output_type": "execute_result"
    }
   ],
   "source": [
    "client_purch_own = train_purch_own[['client_id']].drop_duplicates()\n",
    "client_purch_own"
   ]
  },
  {
   "cell_type": "code",
   "execution_count": 12,
   "id": "c6cfac43",
   "metadata": {},
   "outputs": [
    {
     "data": {
      "text/html": [
       "<div>\n",
       "<style scoped>\n",
       "    .dataframe tbody tr th:only-of-type {\n",
       "        vertical-align: middle;\n",
       "    }\n",
       "\n",
       "    .dataframe tbody tr th {\n",
       "        vertical-align: top;\n",
       "    }\n",
       "\n",
       "    .dataframe thead th {\n",
       "        text-align: right;\n",
       "    }\n",
       "</style>\n",
       "<table border=\"1\" class=\"dataframe\">\n",
       "  <thead>\n",
       "    <tr style=\"text-align: right;\">\n",
       "      <th></th>\n",
       "      <th>client_id</th>\n",
       "      <th>treatment_flg</th>\n",
       "      <th>purchased</th>\n",
       "      <th>_merge</th>\n",
       "    </tr>\n",
       "  </thead>\n",
       "  <tbody>\n",
       "    <tr>\n",
       "      <th>0</th>\n",
       "      <td>ad6561e2d8</td>\n",
       "      <td>1</td>\n",
       "      <td>1</td>\n",
       "      <td>both</td>\n",
       "    </tr>\n",
       "    <tr>\n",
       "      <th>1</th>\n",
       "      <td>7c1ccbf93f</td>\n",
       "      <td>1</td>\n",
       "      <td>1</td>\n",
       "      <td>both</td>\n",
       "    </tr>\n",
       "    <tr>\n",
       "      <th>2</th>\n",
       "      <td>b58fadcab6</td>\n",
       "      <td>1</td>\n",
       "      <td>1</td>\n",
       "      <td>both</td>\n",
       "    </tr>\n",
       "    <tr>\n",
       "      <th>3</th>\n",
       "      <td>e99e6fabb9</td>\n",
       "      <td>0</td>\n",
       "      <td>0</td>\n",
       "      <td>both</td>\n",
       "    </tr>\n",
       "    <tr>\n",
       "      <th>4</th>\n",
       "      <td>27fb6f8520</td>\n",
       "      <td>1</td>\n",
       "      <td>1</td>\n",
       "      <td>both</td>\n",
       "    </tr>\n",
       "    <tr>\n",
       "      <th>...</th>\n",
       "      <td>...</td>\n",
       "      <td>...</td>\n",
       "      <td>...</td>\n",
       "      <td>...</td>\n",
       "    </tr>\n",
       "    <tr>\n",
       "      <th>140022</th>\n",
       "      <td>999d284453</td>\n",
       "      <td>1</td>\n",
       "      <td>1</td>\n",
       "      <td>both</td>\n",
       "    </tr>\n",
       "    <tr>\n",
       "      <th>140023</th>\n",
       "      <td>f634deea4e</td>\n",
       "      <td>0</td>\n",
       "      <td>1</td>\n",
       "      <td>both</td>\n",
       "    </tr>\n",
       "    <tr>\n",
       "      <th>140024</th>\n",
       "      <td>16cb4f99b0</td>\n",
       "      <td>0</td>\n",
       "      <td>1</td>\n",
       "      <td>both</td>\n",
       "    </tr>\n",
       "    <tr>\n",
       "      <th>140025</th>\n",
       "      <td>23c2b72b2e</td>\n",
       "      <td>1</td>\n",
       "      <td>1</td>\n",
       "      <td>both</td>\n",
       "    </tr>\n",
       "    <tr>\n",
       "      <th>140026</th>\n",
       "      <td>1430184499</td>\n",
       "      <td>0</td>\n",
       "      <td>1</td>\n",
       "      <td>both</td>\n",
       "    </tr>\n",
       "  </tbody>\n",
       "</table>\n",
       "<p>140027 rows × 4 columns</p>\n",
       "</div>"
      ],
      "text/plain": [
       "         client_id  treatment_flg  purchased _merge\n",
       "0       ad6561e2d8              1          1   both\n",
       "1       7c1ccbf93f              1          1   both\n",
       "2       b58fadcab6              1          1   both\n",
       "3       e99e6fabb9              0          0   both\n",
       "4       27fb6f8520              1          1   both\n",
       "...            ...            ...        ...    ...\n",
       "140022  999d284453              1          1   both\n",
       "140023  f634deea4e              0          1   both\n",
       "140024  16cb4f99b0              0          1   both\n",
       "140025  23c2b72b2e              1          1   both\n",
       "140026  1430184499              0          1   both\n",
       "\n",
       "[140027 rows x 4 columns]"
      ]
     },
     "execution_count": 12,
     "metadata": {},
     "output_type": "execute_result"
    }
   ],
   "source": [
    "train = pd.read_csv('train.csv')\\\n",
    "    .merge(client_purch_own,\n",
    "          on='client_id',\n",
    "          how='left',\n",
    "          indicator=True)\n",
    "train"
   ]
  },
  {
   "cell_type": "code",
   "execution_count": 13,
   "id": "794e5b2a",
   "metadata": {},
   "outputs": [
    {
     "data": {
      "text/plain": [
       "['both', 'left_only']\n",
       "Categories (3, object): ['left_only', 'right_only', 'both']"
      ]
     },
     "execution_count": 13,
     "metadata": {},
     "output_type": "execute_result"
    }
   ],
   "source": [
    "train._merge.unique()"
   ]
  },
  {
   "cell_type": "code",
   "execution_count": 23,
   "id": "7c19095e",
   "metadata": {},
   "outputs": [
    {
     "data": {
      "text/plain": [
       "1    0.643697\n",
       "0    0.356303\n",
       "Name: purchased, dtype: float64"
      ]
     },
     "execution_count": 23,
     "metadata": {},
     "output_type": "execute_result"
    }
   ],
   "source": [
    "group_a_treat = train.loc[(train.treatment_flg == 1) & (train._merge == 'both'), 'purchased']\\\n",
    "    .value_counts(normalize=True)\n",
    "group_a_treat"
   ]
  },
  {
   "cell_type": "code",
   "execution_count": 25,
   "id": "f1bd9a53",
   "metadata": {},
   "outputs": [
    {
     "data": {
      "text/plain": [
       "1    0.61195\n",
       "0    0.38805\n",
       "Name: purchased, dtype: float64"
      ]
     },
     "execution_count": 25,
     "metadata": {},
     "output_type": "execute_result"
    }
   ],
   "source": [
    "group_a_control = train.loc[(train.treatment_flg == 0) & (train._merge == 'both'), 'purchased']\\\n",
    "    .value_counts(normalize=True)\n",
    "group_a_control"
   ]
  },
  {
   "cell_type": "code",
   "execution_count": 26,
   "id": "1c485f91",
   "metadata": {},
   "outputs": [
    {
     "data": {
      "text/plain": [
       "0.03174733889332593"
      ]
     },
     "execution_count": 26,
     "metadata": {},
     "output_type": "execute_result"
    }
   ],
   "source": [
    "uplift_a = group_a_treat[1] - group_a_control[1]\n",
    "uplift_a"
   ]
  },
  {
   "cell_type": "code",
   "execution_count": 27,
   "id": "0f3c26e8",
   "metadata": {},
   "outputs": [
    {
     "data": {
      "text/plain": [
       "0    0.598392\n",
       "1    0.401608\n",
       "Name: purchased, dtype: float64"
      ]
     },
     "execution_count": 27,
     "metadata": {},
     "output_type": "execute_result"
    }
   ],
   "source": [
    "group_b_treat = train.loc[(train.treatment_flg == 1) & (train._merge == 'left_only'), 'purchased']\\\n",
    "    .value_counts(normalize=True)\n",
    "group_b_treat"
   ]
  },
  {
   "cell_type": "code",
   "execution_count": 28,
   "id": "0082e280",
   "metadata": {},
   "outputs": [
    {
     "data": {
      "text/plain": [
       "0    0.677419\n",
       "1    0.322581\n",
       "Name: purchased, dtype: float64"
      ]
     },
     "execution_count": 28,
     "metadata": {},
     "output_type": "execute_result"
    }
   ],
   "source": [
    "group_b_control = train.loc[(train.treatment_flg == 0) & (train._merge == 'left_only'), 'purchased']\\\n",
    "    .value_counts(normalize=True)\n",
    "group_b_control"
   ]
  },
  {
   "cell_type": "code",
   "execution_count": 29,
   "id": "b19c91c9",
   "metadata": {},
   "outputs": [
    {
     "data": {
      "text/plain": [
       "0.07902768028809476"
      ]
     },
     "execution_count": 29,
     "metadata": {},
     "output_type": "execute_result"
    }
   ],
   "source": [
    "uplift_b = group_b_treat[1] - group_b_control[1]\n",
    "uplift_b"
   ]
  },
  {
   "cell_type": "code",
   "execution_count": 30,
   "id": "50dba0e2",
   "metadata": {},
   "outputs": [
    {
     "data": {
      "text/plain": [
       "-0.04728034139476883"
      ]
     },
     "execution_count": 30,
     "metadata": {},
     "output_type": "execute_result"
    }
   ],
   "source": [
    "uplift_a - uplift_b"
   ]
  },
  {
   "cell_type": "code",
   "execution_count": null,
   "id": "8851ac10",
   "metadata": {},
   "outputs": [],
   "source": []
  },
  {
   "cell_type": "code",
   "execution_count": null,
   "id": "11dd1ae3",
   "metadata": {},
   "outputs": [],
   "source": []
  }
 ],
 "metadata": {
  "kernelspec": {
   "display_name": "Python 3 (ipykernel)",
   "language": "python",
   "name": "python3"
  },
  "language_info": {
   "codemirror_mode": {
    "name": "ipython",
    "version": 3
   },
   "file_extension": ".py",
   "mimetype": "text/x-python",
   "name": "python",
   "nbconvert_exporter": "python",
   "pygments_lexer": "ipython3",
   "version": "3.10.8"
  }
 },
 "nbformat": 4,
 "nbformat_minor": 5
}
