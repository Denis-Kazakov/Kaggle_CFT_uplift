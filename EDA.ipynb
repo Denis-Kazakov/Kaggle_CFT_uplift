{
 "cells": [
  {
   "cell_type": "markdown",
   "id": "9be01a25",
   "metadata": {},
   "source": [
    "# EDA"
   ]
  },
  {
   "cell_type": "code",
   "execution_count": 1,
   "id": "0bfa2309",
   "metadata": {},
   "outputs": [],
   "source": [
    "import pandas as pd"
   ]
  },
  {
   "cell_type": "code",
   "execution_count": 2,
   "id": "53ed9cac",
   "metadata": {},
   "outputs": [
    {
     "data": {
      "text/html": [
       "<div>\n",
       "<style scoped>\n",
       "    .dataframe tbody tr th:only-of-type {\n",
       "        vertical-align: middle;\n",
       "    }\n",
       "\n",
       "    .dataframe tbody tr th {\n",
       "        vertical-align: top;\n",
       "    }\n",
       "\n",
       "    .dataframe thead th {\n",
       "        text-align: right;\n",
       "    }\n",
       "</style>\n",
       "<table border=\"1\" class=\"dataframe\">\n",
       "  <thead>\n",
       "    <tr style=\"text-align: right;\">\n",
       "      <th></th>\n",
       "      <th>client_id</th>\n",
       "      <th>client_id.1</th>\n",
       "      <th>first_issue_date</th>\n",
       "      <th>first_redeem_date</th>\n",
       "      <th>age</th>\n",
       "      <th>gender</th>\n",
       "    </tr>\n",
       "  </thead>\n",
       "  <tbody>\n",
       "    <tr>\n",
       "      <th>0</th>\n",
       "      <td>000012768d</td>\n",
       "      <td>NaN</td>\n",
       "      <td>2017-08-05 15:40:48</td>\n",
       "      <td>2018-01-04 19:30:07</td>\n",
       "      <td>45</td>\n",
       "      <td>U</td>\n",
       "    </tr>\n",
       "    <tr>\n",
       "      <th>1</th>\n",
       "      <td>000036f903</td>\n",
       "      <td>NaN</td>\n",
       "      <td>2017-04-10 13:54:23</td>\n",
       "      <td>2017-04-23 12:37:56</td>\n",
       "      <td>72</td>\n",
       "      <td>F</td>\n",
       "    </tr>\n",
       "    <tr>\n",
       "      <th>2</th>\n",
       "      <td>00010925a5</td>\n",
       "      <td>NaN</td>\n",
       "      <td>2018-07-24 16:21:29</td>\n",
       "      <td>2018-09-14 16:12:49</td>\n",
       "      <td>83</td>\n",
       "      <td>U</td>\n",
       "    </tr>\n",
       "    <tr>\n",
       "      <th>3</th>\n",
       "      <td>0001f552b0</td>\n",
       "      <td>NaN</td>\n",
       "      <td>2017-06-30 19:20:38</td>\n",
       "      <td>2018-08-28 12:59:45</td>\n",
       "      <td>33</td>\n",
       "      <td>F</td>\n",
       "    </tr>\n",
       "    <tr>\n",
       "      <th>4</th>\n",
       "      <td>00020e7b18</td>\n",
       "      <td>NaN</td>\n",
       "      <td>2017-11-27 11:41:45</td>\n",
       "      <td>2018-01-10 17:50:05</td>\n",
       "      <td>73</td>\n",
       "      <td>U</td>\n",
       "    </tr>\n",
       "    <tr>\n",
       "      <th>...</th>\n",
       "      <td>...</td>\n",
       "      <td>...</td>\n",
       "      <td>...</td>\n",
       "      <td>...</td>\n",
       "      <td>...</td>\n",
       "      <td>...</td>\n",
       "    </tr>\n",
       "    <tr>\n",
       "      <th>200034</th>\n",
       "      <td>fffe0abb97</td>\n",
       "      <td>NaN</td>\n",
       "      <td>2017-11-27 08:56:54</td>\n",
       "      <td>2018-02-11 09:26:08</td>\n",
       "      <td>35</td>\n",
       "      <td>F</td>\n",
       "    </tr>\n",
       "    <tr>\n",
       "      <th>200035</th>\n",
       "      <td>fffe0ed719</td>\n",
       "      <td>NaN</td>\n",
       "      <td>2017-09-15 08:53:24</td>\n",
       "      <td>2017-12-12 14:50:12</td>\n",
       "      <td>69</td>\n",
       "      <td>U</td>\n",
       "    </tr>\n",
       "    <tr>\n",
       "      <th>200036</th>\n",
       "      <td>fffea1204c</td>\n",
       "      <td>NaN</td>\n",
       "      <td>2018-01-31 16:59:37</td>\n",
       "      <td>2018-03-12 17:02:27</td>\n",
       "      <td>73</td>\n",
       "      <td>F</td>\n",
       "    </tr>\n",
       "    <tr>\n",
       "      <th>200037</th>\n",
       "      <td>fffeca6d22</td>\n",
       "      <td>NaN</td>\n",
       "      <td>2017-12-28 11:56:13</td>\n",
       "      <td>NaN</td>\n",
       "      <td>77</td>\n",
       "      <td>F</td>\n",
       "    </tr>\n",
       "    <tr>\n",
       "      <th>200038</th>\n",
       "      <td>fffff6ce77</td>\n",
       "      <td>NaN</td>\n",
       "      <td>2017-08-03 20:25:12</td>\n",
       "      <td>2017-08-26 16:41:41</td>\n",
       "      <td>42</td>\n",
       "      <td>U</td>\n",
       "    </tr>\n",
       "  </tbody>\n",
       "</table>\n",
       "<p>200039 rows × 6 columns</p>\n",
       "</div>"
      ],
      "text/plain": [
       "         client_id  client_id.1     first_issue_date    first_redeem_date  \\\n",
       "0       000012768d          NaN  2017-08-05 15:40:48  2018-01-04 19:30:07   \n",
       "1       000036f903          NaN  2017-04-10 13:54:23  2017-04-23 12:37:56   \n",
       "2       00010925a5          NaN  2018-07-24 16:21:29  2018-09-14 16:12:49   \n",
       "3       0001f552b0          NaN  2017-06-30 19:20:38  2018-08-28 12:59:45   \n",
       "4       00020e7b18          NaN  2017-11-27 11:41:45  2018-01-10 17:50:05   \n",
       "...            ...          ...                  ...                  ...   \n",
       "200034  fffe0abb97          NaN  2017-11-27 08:56:54  2018-02-11 09:26:08   \n",
       "200035  fffe0ed719          NaN  2017-09-15 08:53:24  2017-12-12 14:50:12   \n",
       "200036  fffea1204c          NaN  2018-01-31 16:59:37  2018-03-12 17:02:27   \n",
       "200037  fffeca6d22          NaN  2017-12-28 11:56:13                  NaN   \n",
       "200038  fffff6ce77          NaN  2017-08-03 20:25:12  2017-08-26 16:41:41   \n",
       "\n",
       "        age gender  \n",
       "0        45      U  \n",
       "1        72      F  \n",
       "2        83      U  \n",
       "3        33      F  \n",
       "4        73      U  \n",
       "...     ...    ...  \n",
       "200034   35      F  \n",
       "200035   69      U  \n",
       "200036   73      F  \n",
       "200037   77      F  \n",
       "200038   42      U  \n",
       "\n",
       "[200039 rows x 6 columns]"
      ]
     },
     "execution_count": 2,
     "metadata": {},
     "output_type": "execute_result"
    }
   ],
   "source": [
    "pd.read_csv('clients2.csv')"
   ]
  },
  {
   "cell_type": "code",
   "execution_count": 3,
   "id": "3dc15397",
   "metadata": {
    "scrolled": false
   },
   "outputs": [
    {
     "data": {
      "text/html": [
       "<div>\n",
       "<style scoped>\n",
       "    .dataframe tbody tr th:only-of-type {\n",
       "        vertical-align: middle;\n",
       "    }\n",
       "\n",
       "    .dataframe tbody tr th {\n",
       "        vertical-align: top;\n",
       "    }\n",
       "\n",
       "    .dataframe thead th {\n",
       "        text-align: right;\n",
       "    }\n",
       "</style>\n",
       "<table border=\"1\" class=\"dataframe\">\n",
       "  <thead>\n",
       "    <tr style=\"text-align: right;\">\n",
       "      <th></th>\n",
       "      <th>first_issue_date</th>\n",
       "      <th>first_redeem_date</th>\n",
       "      <th>age</th>\n",
       "      <th>gender</th>\n",
       "    </tr>\n",
       "    <tr>\n",
       "      <th>client_id</th>\n",
       "      <th></th>\n",
       "      <th></th>\n",
       "      <th></th>\n",
       "      <th></th>\n",
       "    </tr>\n",
       "  </thead>\n",
       "  <tbody>\n",
       "    <tr>\n",
       "      <th>000012768d</th>\n",
       "      <td>2017-08-05 15:40:48</td>\n",
       "      <td>2018-01-04 19:30:07</td>\n",
       "      <td>45</td>\n",
       "      <td>NaN</td>\n",
       "    </tr>\n",
       "    <tr>\n",
       "      <th>000036f903</th>\n",
       "      <td>2017-04-10 13:54:23</td>\n",
       "      <td>2017-04-23 12:37:56</td>\n",
       "      <td>72</td>\n",
       "      <td>F</td>\n",
       "    </tr>\n",
       "    <tr>\n",
       "      <th>00010925a5</th>\n",
       "      <td>2018-07-24 16:21:29</td>\n",
       "      <td>2018-09-14 16:12:49</td>\n",
       "      <td>83</td>\n",
       "      <td>NaN</td>\n",
       "    </tr>\n",
       "    <tr>\n",
       "      <th>0001f552b0</th>\n",
       "      <td>2017-06-30 19:20:38</td>\n",
       "      <td>2018-08-28 12:59:45</td>\n",
       "      <td>33</td>\n",
       "      <td>F</td>\n",
       "    </tr>\n",
       "    <tr>\n",
       "      <th>00020e7b18</th>\n",
       "      <td>2017-11-27 11:41:45</td>\n",
       "      <td>2018-01-10 17:50:05</td>\n",
       "      <td>73</td>\n",
       "      <td>NaN</td>\n",
       "    </tr>\n",
       "    <tr>\n",
       "      <th>...</th>\n",
       "      <td>...</td>\n",
       "      <td>...</td>\n",
       "      <td>...</td>\n",
       "      <td>...</td>\n",
       "    </tr>\n",
       "    <tr>\n",
       "      <th>fffe0abb97</th>\n",
       "      <td>2017-11-27 08:56:54</td>\n",
       "      <td>2018-02-11 09:26:08</td>\n",
       "      <td>35</td>\n",
       "      <td>F</td>\n",
       "    </tr>\n",
       "    <tr>\n",
       "      <th>fffe0ed719</th>\n",
       "      <td>2017-09-15 08:53:24</td>\n",
       "      <td>2017-12-12 14:50:12</td>\n",
       "      <td>69</td>\n",
       "      <td>NaN</td>\n",
       "    </tr>\n",
       "    <tr>\n",
       "      <th>fffea1204c</th>\n",
       "      <td>2018-01-31 16:59:37</td>\n",
       "      <td>2018-03-12 17:02:27</td>\n",
       "      <td>73</td>\n",
       "      <td>F</td>\n",
       "    </tr>\n",
       "    <tr>\n",
       "      <th>fffeca6d22</th>\n",
       "      <td>2017-12-28 11:56:13</td>\n",
       "      <td>NaT</td>\n",
       "      <td>77</td>\n",
       "      <td>F</td>\n",
       "    </tr>\n",
       "    <tr>\n",
       "      <th>fffff6ce77</th>\n",
       "      <td>2017-08-03 20:25:12</td>\n",
       "      <td>2017-08-26 16:41:41</td>\n",
       "      <td>42</td>\n",
       "      <td>NaN</td>\n",
       "    </tr>\n",
       "  </tbody>\n",
       "</table>\n",
       "<p>200039 rows × 4 columns</p>\n",
       "</div>"
      ],
      "text/plain": [
       "              first_issue_date   first_redeem_date  age gender\n",
       "client_id                                                     \n",
       "000012768d 2017-08-05 15:40:48 2018-01-04 19:30:07   45    NaN\n",
       "000036f903 2017-04-10 13:54:23 2017-04-23 12:37:56   72      F\n",
       "00010925a5 2018-07-24 16:21:29 2018-09-14 16:12:49   83    NaN\n",
       "0001f552b0 2017-06-30 19:20:38 2018-08-28 12:59:45   33      F\n",
       "00020e7b18 2017-11-27 11:41:45 2018-01-10 17:50:05   73    NaN\n",
       "...                        ...                 ...  ...    ...\n",
       "fffe0abb97 2017-11-27 08:56:54 2018-02-11 09:26:08   35      F\n",
       "fffe0ed719 2017-09-15 08:53:24 2017-12-12 14:50:12   69    NaN\n",
       "fffea1204c 2018-01-31 16:59:37 2018-03-12 17:02:27   73      F\n",
       "fffeca6d22 2017-12-28 11:56:13                 NaT   77      F\n",
       "fffff6ce77 2017-08-03 20:25:12 2017-08-26 16:41:41   42    NaN\n",
       "\n",
       "[200039 rows x 4 columns]"
      ]
     },
     "execution_count": 3,
     "metadata": {},
     "output_type": "execute_result"
    }
   ],
   "source": [
    "clients = pd.read_csv('clients2.csv',\n",
    "                     index_col='client_id',\n",
    "                     parse_dates=['first_issue_date', 'first_redeem_date'],\n",
    "                     na_values={'gender': 'U'})\\\n",
    "    .drop(columns='client_id.1')\n",
    "clients"
   ]
  },
  {
   "cell_type": "code",
   "execution_count": 22,
   "id": "c6cb0ee1",
   "metadata": {
    "scrolled": true
   },
   "outputs": [
    {
     "data": {
      "text/html": [
       "<div>\n",
       "<style scoped>\n",
       "    .dataframe tbody tr th:only-of-type {\n",
       "        vertical-align: middle;\n",
       "    }\n",
       "\n",
       "    .dataframe tbody tr th {\n",
       "        vertical-align: top;\n",
       "    }\n",
       "\n",
       "    .dataframe thead th {\n",
       "        text-align: right;\n",
       "    }\n",
       "</style>\n",
       "<table border=\"1\" class=\"dataframe\">\n",
       "  <thead>\n",
       "    <tr style=\"text-align: right;\">\n",
       "      <th></th>\n",
       "      <th>age</th>\n",
       "      <th>gender_F</th>\n",
       "      <th>gender_M</th>\n",
       "    </tr>\n",
       "  </thead>\n",
       "  <tbody>\n",
       "    <tr>\n",
       "      <th>count</th>\n",
       "      <td>200039.000000</td>\n",
       "      <td>200039.000000</td>\n",
       "      <td>200039.000000</td>\n",
       "    </tr>\n",
       "    <tr>\n",
       "      <th>mean</th>\n",
       "      <td>46.417329</td>\n",
       "      <td>0.368408</td>\n",
       "      <td>0.167522</td>\n",
       "    </tr>\n",
       "    <tr>\n",
       "      <th>std</th>\n",
       "      <td>49.532475</td>\n",
       "      <td>0.482374</td>\n",
       "      <td>0.373442</td>\n",
       "    </tr>\n",
       "    <tr>\n",
       "      <th>min</th>\n",
       "      <td>-7491.000000</td>\n",
       "      <td>0.000000</td>\n",
       "      <td>0.000000</td>\n",
       "    </tr>\n",
       "    <tr>\n",
       "      <th>25%</th>\n",
       "      <td>34.000000</td>\n",
       "      <td>0.000000</td>\n",
       "      <td>0.000000</td>\n",
       "    </tr>\n",
       "    <tr>\n",
       "      <th>50%</th>\n",
       "      <td>45.000000</td>\n",
       "      <td>0.000000</td>\n",
       "      <td>0.000000</td>\n",
       "    </tr>\n",
       "    <tr>\n",
       "      <th>75%</th>\n",
       "      <td>59.000000</td>\n",
       "      <td>1.000000</td>\n",
       "      <td>0.000000</td>\n",
       "    </tr>\n",
       "    <tr>\n",
       "      <th>max</th>\n",
       "      <td>1852.000000</td>\n",
       "      <td>1.000000</td>\n",
       "      <td>1.000000</td>\n",
       "    </tr>\n",
       "  </tbody>\n",
       "</table>\n",
       "</div>"
      ],
      "text/plain": [
       "                 age       gender_F       gender_M\n",
       "count  200039.000000  200039.000000  200039.000000\n",
       "mean       46.417329       0.368408       0.167522\n",
       "std        49.532475       0.482374       0.373442\n",
       "min     -7491.000000       0.000000       0.000000\n",
       "25%        34.000000       0.000000       0.000000\n",
       "50%        45.000000       0.000000       0.000000\n",
       "75%        59.000000       1.000000       0.000000\n",
       "max      1852.000000       1.000000       1.000000"
      ]
     },
     "execution_count": 22,
     "metadata": {},
     "output_type": "execute_result"
    }
   ],
   "source": [
    "clients.describe()"
   ]
  },
  {
   "cell_type": "code",
   "execution_count": 24,
   "id": "cddc3480",
   "metadata": {},
   "outputs": [
    {
     "data": {
      "text/plain": [
       "first_issue_date         0\n",
       "first_redeem_date    17546\n",
       "age                      0\n",
       "gender               92832\n",
       "dtype: int64"
      ]
     },
     "execution_count": 24,
     "metadata": {},
     "output_type": "execute_result"
    }
   ],
   "source": [
    "clients.isna().sum()"
   ]
  },
  {
   "cell_type": "markdown",
   "id": "a51a270e",
   "metadata": {},
   "source": [
    "# Age"
   ]
  },
  {
   "cell_type": "markdown",
   "id": "e49f48a1",
   "metadata": {},
   "source": [
    "There are negative values and values above 100 (as high as 1852)"
   ]
  },
  {
   "cell_type": "code",
   "execution_count": 9,
   "id": "c831fe09",
   "metadata": {
    "scrolled": true
   },
   "outputs": [
    {
     "data": {
      "text/plain": [
       "count     183.000000\n",
       "mean     -490.945355\n",
       "std      1317.565874\n",
       "min     -7491.000000\n",
       "25%      -931.000000\n",
       "50%         1.000000\n",
       "75%         6.000000\n",
       "max         9.000000\n",
       "Name: age, dtype: float64"
      ]
     },
     "execution_count": 9,
     "metadata": {},
     "output_type": "execute_result"
    }
   ],
   "source": [
    "clients.loc[clients.age < 10, 'age'].describe()"
   ]
  },
  {
   "cell_type": "code",
   "execution_count": 12,
   "id": "82a79735",
   "metadata": {
    "scrolled": true
   },
   "outputs": [
    {
     "data": {
      "text/plain": [
       "<AxesSubplot: ylabel='Frequency'>"
      ]
     },
     "execution_count": 12,
     "metadata": {},
     "output_type": "execute_result"
    },
    {
     "data": {
      "image/png": "[encoded data removed]",
      "text/plain": [
       "<Figure size 640x480 with 1 Axes>"
      ]
     },
     "metadata": {},
     "output_type": "display_data"
    }
   ],
   "source": [
    "clients.loc[clients.age < 10, 'age'].plot.hist(bins=100)"
   ]
  },
  {
   "cell_type": "code",
   "execution_count": 14,
   "id": "40212056",
   "metadata": {
    "scrolled": false
   },
   "outputs": [
    {
     "data": {
      "text/plain": [
       "count     521.000000\n",
       "mean      245.499040\n",
       "std       312.991989\n",
       "min       102.000000\n",
       "25%       115.000000\n",
       "50%       119.000000\n",
       "75%       119.000000\n",
       "max      1852.000000\n",
       "Name: age, dtype: float64"
      ]
     },
     "execution_count": 14,
     "metadata": {},
     "output_type": "execute_result"
    }
   ],
   "source": [
    "clients.loc[clients.age > 100, 'age'].describe()"
   ]
  },
  {
   "cell_type": "code",
   "execution_count": 15,
   "id": "623460b4",
   "metadata": {
    "scrolled": true
   },
   "outputs": [
    {
     "data": {
      "text/plain": [
       "<AxesSubplot: ylabel='Frequency'>"
      ]
     },
     "execution_count": 15,
     "metadata": {},
     "output_type": "execute_result"
    },
    {
     "data": {
      "image/png": "[encoded data removed]",
      "text/plain": [
       "<Figure size 640x480 with 1 Axes>"
      ]
     },
     "metadata": {},
     "output_type": "display_data"
    }
   ],
   "source": [
    "clients.loc[clients.age > 100, 'age'].plot.hist(bins=100)"
   ]
  },
  {
   "cell_type": "code",
   "execution_count": 19,
   "id": "1032a62d",
   "metadata": {
    "scrolled": false
   },
   "outputs": [
    {
     "data": {
      "text/plain": [
       "count    199305.000000\n",
       "mean         46.394892\n",
       "std          15.896200\n",
       "min          11.000000\n",
       "25%          34.000000\n",
       "50%          45.000000\n",
       "75%          59.000000\n",
       "max          98.000000\n",
       "Name: age, dtype: float64"
      ]
     },
     "execution_count": 19,
     "metadata": {},
     "output_type": "execute_result"
    }
   ],
   "source": [
    "clients.loc[(clients.age < 100) & (clients.age > 10), 'age'].describe()"
   ]
  },
  {
   "cell_type": "code",
   "execution_count": 21,
   "id": "533f5f3e",
   "metadata": {
    "scrolled": true
   },
   "outputs": [
    {
     "data": {
      "text/plain": [
       "<AxesSubplot: ylabel='Density'>"
      ]
     },
     "execution_count": 21,
     "metadata": {},
     "output_type": "execute_result"
    },
    {
     "data": {
      "image/png": "[encoded data removed]",
      "text/plain": [
       "<Figure size 640x480 with 1 Axes>"
      ]
     },
     "metadata": {},
     "output_type": "display_data"
    }
   ],
   "source": [
    "clients.loc[(clients.age < 100) & (clients.age > 10), 'age'].plot.kde()"
   ]
  },
  {
   "cell_type": "markdown",
   "id": "bdbeea06",
   "metadata": {},
   "source": [
    "I will replace unrealistic values with mean age"
   ]
  },
  {
   "cell_type": "markdown",
   "id": "1b3a971e",
   "metadata": {},
   "source": [
    "# Issue and redeem dates"
   ]
  },
  {
   "cell_type": "code",
   "execution_count": 22,
   "id": "586e5c2c",
   "metadata": {},
   "outputs": [
    {
     "data": {
      "text/plain": [
       "Timestamp('2019-11-20 01:14:10')"
      ]
     },
     "execution_count": 22,
     "metadata": {},
     "output_type": "execute_result"
    }
   ],
   "source": [
    "last_redeem = clients.first_redeem_date.max(); last_redeem"
   ]
  },
  {
   "cell_type": "code",
   "execution_count": 23,
   "id": "94f06eb2",
   "metadata": {},
   "outputs": [
    {
     "data": {
      "text/html": [
       "<div>\n",
       "<style scoped>\n",
       "    .dataframe tbody tr th:only-of-type {\n",
       "        vertical-align: middle;\n",
       "    }\n",
       "\n",
       "    .dataframe tbody tr th {\n",
       "        vertical-align: top;\n",
       "    }\n",
       "\n",
       "    .dataframe thead th {\n",
       "        text-align: right;\n",
       "    }\n",
       "</style>\n",
       "<table border=\"1\" class=\"dataframe\">\n",
       "  <thead>\n",
       "    <tr style=\"text-align: right;\">\n",
       "      <th></th>\n",
       "      <th>first_issue_date</th>\n",
       "      <th>first_redeem_date</th>\n",
       "      <th>age</th>\n",
       "      <th>gender</th>\n",
       "    </tr>\n",
       "    <tr>\n",
       "      <th>client_id</th>\n",
       "      <th></th>\n",
       "      <th></th>\n",
       "      <th></th>\n",
       "      <th></th>\n",
       "    </tr>\n",
       "  </thead>\n",
       "  <tbody>\n",
       "    <tr>\n",
       "      <th>01440dcc9f</th>\n",
       "      <td>2018-11-09 13:50:09</td>\n",
       "      <td>2018-09-27 17:35:20</td>\n",
       "      <td>37</td>\n",
       "      <td>NaN</td>\n",
       "    </tr>\n",
       "    <tr>\n",
       "      <th>0251efe59c</th>\n",
       "      <td>2018-12-30 13:03:21</td>\n",
       "      <td>2018-12-30 13:03:12</td>\n",
       "      <td>32</td>\n",
       "      <td>NaN</td>\n",
       "    </tr>\n",
       "    <tr>\n",
       "      <th>0386091bd8</th>\n",
       "      <td>2019-01-17 15:20:56</td>\n",
       "      <td>2019-01-17 15:20:48</td>\n",
       "      <td>53</td>\n",
       "      <td>NaN</td>\n",
       "    </tr>\n",
       "    <tr>\n",
       "      <th>0515105ce0</th>\n",
       "      <td>2018-11-18 12:52:54</td>\n",
       "      <td>2018-11-18 12:52:50</td>\n",
       "      <td>29</td>\n",
       "      <td>M</td>\n",
       "    </tr>\n",
       "    <tr>\n",
       "      <th>05316e72fc</th>\n",
       "      <td>2018-12-20 14:00:54</td>\n",
       "      <td>2018-12-20 14:00:51</td>\n",
       "      <td>30</td>\n",
       "      <td>NaN</td>\n",
       "    </tr>\n",
       "    <tr>\n",
       "      <th>...</th>\n",
       "      <td>...</td>\n",
       "      <td>...</td>\n",
       "      <td>...</td>\n",
       "      <td>...</td>\n",
       "    </tr>\n",
       "    <tr>\n",
       "      <th>fd882468e2</th>\n",
       "      <td>2019-02-22 14:34:47</td>\n",
       "      <td>2019-02-22 14:34:22</td>\n",
       "      <td>31</td>\n",
       "      <td>M</td>\n",
       "    </tr>\n",
       "    <tr>\n",
       "      <th>fdaca167a3</th>\n",
       "      <td>2018-11-13 18:59:39</td>\n",
       "      <td>2018-11-13 18:59:15</td>\n",
       "      <td>19</td>\n",
       "      <td>NaN</td>\n",
       "    </tr>\n",
       "    <tr>\n",
       "      <th>fe3fe7ff63</th>\n",
       "      <td>2018-08-20 20:28:58</td>\n",
       "      <td>2018-08-20 20:28:56</td>\n",
       "      <td>65</td>\n",
       "      <td>M</td>\n",
       "    </tr>\n",
       "    <tr>\n",
       "      <th>ffa91dc813</th>\n",
       "      <td>2019-03-09 15:15:59</td>\n",
       "      <td>2019-03-09 15:15:44</td>\n",
       "      <td>67</td>\n",
       "      <td>M</td>\n",
       "    </tr>\n",
       "    <tr>\n",
       "      <th>ffe80ed366</th>\n",
       "      <td>2018-12-01 20:34:32</td>\n",
       "      <td>2018-12-01 20:34:23</td>\n",
       "      <td>36</td>\n",
       "      <td>F</td>\n",
       "    </tr>\n",
       "  </tbody>\n",
       "</table>\n",
       "<p>245 rows × 4 columns</p>\n",
       "</div>"
      ],
      "text/plain": [
       "              first_issue_date   first_redeem_date  age gender\n",
       "client_id                                                     \n",
       "01440dcc9f 2018-11-09 13:50:09 2018-09-27 17:35:20   37    NaN\n",
       "0251efe59c 2018-12-30 13:03:21 2018-12-30 13:03:12   32    NaN\n",
       "0386091bd8 2019-01-17 15:20:56 2019-01-17 15:20:48   53    NaN\n",
       "0515105ce0 2018-11-18 12:52:54 2018-11-18 12:52:50   29      M\n",
       "05316e72fc 2018-12-20 14:00:54 2018-12-20 14:00:51   30    NaN\n",
       "...                        ...                 ...  ...    ...\n",
       "fd882468e2 2019-02-22 14:34:47 2019-02-22 14:34:22   31      M\n",
       "fdaca167a3 2018-11-13 18:59:39 2018-11-13 18:59:15   19    NaN\n",
       "fe3fe7ff63 2018-08-20 20:28:58 2018-08-20 20:28:56   65      M\n",
       "ffa91dc813 2019-03-09 15:15:59 2019-03-09 15:15:44   67      M\n",
       "ffe80ed366 2018-12-01 20:34:32 2018-12-01 20:34:23   36      F\n",
       "\n",
       "[245 rows x 4 columns]"
      ]
     },
     "execution_count": 23,
     "metadata": {},
     "output_type": "execute_result"
    }
   ],
   "source": [
    "clients\\\n",
    ".loc[clients.first_redeem_date - clients.first_issue_date <  pd.Timedelta(0),:]"
   ]
  },
  {
   "cell_type": "markdown",
   "id": "79350bc5",
   "metadata": {},
   "source": [
    "In some cases (~0.1%), the first redeem is earlier than the first issue date."
   ]
  },
  {
   "cell_type": "code",
   "execution_count": null,
   "id": "ee73ea4b",
   "metadata": {},
   "outputs": [],
   "source": []
  },
  {
   "cell_type": "code",
   "execution_count": null,
   "id": "7bb57298",
   "metadata": {},
   "outputs": [],
   "source": []
  },
  {
   "cell_type": "code",
   "execution_count": null,
   "id": "afcc236a",
   "metadata": {},
   "outputs": [],
   "source": []
  },
  {
   "cell_type": "code",
   "execution_count": 3,
   "id": "f2eb5b7c",
   "metadata": {},
   "outputs": [
    {
     "data": {
      "text/html": [
       "<div>\n",
       "<style scoped>\n",
       "    .dataframe tbody tr th:only-of-type {\n",
       "        vertical-align: middle;\n",
       "    }\n",
       "\n",
       "    .dataframe tbody tr th {\n",
       "        vertical-align: top;\n",
       "    }\n",
       "\n",
       "    .dataframe thead th {\n",
       "        text-align: right;\n",
       "    }\n",
       "</style>\n",
       "<table border=\"1\" class=\"dataframe\">\n",
       "  <thead>\n",
       "    <tr style=\"text-align: right;\">\n",
       "      <th></th>\n",
       "      <th>client_id</th>\n",
       "      <th>treatment_flg</th>\n",
       "      <th>purchased</th>\n",
       "    </tr>\n",
       "  </thead>\n",
       "  <tbody>\n",
       "    <tr>\n",
       "      <th>0</th>\n",
       "      <td>ad6561e2d8</td>\n",
       "      <td>1</td>\n",
       "      <td>1</td>\n",
       "    </tr>\n",
       "    <tr>\n",
       "      <th>1</th>\n",
       "      <td>7c1ccbf93f</td>\n",
       "      <td>1</td>\n",
       "      <td>1</td>\n",
       "    </tr>\n",
       "    <tr>\n",
       "      <th>2</th>\n",
       "      <td>b58fadcab6</td>\n",
       "      <td>1</td>\n",
       "      <td>1</td>\n",
       "    </tr>\n",
       "    <tr>\n",
       "      <th>3</th>\n",
       "      <td>e99e6fabb9</td>\n",
       "      <td>0</td>\n",
       "      <td>0</td>\n",
       "    </tr>\n",
       "    <tr>\n",
       "      <th>4</th>\n",
       "      <td>27fb6f8520</td>\n",
       "      <td>1</td>\n",
       "      <td>1</td>\n",
       "    </tr>\n",
       "    <tr>\n",
       "      <th>...</th>\n",
       "      <td>...</td>\n",
       "      <td>...</td>\n",
       "      <td>...</td>\n",
       "    </tr>\n",
       "    <tr>\n",
       "      <th>140022</th>\n",
       "      <td>999d284453</td>\n",
       "      <td>1</td>\n",
       "      <td>1</td>\n",
       "    </tr>\n",
       "    <tr>\n",
       "      <th>140023</th>\n",
       "      <td>f634deea4e</td>\n",
       "      <td>0</td>\n",
       "      <td>1</td>\n",
       "    </tr>\n",
       "    <tr>\n",
       "      <th>140024</th>\n",
       "      <td>16cb4f99b0</td>\n",
       "      <td>0</td>\n",
       "      <td>1</td>\n",
       "    </tr>\n",
       "    <tr>\n",
       "      <th>140025</th>\n",
       "      <td>23c2b72b2e</td>\n",
       "      <td>1</td>\n",
       "      <td>1</td>\n",
       "    </tr>\n",
       "    <tr>\n",
       "      <th>140026</th>\n",
       "      <td>1430184499</td>\n",
       "      <td>0</td>\n",
       "      <td>1</td>\n",
       "    </tr>\n",
       "  </tbody>\n",
       "</table>\n",
       "<p>140027 rows × 3 columns</p>\n",
       "</div>"
      ],
      "text/plain": [
       "         client_id  treatment_flg  purchased\n",
       "0       ad6561e2d8              1          1\n",
       "1       7c1ccbf93f              1          1\n",
       "2       b58fadcab6              1          1\n",
       "3       e99e6fabb9              0          0\n",
       "4       27fb6f8520              1          1\n",
       "...            ...            ...        ...\n",
       "140022  999d284453              1          1\n",
       "140023  f634deea4e              0          1\n",
       "140024  16cb4f99b0              0          1\n",
       "140025  23c2b72b2e              1          1\n",
       "140026  1430184499              0          1\n",
       "\n",
       "[140027 rows x 3 columns]"
      ]
     },
     "execution_count": 3,
     "metadata": {},
     "output_type": "execute_result"
    }
   ],
   "source": [
    "pd.read_csv('train.csv')"
   ]
  }
 ],
 "metadata": {
  "kernelspec": {
   "display_name": "Python 3 (ipykernel)",
   "language": "python",
   "name": "python3"
  },
  "language_info": {
   "codemirror_mode": {
    "name": "ipython",
    "version": 3
   },
   "file_extension": ".py",
   "mimetype": "text/x-python",
   "name": "python",
   "nbconvert_exporter": "python",
   "pygments_lexer": "ipython3",
   "version": "3.10.8"
  }
 },
 "nbformat": 4,
 "nbformat_minor": 5
}
