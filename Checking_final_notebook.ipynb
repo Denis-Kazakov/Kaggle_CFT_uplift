{
 "cells": [
  {
   "cell_type": "markdown",
   "id": "7e9471f7",
   "metadata": {},
   "source": [
    "# Final notebook check\n",
    "Checking to see whether final clean notebook produces the same results as were submitted"
   ]
  },
  {
   "cell_type": "code",
   "execution_count": 1,
   "id": "a402b5ba",
   "metadata": {},
   "outputs": [],
   "source": [
    "import pandas as pd"
   ]
  },
  {
   "cell_type": "code",
   "execution_count": 2,
   "id": "e0ee9441",
   "metadata": {},
   "outputs": [],
   "source": [
    "final_pred = pd.read_csv('submit_best_features.csv', index_col='client_id')\n",
    "as_submitted = pd.read_csv('submit_best_features.csv', index_col='client_id')"
   ]
  },
  {
   "cell_type": "code",
   "execution_count": 3,
   "id": "eba35711",
   "metadata": {},
   "outputs": [
    {
     "data": {
      "text/plain": [
       "True"
      ]
     },
     "execution_count": 3,
     "metadata": {},
     "output_type": "execute_result"
    }
   ],
   "source": [
    "final_pred.equals(as_submitted)"
   ]
  }
 ],
 "metadata": {
  "kernelspec": {
   "display_name": "Python 3 (ipykernel)",
   "language": "python",
   "name": "python3"
  },
  "language_info": {
   "codemirror_mode": {
    "name": "ipython",
    "version": 3
   },
   "file_extension": ".py",
   "mimetype": "text/x-python",
   "name": "python",
   "nbconvert_exporter": "python",
   "pygments_lexer": "ipython3",
   "version": "3.10.8"
  }
 },
 "nbformat": 4,
 "nbformat_minor": 5
}
